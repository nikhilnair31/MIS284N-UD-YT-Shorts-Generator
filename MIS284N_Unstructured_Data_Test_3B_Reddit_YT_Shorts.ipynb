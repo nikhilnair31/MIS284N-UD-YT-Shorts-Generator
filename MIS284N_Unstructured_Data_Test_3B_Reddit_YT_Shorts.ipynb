{
  "nbformat": 4,
  "nbformat_minor": 0,
  "metadata": {
    "colab": {
      "provenance": [],
      "toc_visible": true,
      "authorship_tag": "ABX9TyMPoJZ9BaBxeoskhcGUqxh6",
      "include_colab_link": true
    },
    "kernelspec": {
      "name": "python3",
      "display_name": "Python 3"
    },
    "language_info": {
      "name": "python"
    }
  },
  "cells": [
    {
      "cell_type": "markdown",
      "metadata": {
        "id": "view-in-github",
        "colab_type": "text"
      },
      "source": [
        "<a href=\"https://colab.research.google.com/github/nikhilnair31/MIS284N-UD-YT-Shorts-Generator/blob/main/MIS284N_Unstructured_Data_Test_3B_Reddit_YT_Shorts.ipynb\" target=\"_parent\"><img src=\"https://colab.research.google.com/assets/colab-badge.svg\" alt=\"Open In Colab\"/></a>"
      ]
    },
    {
      "cell_type": "markdown",
      "source": [
        "## Setup"
      ],
      "metadata": {
        "id": "fz1jmQFQlGCq"
      }
    },
    {
      "cell_type": "markdown",
      "source": [
        "### Install and Import"
      ],
      "metadata": {
        "id": "V3abnKXazsvN"
      }
    },
    {
      "cell_type": "code",
      "execution_count": null,
      "metadata": {
        "id": "fctxJ9LCdQBx",
        "collapsed": true
      },
      "outputs": [],
      "source": [
        "!pip install praw openai whisper elevenlabs replicate\n",
        "!pip install opencv-python-headless moviepy\n",
        "!pip install google-auth google-auth-oauthlib\n",
        "!pip install --upgrade google-auth"
      ]
    },
    {
      "cell_type": "code",
      "source": [
        "import re\n",
        "import os\n",
        "import sys\n",
        "import json\n",
        "import time\n",
        "import numpy as np\n",
        "import pandas as pd\n",
        "from datetime import datetime\n",
        "\n",
        "from google.colab import drive\n",
        "from IPython.display import Image, display"
      ],
      "metadata": {
        "id": "hpKbMj-wdscB"
      },
      "execution_count": null,
      "outputs": []
    },
    {
      "cell_type": "markdown",
      "source": [
        "### Filter Warnings"
      ],
      "metadata": {
        "id": "vIgNz7Rizg3d"
      }
    },
    {
      "cell_type": "code",
      "source": [
        "import warnings\n",
        "\n",
        "warnings.filterwarnings(\"ignore\", category=UserWarning, message=\"It appears that you are using PRAW in an asynchronous environment.\")\n",
        "warnings.filterwarnings(\"ignore\", category=DeprecationWarning)"
      ],
      "metadata": {
        "id": "1CoMPzjZzhvc"
      },
      "execution_count": null,
      "outputs": []
    },
    {
      "cell_type": "markdown",
      "source": [
        "### Load Drive and Env Vars"
      ],
      "metadata": {
        "id": "bzldGXLLz2oE"
      }
    },
    {
      "cell_type": "code",
      "source": [
        "# Mount Google Drive\n",
        "drive.mount('/content/drive')"
      ],
      "metadata": {
        "colab": {
          "base_uri": "https://localhost:8080/"
        },
        "id": "qWsPTapNd-K4",
        "outputId": "1f12a72c-67b6-4f27-b08b-4d777aa77cfe"
      },
      "execution_count": null,
      "outputs": [
        {
          "output_type": "stream",
          "name": "stdout",
          "text": [
            "Mounted at /content/drive\n"
          ]
        }
      ]
    },
    {
      "cell_type": "code",
      "source": [
        "# Specify the path to the shell script file\n",
        "script_path = \"/content/drive/MyDrive/Colab Notebooks/UD/Others/env_vars.sh\"\n",
        "\n",
        "# Read the shell script file\n",
        "with open(script_path) as file:\n",
        "    script_content = file.readlines()\n",
        "\n",
        "# Extract environment variables and assign them to os.environ\n",
        "for line in script_content:\n",
        "    if line.startswith(\"export \"):\n",
        "        key, value = line[len(\"export \"):].strip().split(\"=\")\n",
        "        os.environ[key] = value.strip('\"')"
      ],
      "metadata": {
        "id": "BAv8ir2jqcEt"
      },
      "execution_count": null,
      "outputs": []
    },
    {
      "cell_type": "code",
      "source": [
        "os.environ['REDDIT_USER_AGENT']"
      ],
      "metadata": {
        "colab": {
          "base_uri": "https://localhost:8080/",
          "height": 36
        },
        "id": "PTrjewUEqcID",
        "outputId": "e9d388e2-41ed-4cce-9e16-8208cadccf34"
      },
      "execution_count": null,
      "outputs": [
        {
          "output_type": "execute_result",
          "data": {
            "text/plain": [
              "'Test UT'"
            ],
            "application/vnd.google.colaboratory.intrinsic+json": {
              "type": "string"
            }
          },
          "metadata": {},
          "execution_count": 6
        }
      ]
    },
    {
      "cell_type": "markdown",
      "source": [
        "# Reddit Shorts Generation"
      ],
      "metadata": {
        "id": "_OIUgwxPwNn5"
      }
    },
    {
      "cell_type": "markdown",
      "source": [
        "## Reddit Scrape"
      ],
      "metadata": {
        "id": "P-q-WZt0gc6W"
      }
    },
    {
      "cell_type": "code",
      "source": [
        "import praw"
      ],
      "metadata": {
        "id": "fZ8jtxPwz_Hu"
      },
      "execution_count": null,
      "outputs": []
    },
    {
      "cell_type": "code",
      "source": [
        "# Create a Reddit API instance\n",
        "reddit = praw.Reddit(\n",
        "    client_id=os.environ['REDDIT_CLIENT_ID'],\n",
        "    client_secret=os.environ['REDDIT_CLIENT_SECRET'],\n",
        "    user_agent=os.environ['REDDIT_USER_AGENT']\n",
        ")"
      ],
      "metadata": {
        "id": "LIFbkiSY0Ank"
      },
      "execution_count": null,
      "outputs": []
    },
    {
      "cell_type": "code",
      "source": [
        "total_media_to_retrieve = 35\n",
        "results = []\n",
        "params = {'limit': 7}  # Specify the number of items per request\n",
        "\n",
        "while len(results) < total_media_to_retrieve:\n",
        "    remaining_to_retrieve = total_media_to_retrieve - len(results)\n",
        "    current_limit = min(remaining_to_retrieve, params['limit'])\n",
        "\n",
        "    batch = list(reddit.subreddit(\"shortscarystories\").top(limit=current_limit, params=params, time_filter=\"week\"))\n",
        "\n",
        "    if not batch:\n",
        "        break\n",
        "\n",
        "    results.extend(batch)\n",
        "\n",
        "    params = {'limit': params['limit'], 'after': batch[-1].fullname}"
      ],
      "metadata": {
        "collapsed": true,
        "id": "coZrij2Hgfyl",
        "colab": {
          "base_uri": "https://localhost:8080/"
        },
        "outputId": "2d7be9a5-e997-4452-8363-5eb75cb7a62d"
      },
      "execution_count": null,
      "outputs": [
        {
          "output_type": "stream",
          "name": "stderr",
          "text": [
            "WARNING:praw:It appears that you are using PRAW in an asynchronous environment.\n",
            "It is strongly recommended to use Async PRAW: https://asyncpraw.readthedocs.io.\n",
            "See https://praw.readthedocs.io/en/latest/getting_started/multiple_instances.html#discord-bots-and-asynchronous-environments for more info.\n",
            "\n",
            "WARNING:praw:It appears that you are using PRAW in an asynchronous environment.\n",
            "It is strongly recommended to use Async PRAW: https://asyncpraw.readthedocs.io.\n",
            "See https://praw.readthedocs.io/en/latest/getting_started/multiple_instances.html#discord-bots-and-asynchronous-environments for more info.\n",
            "\n",
            "WARNING:praw:It appears that you are using PRAW in an asynchronous environment.\n",
            "It is strongly recommended to use Async PRAW: https://asyncpraw.readthedocs.io.\n",
            "See https://praw.readthedocs.io/en/latest/getting_started/multiple_instances.html#discord-bots-and-asynchronous-environments for more info.\n",
            "\n",
            "WARNING:praw:It appears that you are using PRAW in an asynchronous environment.\n",
            "It is strongly recommended to use Async PRAW: https://asyncpraw.readthedocs.io.\n",
            "See https://praw.readthedocs.io/en/latest/getting_started/multiple_instances.html#discord-bots-and-asynchronous-environments for more info.\n",
            "\n",
            "WARNING:praw:It appears that you are using PRAW in an asynchronous environment.\n",
            "It is strongly recommended to use Async PRAW: https://asyncpraw.readthedocs.io.\n",
            "See https://praw.readthedocs.io/en/latest/getting_started/multiple_instances.html#discord-bots-and-asynchronous-environments for more info.\n",
            "\n"
          ]
        }
      ]
    },
    {
      "cell_type": "code",
      "source": [
        "# Create a dictionary to store post data\n",
        "posts_dict = {}\n",
        "\n",
        "# Iterate through the top posts\n",
        "for i, post in enumerate(results):\n",
        "    posts_dict[i] = {\n",
        "        \"Title\": post.title,\n",
        "        \"Content\": post.selftext,\n",
        "        # \"URL\": post.url,\n",
        "        \"Timestamp\": datetime.utcfromtimestamp(post.created_utc).strftime('%Y-%m-%d %H:%M:%S UTC'),\n",
        "        \"Upvotes\": post.ups,\n",
        "        \"Total Comments\": post.num_comments,\n",
        "    }"
      ],
      "metadata": {
        "id": "EcMxBtWWgfym"
      },
      "execution_count": null,
      "outputs": []
    },
    {
      "cell_type": "code",
      "source": [
        "# Create a DataFrame from the dictionary\n",
        "test_df = pd.DataFrame(posts_dict).T\n",
        "# Convert \"Timestamp\" column to datetime\n",
        "test_df[\"Timestamp\"] = pd.to_datetime(test_df[\"Timestamp\"])\n",
        "# Check post content length\n",
        "test_df[\"Post Length\"] = test_df['Content'].apply(len)\n",
        "\n",
        "test_df.head()"
      ],
      "metadata": {
        "id": "Vw8c2E-bgfyn",
        "colab": {
          "base_uri": "https://localhost:8080/"
        },
        "outputId": "aff6206f-f5ee-45d0-aa89-d15f68562d3b"
      },
      "execution_count": null,
      "outputs": [
        {
          "output_type": "execute_result",
          "data": {
            "text/plain": [
              "                                               Title  \\\n",
              "0  I deserved the divorce. But no one deserves wh...   \n",
              "1                                 How to cheat Death   \n",
              "2  My girlfriend says I’m becoming the man of her...   \n",
              "3                                   “Lucky” Survivor   \n",
              "4           I really couldn’t ask for a better wife.   \n",
              "\n",
              "                                             Content  \\\n",
              "0  Alimony bleeds me dry every paycheck, but that...   \n",
              "1  *Cheating Death is easy— People do it unconsci...   \n",
              "2  The day I bought DreamSync was the first time ...   \n",
              "3  I was a “lucky” survivor.\\n\\nIt was a sunny da...   \n",
              "4  I have been blessed most of my life.  I got a ...   \n",
              "\n",
              "                  Timestamp Upvotes Total Comments  Post Length  \n",
              "0 2023-08-25 18:01:30+00:00    1086             62         2562  \n",
              "1 2023-08-28 03:13:08+00:00    1088             37         2474  \n",
              "2 2023-08-28 15:55:50+00:00     788             36         2685  \n",
              "3 2023-08-26 03:48:54+00:00     576             29         2691  \n",
              "4 2023-08-28 13:53:52+00:00     510             17         2400  "
            ],
            "text/html": [
              "\n",
              "  <div id=\"df-fc261f49-3652-4515-bfde-08f28093a453\" class=\"colab-df-container\">\n",
              "    <div>\n",
              "<style scoped>\n",
              "    .dataframe tbody tr th:only-of-type {\n",
              "        vertical-align: middle;\n",
              "    }\n",
              "\n",
              "    .dataframe tbody tr th {\n",
              "        vertical-align: top;\n",
              "    }\n",
              "\n",
              "    .dataframe thead th {\n",
              "        text-align: right;\n",
              "    }\n",
              "</style>\n",
              "<table border=\"1\" class=\"dataframe\">\n",
              "  <thead>\n",
              "    <tr style=\"text-align: right;\">\n",
              "      <th></th>\n",
              "      <th>Title</th>\n",
              "      <th>Content</th>\n",
              "      <th>Timestamp</th>\n",
              "      <th>Upvotes</th>\n",
              "      <th>Total Comments</th>\n",
              "      <th>Post Length</th>\n",
              "    </tr>\n",
              "  </thead>\n",
              "  <tbody>\n",
              "    <tr>\n",
              "      <th>0</th>\n",
              "      <td>I deserved the divorce. But no one deserves wh...</td>\n",
              "      <td>Alimony bleeds me dry every paycheck, but that...</td>\n",
              "      <td>2023-08-25 18:01:30+00:00</td>\n",
              "      <td>1086</td>\n",
              "      <td>62</td>\n",
              "      <td>2562</td>\n",
              "    </tr>\n",
              "    <tr>\n",
              "      <th>1</th>\n",
              "      <td>How to cheat Death</td>\n",
              "      <td>*Cheating Death is easy— People do it unconsci...</td>\n",
              "      <td>2023-08-28 03:13:08+00:00</td>\n",
              "      <td>1088</td>\n",
              "      <td>37</td>\n",
              "      <td>2474</td>\n",
              "    </tr>\n",
              "    <tr>\n",
              "      <th>2</th>\n",
              "      <td>My girlfriend says I’m becoming the man of her...</td>\n",
              "      <td>The day I bought DreamSync was the first time ...</td>\n",
              "      <td>2023-08-28 15:55:50+00:00</td>\n",
              "      <td>788</td>\n",
              "      <td>36</td>\n",
              "      <td>2685</td>\n",
              "    </tr>\n",
              "    <tr>\n",
              "      <th>3</th>\n",
              "      <td>“Lucky” Survivor</td>\n",
              "      <td>I was a “lucky” survivor.\\n\\nIt was a sunny da...</td>\n",
              "      <td>2023-08-26 03:48:54+00:00</td>\n",
              "      <td>576</td>\n",
              "      <td>29</td>\n",
              "      <td>2691</td>\n",
              "    </tr>\n",
              "    <tr>\n",
              "      <th>4</th>\n",
              "      <td>I really couldn’t ask for a better wife.</td>\n",
              "      <td>I have been blessed most of my life.  I got a ...</td>\n",
              "      <td>2023-08-28 13:53:52+00:00</td>\n",
              "      <td>510</td>\n",
              "      <td>17</td>\n",
              "      <td>2400</td>\n",
              "    </tr>\n",
              "  </tbody>\n",
              "</table>\n",
              "</div>\n",
              "    <div class=\"colab-df-buttons\">\n",
              "\n",
              "  <div class=\"colab-df-container\">\n",
              "    <button class=\"colab-df-convert\" onclick=\"convertToInteractive('df-fc261f49-3652-4515-bfde-08f28093a453')\"\n",
              "            title=\"Convert this dataframe to an interactive table.\"\n",
              "            style=\"display:none;\">\n",
              "\n",
              "  <svg xmlns=\"http://www.w3.org/2000/svg\" height=\"24px\" viewBox=\"0 -960 960 960\">\n",
              "    <path d=\"M120-120v-720h720v720H120Zm60-500h600v-160H180v160Zm220 220h160v-160H400v160Zm0 220h160v-160H400v160ZM180-400h160v-160H180v160Zm440 0h160v-160H620v160ZM180-180h160v-160H180v160Zm440 0h160v-160H620v160Z\"/>\n",
              "  </svg>\n",
              "    </button>\n",
              "\n",
              "  <style>\n",
              "    .colab-df-container {\n",
              "      display:flex;\n",
              "      gap: 12px;\n",
              "    }\n",
              "\n",
              "    .colab-df-convert {\n",
              "      background-color: #E8F0FE;\n",
              "      border: none;\n",
              "      border-radius: 50%;\n",
              "      cursor: pointer;\n",
              "      display: none;\n",
              "      fill: #1967D2;\n",
              "      height: 32px;\n",
              "      padding: 0 0 0 0;\n",
              "      width: 32px;\n",
              "    }\n",
              "\n",
              "    .colab-df-convert:hover {\n",
              "      background-color: #E2EBFA;\n",
              "      box-shadow: 0px 1px 2px rgba(60, 64, 67, 0.3), 0px 1px 3px 1px rgba(60, 64, 67, 0.15);\n",
              "      fill: #174EA6;\n",
              "    }\n",
              "\n",
              "    .colab-df-buttons div {\n",
              "      margin-bottom: 4px;\n",
              "    }\n",
              "\n",
              "    [theme=dark] .colab-df-convert {\n",
              "      background-color: #3B4455;\n",
              "      fill: #D2E3FC;\n",
              "    }\n",
              "\n",
              "    [theme=dark] .colab-df-convert:hover {\n",
              "      background-color: #434B5C;\n",
              "      box-shadow: 0px 1px 3px 1px rgba(0, 0, 0, 0.15);\n",
              "      filter: drop-shadow(0px 1px 2px rgba(0, 0, 0, 0.3));\n",
              "      fill: #FFFFFF;\n",
              "    }\n",
              "  </style>\n",
              "\n",
              "    <script>\n",
              "      const buttonEl =\n",
              "        document.querySelector('#df-fc261f49-3652-4515-bfde-08f28093a453 button.colab-df-convert');\n",
              "      buttonEl.style.display =\n",
              "        google.colab.kernel.accessAllowed ? 'block' : 'none';\n",
              "\n",
              "      async function convertToInteractive(key) {\n",
              "        const element = document.querySelector('#df-fc261f49-3652-4515-bfde-08f28093a453');\n",
              "        const dataTable =\n",
              "          await google.colab.kernel.invokeFunction('convertToInteractive',\n",
              "                                                    [key], {});\n",
              "        if (!dataTable) return;\n",
              "\n",
              "        const docLinkHtml = 'Like what you see? Visit the ' +\n",
              "          '<a target=\"_blank\" href=https://colab.research.google.com/notebooks/data_table.ipynb>data table notebook</a>'\n",
              "          + ' to learn more about interactive tables.';\n",
              "        element.innerHTML = '';\n",
              "        dataTable['output_type'] = 'display_data';\n",
              "        await google.colab.output.renderOutput(dataTable, element);\n",
              "        const docLink = document.createElement('div');\n",
              "        docLink.innerHTML = docLinkHtml;\n",
              "        element.appendChild(docLink);\n",
              "      }\n",
              "    </script>\n",
              "  </div>\n",
              "\n",
              "\n",
              "<div id=\"df-255aded5-53e8-4958-b6fa-7f24079615f0\">\n",
              "  <button class=\"colab-df-quickchart\" onclick=\"quickchart('df-255aded5-53e8-4958-b6fa-7f24079615f0')\"\n",
              "            title=\"Suggest charts.\"\n",
              "            style=\"display:none;\">\n",
              "\n",
              "<svg xmlns=\"http://www.w3.org/2000/svg\" height=\"24px\"viewBox=\"0 0 24 24\"\n",
              "     width=\"24px\">\n",
              "    <g>\n",
              "        <path d=\"M19 3H5c-1.1 0-2 .9-2 2v14c0 1.1.9 2 2 2h14c1.1 0 2-.9 2-2V5c0-1.1-.9-2-2-2zM9 17H7v-7h2v7zm4 0h-2V7h2v10zm4 0h-2v-4h2v4z\"/>\n",
              "    </g>\n",
              "</svg>\n",
              "  </button>\n",
              "\n",
              "<style>\n",
              "  .colab-df-quickchart {\n",
              "      --bg-color: #E8F0FE;\n",
              "      --fill-color: #1967D2;\n",
              "      --hover-bg-color: #E2EBFA;\n",
              "      --hover-fill-color: #174EA6;\n",
              "      --disabled-fill-color: #AAA;\n",
              "      --disabled-bg-color: #DDD;\n",
              "  }\n",
              "\n",
              "  [theme=dark] .colab-df-quickchart {\n",
              "      --bg-color: #3B4455;\n",
              "      --fill-color: #D2E3FC;\n",
              "      --hover-bg-color: #434B5C;\n",
              "      --hover-fill-color: #FFFFFF;\n",
              "      --disabled-bg-color: #3B4455;\n",
              "      --disabled-fill-color: #666;\n",
              "  }\n",
              "\n",
              "  .colab-df-quickchart {\n",
              "    background-color: var(--bg-color);\n",
              "    border: none;\n",
              "    border-radius: 50%;\n",
              "    cursor: pointer;\n",
              "    display: none;\n",
              "    fill: var(--fill-color);\n",
              "    height: 32px;\n",
              "    padding: 0;\n",
              "    width: 32px;\n",
              "  }\n",
              "\n",
              "  .colab-df-quickchart:hover {\n",
              "    background-color: var(--hover-bg-color);\n",
              "    box-shadow: 0 1px 2px rgba(60, 64, 67, 0.3), 0 1px 3px 1px rgba(60, 64, 67, 0.15);\n",
              "    fill: var(--button-hover-fill-color);\n",
              "  }\n",
              "\n",
              "  .colab-df-quickchart-complete:disabled,\n",
              "  .colab-df-quickchart-complete:disabled:hover {\n",
              "    background-color: var(--disabled-bg-color);\n",
              "    fill: var(--disabled-fill-color);\n",
              "    box-shadow: none;\n",
              "  }\n",
              "\n",
              "  .colab-df-spinner {\n",
              "    border: 2px solid var(--fill-color);\n",
              "    border-color: transparent;\n",
              "    border-bottom-color: var(--fill-color);\n",
              "    animation:\n",
              "      spin 1s steps(1) infinite;\n",
              "  }\n",
              "\n",
              "  @keyframes spin {\n",
              "    0% {\n",
              "      border-color: transparent;\n",
              "      border-bottom-color: var(--fill-color);\n",
              "      border-left-color: var(--fill-color);\n",
              "    }\n",
              "    20% {\n",
              "      border-color: transparent;\n",
              "      border-left-color: var(--fill-color);\n",
              "      border-top-color: var(--fill-color);\n",
              "    }\n",
              "    30% {\n",
              "      border-color: transparent;\n",
              "      border-left-color: var(--fill-color);\n",
              "      border-top-color: var(--fill-color);\n",
              "      border-right-color: var(--fill-color);\n",
              "    }\n",
              "    40% {\n",
              "      border-color: transparent;\n",
              "      border-right-color: var(--fill-color);\n",
              "      border-top-color: var(--fill-color);\n",
              "    }\n",
              "    60% {\n",
              "      border-color: transparent;\n",
              "      border-right-color: var(--fill-color);\n",
              "    }\n",
              "    80% {\n",
              "      border-color: transparent;\n",
              "      border-right-color: var(--fill-color);\n",
              "      border-bottom-color: var(--fill-color);\n",
              "    }\n",
              "    90% {\n",
              "      border-color: transparent;\n",
              "      border-bottom-color: var(--fill-color);\n",
              "    }\n",
              "  }\n",
              "</style>\n",
              "\n",
              "  <script>\n",
              "    async function quickchart(key) {\n",
              "      const quickchartButtonEl =\n",
              "        document.querySelector('#' + key + ' button');\n",
              "      quickchartButtonEl.disabled = true;  // To prevent multiple clicks.\n",
              "      quickchartButtonEl.classList.add('colab-df-spinner');\n",
              "      try {\n",
              "        const charts = await google.colab.kernel.invokeFunction(\n",
              "            'suggestCharts', [key], {});\n",
              "      } catch (error) {\n",
              "        console.error('Error during call to suggestCharts:', error);\n",
              "      }\n",
              "      quickchartButtonEl.classList.remove('colab-df-spinner');\n",
              "      quickchartButtonEl.classList.add('colab-df-quickchart-complete');\n",
              "    }\n",
              "    (() => {\n",
              "      let quickchartButtonEl =\n",
              "        document.querySelector('#df-255aded5-53e8-4958-b6fa-7f24079615f0 button');\n",
              "      quickchartButtonEl.style.display =\n",
              "        google.colab.kernel.accessAllowed ? 'block' : 'none';\n",
              "    })();\n",
              "  </script>\n",
              "</div>\n",
              "    </div>\n",
              "  </div>\n"
            ]
          },
          "metadata": {},
          "execution_count": 11
        }
      ]
    },
    {
      "cell_type": "code",
      "source": [
        "min_test_df = test_df.sort_values(by=['Post Length'], ascending=[True])[:7]\n",
        "min_test_df"
      ],
      "metadata": {
        "colab": {
          "base_uri": "https://localhost:8080/"
        },
        "id": "cDRxkdvfh1WT",
        "outputId": "0f465ff5-c7c5-41bf-fbc8-ea99fd5f3a14"
      },
      "execution_count": null,
      "outputs": [
        {
          "output_type": "execute_result",
          "data": {
            "text/plain": [
              "                                               Title  \\\n",
              "21  I'm never telling anyone about my son's \"quirks\"   \n",
              "32                      I Must put Food on the Table   \n",
              "25                                   License to Kill   \n",
              "30                “The machines have a religion now”   \n",
              "27                               Just a little while   \n",
              "14                             She’ll Only Play Once   \n",
              "24                                   I Love My Uncle   \n",
              "\n",
              "                                              Content  \\\n",
              "21  He's different, but not worse. I love him with...   \n",
              "32  After the outbreak many jobs that were outlawe...   \n",
              "25  *One...*\\n\\nA methed up woman, screaming somet...   \n",
              "30  In a distant future, humanity’s insatiable que...   \n",
              "27  Do you ever just wish you could disappear for ...   \n",
              "14  Her face is pale, and she is crying. Good. I l...   \n",
              "24  I love my uncle!!!\\n\\nMy uncle Abel is the bes...   \n",
              "\n",
              "                   Timestamp Upvotes Total Comments  Post Length  \n",
              "21 2023-08-29 15:24:36+00:00     133              6          610  \n",
              "32 2023-08-30 00:16:27+00:00      74              2          765  \n",
              "25 2023-08-25 19:27:04+00:00     112              9         1177  \n",
              "30 2023-08-25 03:08:31+00:00      79              7         1232  \n",
              "27 2023-08-26 14:22:10+00:00     110             14         1255  \n",
              "14 2023-08-27 16:10:52+00:00     235             13         1527  \n",
              "24 2023-08-29 19:48:05+00:00     112              8         1627  "
            ],
            "text/html": [
              "\n",
              "  <div id=\"df-02e6e4d8-d066-44b3-ac2d-a9c84a817617\" class=\"colab-df-container\">\n",
              "    <div>\n",
              "<style scoped>\n",
              "    .dataframe tbody tr th:only-of-type {\n",
              "        vertical-align: middle;\n",
              "    }\n",
              "\n",
              "    .dataframe tbody tr th {\n",
              "        vertical-align: top;\n",
              "    }\n",
              "\n",
              "    .dataframe thead th {\n",
              "        text-align: right;\n",
              "    }\n",
              "</style>\n",
              "<table border=\"1\" class=\"dataframe\">\n",
              "  <thead>\n",
              "    <tr style=\"text-align: right;\">\n",
              "      <th></th>\n",
              "      <th>Title</th>\n",
              "      <th>Content</th>\n",
              "      <th>Timestamp</th>\n",
              "      <th>Upvotes</th>\n",
              "      <th>Total Comments</th>\n",
              "      <th>Post Length</th>\n",
              "    </tr>\n",
              "  </thead>\n",
              "  <tbody>\n",
              "    <tr>\n",
              "      <th>21</th>\n",
              "      <td>I'm never telling anyone about my son's \"quirks\"</td>\n",
              "      <td>He's different, but not worse. I love him with...</td>\n",
              "      <td>2023-08-29 15:24:36+00:00</td>\n",
              "      <td>133</td>\n",
              "      <td>6</td>\n",
              "      <td>610</td>\n",
              "    </tr>\n",
              "    <tr>\n",
              "      <th>32</th>\n",
              "      <td>I Must put Food on the Table</td>\n",
              "      <td>After the outbreak many jobs that were outlawe...</td>\n",
              "      <td>2023-08-30 00:16:27+00:00</td>\n",
              "      <td>74</td>\n",
              "      <td>2</td>\n",
              "      <td>765</td>\n",
              "    </tr>\n",
              "    <tr>\n",
              "      <th>25</th>\n",
              "      <td>License to Kill</td>\n",
              "      <td>*One...*\\n\\nA methed up woman, screaming somet...</td>\n",
              "      <td>2023-08-25 19:27:04+00:00</td>\n",
              "      <td>112</td>\n",
              "      <td>9</td>\n",
              "      <td>1177</td>\n",
              "    </tr>\n",
              "    <tr>\n",
              "      <th>30</th>\n",
              "      <td>“The machines have a religion now”</td>\n",
              "      <td>In a distant future, humanity’s insatiable que...</td>\n",
              "      <td>2023-08-25 03:08:31+00:00</td>\n",
              "      <td>79</td>\n",
              "      <td>7</td>\n",
              "      <td>1232</td>\n",
              "    </tr>\n",
              "    <tr>\n",
              "      <th>27</th>\n",
              "      <td>Just a little while</td>\n",
              "      <td>Do you ever just wish you could disappear for ...</td>\n",
              "      <td>2023-08-26 14:22:10+00:00</td>\n",
              "      <td>110</td>\n",
              "      <td>14</td>\n",
              "      <td>1255</td>\n",
              "    </tr>\n",
              "    <tr>\n",
              "      <th>14</th>\n",
              "      <td>She’ll Only Play Once</td>\n",
              "      <td>Her face is pale, and she is crying. Good. I l...</td>\n",
              "      <td>2023-08-27 16:10:52+00:00</td>\n",
              "      <td>235</td>\n",
              "      <td>13</td>\n",
              "      <td>1527</td>\n",
              "    </tr>\n",
              "    <tr>\n",
              "      <th>24</th>\n",
              "      <td>I Love My Uncle</td>\n",
              "      <td>I love my uncle!!!\\n\\nMy uncle Abel is the bes...</td>\n",
              "      <td>2023-08-29 19:48:05+00:00</td>\n",
              "      <td>112</td>\n",
              "      <td>8</td>\n",
              "      <td>1627</td>\n",
              "    </tr>\n",
              "  </tbody>\n",
              "</table>\n",
              "</div>\n",
              "    <div class=\"colab-df-buttons\">\n",
              "\n",
              "  <div class=\"colab-df-container\">\n",
              "    <button class=\"colab-df-convert\" onclick=\"convertToInteractive('df-02e6e4d8-d066-44b3-ac2d-a9c84a817617')\"\n",
              "            title=\"Convert this dataframe to an interactive table.\"\n",
              "            style=\"display:none;\">\n",
              "\n",
              "  <svg xmlns=\"http://www.w3.org/2000/svg\" height=\"24px\" viewBox=\"0 -960 960 960\">\n",
              "    <path d=\"M120-120v-720h720v720H120Zm60-500h600v-160H180v160Zm220 220h160v-160H400v160Zm0 220h160v-160H400v160ZM180-400h160v-160H180v160Zm440 0h160v-160H620v160ZM180-180h160v-160H180v160Zm440 0h160v-160H620v160Z\"/>\n",
              "  </svg>\n",
              "    </button>\n",
              "\n",
              "  <style>\n",
              "    .colab-df-container {\n",
              "      display:flex;\n",
              "      gap: 12px;\n",
              "    }\n",
              "\n",
              "    .colab-df-convert {\n",
              "      background-color: #E8F0FE;\n",
              "      border: none;\n",
              "      border-radius: 50%;\n",
              "      cursor: pointer;\n",
              "      display: none;\n",
              "      fill: #1967D2;\n",
              "      height: 32px;\n",
              "      padding: 0 0 0 0;\n",
              "      width: 32px;\n",
              "    }\n",
              "\n",
              "    .colab-df-convert:hover {\n",
              "      background-color: #E2EBFA;\n",
              "      box-shadow: 0px 1px 2px rgba(60, 64, 67, 0.3), 0px 1px 3px 1px rgba(60, 64, 67, 0.15);\n",
              "      fill: #174EA6;\n",
              "    }\n",
              "\n",
              "    .colab-df-buttons div {\n",
              "      margin-bottom: 4px;\n",
              "    }\n",
              "\n",
              "    [theme=dark] .colab-df-convert {\n",
              "      background-color: #3B4455;\n",
              "      fill: #D2E3FC;\n",
              "    }\n",
              "\n",
              "    [theme=dark] .colab-df-convert:hover {\n",
              "      background-color: #434B5C;\n",
              "      box-shadow: 0px 1px 3px 1px rgba(0, 0, 0, 0.15);\n",
              "      filter: drop-shadow(0px 1px 2px rgba(0, 0, 0, 0.3));\n",
              "      fill: #FFFFFF;\n",
              "    }\n",
              "  </style>\n",
              "\n",
              "    <script>\n",
              "      const buttonEl =\n",
              "        document.querySelector('#df-02e6e4d8-d066-44b3-ac2d-a9c84a817617 button.colab-df-convert');\n",
              "      buttonEl.style.display =\n",
              "        google.colab.kernel.accessAllowed ? 'block' : 'none';\n",
              "\n",
              "      async function convertToInteractive(key) {\n",
              "        const element = document.querySelector('#df-02e6e4d8-d066-44b3-ac2d-a9c84a817617');\n",
              "        const dataTable =\n",
              "          await google.colab.kernel.invokeFunction('convertToInteractive',\n",
              "                                                    [key], {});\n",
              "        if (!dataTable) return;\n",
              "\n",
              "        const docLinkHtml = 'Like what you see? Visit the ' +\n",
              "          '<a target=\"_blank\" href=https://colab.research.google.com/notebooks/data_table.ipynb>data table notebook</a>'\n",
              "          + ' to learn more about interactive tables.';\n",
              "        element.innerHTML = '';\n",
              "        dataTable['output_type'] = 'display_data';\n",
              "        await google.colab.output.renderOutput(dataTable, element);\n",
              "        const docLink = document.createElement('div');\n",
              "        docLink.innerHTML = docLinkHtml;\n",
              "        element.appendChild(docLink);\n",
              "      }\n",
              "    </script>\n",
              "  </div>\n",
              "\n",
              "\n",
              "<div id=\"df-2a08adfe-0025-4201-9c8b-caaf2c19b72d\">\n",
              "  <button class=\"colab-df-quickchart\" onclick=\"quickchart('df-2a08adfe-0025-4201-9c8b-caaf2c19b72d')\"\n",
              "            title=\"Suggest charts.\"\n",
              "            style=\"display:none;\">\n",
              "\n",
              "<svg xmlns=\"http://www.w3.org/2000/svg\" height=\"24px\"viewBox=\"0 0 24 24\"\n",
              "     width=\"24px\">\n",
              "    <g>\n",
              "        <path d=\"M19 3H5c-1.1 0-2 .9-2 2v14c0 1.1.9 2 2 2h14c1.1 0 2-.9 2-2V5c0-1.1-.9-2-2-2zM9 17H7v-7h2v7zm4 0h-2V7h2v10zm4 0h-2v-4h2v4z\"/>\n",
              "    </g>\n",
              "</svg>\n",
              "  </button>\n",
              "\n",
              "<style>\n",
              "  .colab-df-quickchart {\n",
              "      --bg-color: #E8F0FE;\n",
              "      --fill-color: #1967D2;\n",
              "      --hover-bg-color: #E2EBFA;\n",
              "      --hover-fill-color: #174EA6;\n",
              "      --disabled-fill-color: #AAA;\n",
              "      --disabled-bg-color: #DDD;\n",
              "  }\n",
              "\n",
              "  [theme=dark] .colab-df-quickchart {\n",
              "      --bg-color: #3B4455;\n",
              "      --fill-color: #D2E3FC;\n",
              "      --hover-bg-color: #434B5C;\n",
              "      --hover-fill-color: #FFFFFF;\n",
              "      --disabled-bg-color: #3B4455;\n",
              "      --disabled-fill-color: #666;\n",
              "  }\n",
              "\n",
              "  .colab-df-quickchart {\n",
              "    background-color: var(--bg-color);\n",
              "    border: none;\n",
              "    border-radius: 50%;\n",
              "    cursor: pointer;\n",
              "    display: none;\n",
              "    fill: var(--fill-color);\n",
              "    height: 32px;\n",
              "    padding: 0;\n",
              "    width: 32px;\n",
              "  }\n",
              "\n",
              "  .colab-df-quickchart:hover {\n",
              "    background-color: var(--hover-bg-color);\n",
              "    box-shadow: 0 1px 2px rgba(60, 64, 67, 0.3), 0 1px 3px 1px rgba(60, 64, 67, 0.15);\n",
              "    fill: var(--button-hover-fill-color);\n",
              "  }\n",
              "\n",
              "  .colab-df-quickchart-complete:disabled,\n",
              "  .colab-df-quickchart-complete:disabled:hover {\n",
              "    background-color: var(--disabled-bg-color);\n",
              "    fill: var(--disabled-fill-color);\n",
              "    box-shadow: none;\n",
              "  }\n",
              "\n",
              "  .colab-df-spinner {\n",
              "    border: 2px solid var(--fill-color);\n",
              "    border-color: transparent;\n",
              "    border-bottom-color: var(--fill-color);\n",
              "    animation:\n",
              "      spin 1s steps(1) infinite;\n",
              "  }\n",
              "\n",
              "  @keyframes spin {\n",
              "    0% {\n",
              "      border-color: transparent;\n",
              "      border-bottom-color: var(--fill-color);\n",
              "      border-left-color: var(--fill-color);\n",
              "    }\n",
              "    20% {\n",
              "      border-color: transparent;\n",
              "      border-left-color: var(--fill-color);\n",
              "      border-top-color: var(--fill-color);\n",
              "    }\n",
              "    30% {\n",
              "      border-color: transparent;\n",
              "      border-left-color: var(--fill-color);\n",
              "      border-top-color: var(--fill-color);\n",
              "      border-right-color: var(--fill-color);\n",
              "    }\n",
              "    40% {\n",
              "      border-color: transparent;\n",
              "      border-right-color: var(--fill-color);\n",
              "      border-top-color: var(--fill-color);\n",
              "    }\n",
              "    60% {\n",
              "      border-color: transparent;\n",
              "      border-right-color: var(--fill-color);\n",
              "    }\n",
              "    80% {\n",
              "      border-color: transparent;\n",
              "      border-right-color: var(--fill-color);\n",
              "      border-bottom-color: var(--fill-color);\n",
              "    }\n",
              "    90% {\n",
              "      border-color: transparent;\n",
              "      border-bottom-color: var(--fill-color);\n",
              "    }\n",
              "  }\n",
              "</style>\n",
              "\n",
              "  <script>\n",
              "    async function quickchart(key) {\n",
              "      const quickchartButtonEl =\n",
              "        document.querySelector('#' + key + ' button');\n",
              "      quickchartButtonEl.disabled = true;  // To prevent multiple clicks.\n",
              "      quickchartButtonEl.classList.add('colab-df-spinner');\n",
              "      try {\n",
              "        const charts = await google.colab.kernel.invokeFunction(\n",
              "            'suggestCharts', [key], {});\n",
              "      } catch (error) {\n",
              "        console.error('Error during call to suggestCharts:', error);\n",
              "      }\n",
              "      quickchartButtonEl.classList.remove('colab-df-spinner');\n",
              "      quickchartButtonEl.classList.add('colab-df-quickchart-complete');\n",
              "    }\n",
              "    (() => {\n",
              "      let quickchartButtonEl =\n",
              "        document.querySelector('#df-2a08adfe-0025-4201-9c8b-caaf2c19b72d button');\n",
              "      quickchartButtonEl.style.display =\n",
              "        google.colab.kernel.accessAllowed ? 'block' : 'none';\n",
              "    })();\n",
              "  </script>\n",
              "</div>\n",
              "    </div>\n",
              "  </div>\n"
            ]
          },
          "metadata": {},
          "execution_count": 12
        }
      ]
    },
    {
      "cell_type": "markdown",
      "source": [
        "## Seed Content"
      ],
      "metadata": {
        "id": "vGPO46ZAeFF9"
      }
    },
    {
      "cell_type": "code",
      "source": [
        "def preprocess_text(text):\n",
        "    # Remove newlines and extra spaces\n",
        "    text = re.sub(r'\\n', ' ', text)\n",
        "    text = re.sub(r'\\s+', ' ', text).strip()\n",
        "\n",
        "    # Remove asterisks (*) and backslashes (\\)\n",
        "    text = re.sub(r'[\\*\\\\]', '', text)\n",
        "\n",
        "    # Remove digits at the beginning of lines\n",
        "    text = re.sub(r'^\\d+\\s+', '', text, flags=re.MULTILINE)\n",
        "\n",
        "    return text\n",
        "\n",
        "pd.set_option('display.max_colwidth', None)\n",
        "seed_content = str(min_test_df['Content'].iloc[6])\n",
        "preprocessed_content = preprocess_text(seed_content)\n",
        "print(f'original text\\n{seed_content}\\n\\nprocessed text\\n{preprocessed_content}')"
      ],
      "metadata": {
        "colab": {
          "base_uri": "https://localhost:8080/"
        },
        "id": "OI2qapjLxTVr",
        "outputId": "5f09540e-18f2-4dd8-8e17-9a86deb5dcd3"
      },
      "execution_count": null,
      "outputs": [
        {
          "output_type": "stream",
          "name": "stdout",
          "text": [
            "original text\n",
            "I love my uncle!!!\n",
            "\n",
            "My uncle Abel is the bestest uncle in the whole wide world! He’s never working like Mommy always is. He always has time for me. We get to play together every day! He’ll push me on the swings and play with my dolls and color with me. \n",
            "\n",
            "He tells great stories too! Uncle Abel is always telling me about what he and Daddy used to do when they were little. Like how they used to slide down the stairs. I wish I could do that. But the stairs hadn’t had carpet for a very long time. I didn’t even know they had carpet until Uncle Abel told me! I want to slide down them too but Mommy really really doesn’t like me playing on them. \n",
            "\n",
            "Uncle Abel is a great listener too! He always wants to hear about my day. Or how school was. Or about the stray cat that sometimes let me pet him. Or me and Mommy’s visit with Daddy. \n",
            "\n",
            "Uncle Abel sometimes asks me if Daddy looks sad. Daddy always look sad. But that’s cause he doesn’t like not being home with us. Mommy says Daddy made a big mistake and that’s why we can’t live together. Uncle Abel says Daddy is there cause he lied and that Daddy didn’t make no mistake. \n",
            "\n",
            "But Daddy didn’t look sad last time we visited. Daddy was actually very happy! Daddy says he was so good the Big Man is letting him go home!! \n",
            "\n",
            "Mommy is very happy too! She’s been running around getting everything perfect for Daddy. She keeps saying how this will be a new start for us. \n",
            "\n",
            "Uncle Abel is also very happy. He is so happy he asked me to help him make a card for Daddy!! I used my best crayons and markers and glitter. I also made sure to write in really really neat letters\n",
            "\n",
            "Welcome Home Cain\n",
            "\n",
            "processed text\n",
            "I love my uncle!!! My uncle Abel is the bestest uncle in the whole wide world! He’s never working like Mommy always is. He always has time for me. We get to play together every day! He’ll push me on the swings and play with my dolls and color with me. He tells great stories too! Uncle Abel is always telling me about what he and Daddy used to do when they were little. Like how they used to slide down the stairs. I wish I could do that. But the stairs hadn’t had carpet for a very long time. I didn’t even know they had carpet until Uncle Abel told me! I want to slide down them too but Mommy really really doesn’t like me playing on them. Uncle Abel is a great listener too! He always wants to hear about my day. Or how school was. Or about the stray cat that sometimes let me pet him. Or me and Mommy’s visit with Daddy. Uncle Abel sometimes asks me if Daddy looks sad. Daddy always look sad. But that’s cause he doesn’t like not being home with us. Mommy says Daddy made a big mistake and that’s why we can’t live together. Uncle Abel says Daddy is there cause he lied and that Daddy didn’t make no mistake. But Daddy didn’t look sad last time we visited. Daddy was actually very happy! Daddy says he was so good the Big Man is letting him go home!! Mommy is very happy too! She’s been running around getting everything perfect for Daddy. She keeps saying how this will be a new start for us. Uncle Abel is also very happy. He is so happy he asked me to help him make a card for Daddy!! I used my best crayons and markers and glitter. I also made sure to write in really really neat letters Welcome Home Cain\n"
          ]
        }
      ]
    },
    {
      "cell_type": "markdown",
      "source": [
        "## Generating Title and Description"
      ],
      "metadata": {
        "id": "59FwLmWZeNoi"
      }
    },
    {
      "cell_type": "code",
      "source": [
        "import openai"
      ],
      "metadata": {
        "id": "Bt7LXfuDrLka"
      },
      "execution_count": null,
      "outputs": []
    },
    {
      "cell_type": "code",
      "source": [
        "openai.api_key = os.environ['OPENAI_API_KEY']"
      ],
      "metadata": {
        "id": "Mk1iQvsHevYw"
      },
      "execution_count": null,
      "outputs": []
    },
    {
      "cell_type": "code",
      "source": [
        "def generate_title(prompt, script):\n",
        "    response = openai.ChatCompletion.create(\n",
        "        model=\"gpt-3.5-turbo\",\n",
        "        messages=[{\"role\": \"system\", \"content\": prompt},\n",
        "                  {\"role\": \"user\", \"content\": script}],\n",
        "        temperature=1,\n",
        "        max_tokens=256,\n",
        "        top_p=1,\n",
        "        frequency_penalty=0,\n",
        "        presence_penalty=0\n",
        "    )\n",
        "\n",
        "    return response.choices[0].message['content']"
      ],
      "metadata": {
        "id": "qxfN8ekhevgD"
      },
      "execution_count": null,
      "outputs": []
    },
    {
      "cell_type": "code",
      "source": [
        "shorts_title = generate_title(\"Generate a very short title for a YouTube Short based on the script. Make it similar to the examples below. Examples: - Scary things hidden in normal photos Part#28 - This is the scariest video on the internet... - Scary video😳 #shorts\", preprocessed_content)\n",
        "shorts_description = generate_title(\"Generate a very short description for a YouTube Short\", preprocessed_content)\n",
        "\n",
        "shorts_title = shorts_title.replace(\"\\\"\",\"\")\n",
        "shorts_description = shorts_description.replace(\"\\\"\",\"\")\n",
        "\n",
        "print(f'Title: {shorts_title}\\nDescription: {shorts_description}\\n')"
      ],
      "metadata": {
        "colab": {
          "base_uri": "https://localhost:8080/"
        },
        "id": "HGLJkPV5M95C",
        "outputId": "74924561-f26f-4cd8-82d9-ab507c3b921c"
      },
      "execution_count": null,
      "outputs": [
        {
          "output_type": "stream",
          "name": "stdout",
          "text": [
            "Title: Uncle Abel's Surprise for Daddy #shorts\n",
            "Description: Uncle Abel's Heartwarming Welcome Home Surprise for Daddy\n",
            "\n"
          ]
        }
      ]
    },
    {
      "cell_type": "code",
      "source": [
        "folder_title = shorts_title.replace(\"\\\"\",\"\").split()[0]\n",
        "folder_title"
      ],
      "metadata": {
        "colab": {
          "base_uri": "https://localhost:8080/"
        },
        "id": "vh1VpRxIzqyA",
        "outputId": "7ce032b0-01d8-4903-c679-a9608acb859c"
      },
      "execution_count": null,
      "outputs": [
        {
          "output_type": "execute_result",
          "data": {
            "text/plain": [
              "'Uncle'"
            ],
            "application/vnd.google.colaboratory.intrinsic+json": {
              "type": "string"
            }
          },
          "metadata": {},
          "execution_count": 18
        }
      ]
    },
    {
      "cell_type": "markdown",
      "source": [
        "## Image Prompts"
      ],
      "metadata": {
        "id": "oov31bAReZEZ"
      }
    },
    {
      "cell_type": "code",
      "source": [
        "def generate_image_prompts(gpt_type, prompt, script):\n",
        "    response = openai.ChatCompletion.create(\n",
        "        model=gpt_type,\n",
        "        messages=[{\"role\": \"system\", \"content\": prompt},\n",
        "                  {\"role\": \"user\", \"content\": script}],\n",
        "        temperature=1,\n",
        "        max_tokens=1024,\n",
        "        top_p=1,\n",
        "        frequency_penalty=0,\n",
        "        presence_penalty=0\n",
        "    )\n",
        "\n",
        "    image_prompts_str = response.choices[0].message['content']\n",
        "    image_prompts_str = re.sub(r'[^\\w\\s]', '', image_prompts_str)\n",
        "    image_prompts_str = re.sub(r'[^a-zA-Z\\s]', '', image_prompts_str)\n",
        "    image_prompts = image_prompts_str.lower().split('\\n')\n",
        "    image_prompts = list(map(lambda prompt: f\"{prompt.strip()}\", image_prompts))\n",
        "\n",
        "    return image_prompts"
      ],
      "metadata": {
        "id": "V_lKAVADfOqf"
      },
      "execution_count": null,
      "outputs": []
    },
    {
      "cell_type": "code",
      "source": [
        "gpt_type = \"gpt-3.5-turbo\"\n",
        "gpt_prompt = \"\"\"\n",
        "  Generate 6 short one liner prompts for DALLE-2/Midjourney/StableDiffusion prompt image generation. The prompt I give will be the script for a video.\n",
        "  Prompts should be very short but descriptive with no NSFW content.\n",
        "\"\"\"\n",
        "image_prompts = generate_image_prompts(gpt_type, gpt_prompt, preprocessed_content)\n",
        "image_prompts"
      ],
      "metadata": {
        "colab": {
          "base_uri": "https://localhost:8080/"
        },
        "id": "KLtIVo2Uwc-_",
        "outputId": "4374c4e5-21e6-4aaa-a9e0-8fe8e7001032"
      },
      "execution_count": null,
      "outputs": [
        {
          "output_type": "execute_result",
          "data": {
            "text/plain": [
              "['a heartwarming tale of a special bond between a child and her beloved uncle',\n",
              " 'unleash your inner child with uncle abel as they embark on daily adventures',\n",
              " 'discover the magic of family through the eyes of a little girl and her caring uncle',\n",
              " 'when a childs innocent perspective reveals the true meaning of happiness',\n",
              " 'experience the joy of reconnecting through a handmade card and a longawaited homecoming',\n",
              " 'join an extraordinary uncle who goes above and beyond to create priceless memories for his niece']"
            ]
          },
          "metadata": {},
          "execution_count": 20
        }
      ]
    },
    {
      "cell_type": "code",
      "source": [
        "gpt_type = \"gpt-3.5-turbo\"\n",
        "gpt_prompt = \"\"\"\n",
        "  Generate 1 short one liner prompts for DALLE-2/Midjourney/StableDiffusion prompt thumbnail generation. The prompt I give will be the script for a video.\n",
        "  Prompts should be very short but descriptive with no NSFW content.\n",
        "\"\"\"\n",
        "thumbnail_prompts = generate_image_prompts(gpt_type, gpt_prompt, preprocessed_content)\n",
        "thumbnail_prompts"
      ],
      "metadata": {
        "colab": {
          "base_uri": "https://localhost:8080/"
        },
        "id": "rX5BA08pgun0",
        "outputId": "9f5fcc01-5427-412f-8f41-e5e2b3a9cc6a"
      },
      "execution_count": null,
      "outputs": [
        {
          "output_type": "execute_result",
          "data": {
            "text/plain": [
              "['uncle abels love a heartwarming story of family reunion and a special card for daddy']"
            ]
          },
          "metadata": {},
          "execution_count": 21
        }
      ]
    },
    {
      "cell_type": "markdown",
      "source": [
        "## Image Generation"
      ],
      "metadata": {
        "id": "iIm8bflgeccm"
      }
    },
    {
      "cell_type": "code",
      "source": [
        "import replicate"
      ],
      "metadata": {
        "id": "JnFI2kaGr3jF"
      },
      "execution_count": null,
      "outputs": []
    },
    {
      "cell_type": "code",
      "source": [
        "client = replicate.Client(api_token=os.environ[\"STABLEDIFFUSION_API_KEY\"])"
      ],
      "metadata": {
        "id": "YXj4SKuvfXoU"
      },
      "execution_count": null,
      "outputs": []
    },
    {
      "cell_type": "code",
      "source": [
        "def generate_stablediffusion_image(image_prompt):\n",
        "    output = client.run(\n",
        "        \"stability-ai/stable-diffusion:ac732df83cea7fff18b8472768c88ad041fa750ff7682a21affe81863cbe77e4\",\n",
        "        input = {\n",
        "            \"prompt\": image_prompt,\n",
        "            \"height\": 1024,\n",
        "            \"width\": 576,\n",
        "            \"num_outputs\": 1,\n",
        "            \"num_inference_steps\": 50,\n",
        "            \"guidance_scale\": 7.5,\n",
        "            \"scheduler\": 'DPMSolverMultistep',\n",
        "            \"seed\": 42\n",
        "        }\n",
        "    )\n",
        "    return output[0]"
      ],
      "metadata": {
        "id": "RuS4rV4ZfY2d"
      },
      "execution_count": null,
      "outputs": []
    },
    {
      "cell_type": "code",
      "source": [
        "thumbnail_image = generate_stablediffusion_image(thumbnail_prompts[0])\n",
        "thumbnail_image"
      ],
      "metadata": {
        "colab": {
          "base_uri": "https://localhost:8080/",
          "height": 36
        },
        "id": "8z_chIyAgnaD",
        "outputId": "41bb5df5-cb5e-4fb5-99dc-118babf91b8e"
      },
      "execution_count": null,
      "outputs": [
        {
          "output_type": "execute_result",
          "data": {
            "text/plain": [
              "'https://pbxt.replicate.delivery/HjhFGQucOMJONtIgtnkdRi58bGEA1R8RJYf67ubOe2S8ipfiA/out-0.png'"
            ],
            "application/vnd.google.colaboratory.intrinsic+json": {
              "type": "string"
            }
          },
          "metadata": {},
          "execution_count": 26
        }
      ]
    },
    {
      "cell_type": "code",
      "source": [
        "generated_images = [generate_stablediffusion_image(prompt) for prompt in image_prompts]\n",
        "generated_images"
      ],
      "metadata": {
        "id": "PI7tzs5v2NUr"
      },
      "execution_count": null,
      "outputs": []
    },
    {
      "cell_type": "code",
      "source": [
        "import urllib.request\n",
        "\n",
        "# Set the directory path to save the images\n",
        "directory_path = f\"/content/drive/MyDrive/Colab Notebooks/UD/{folder_title}/img\"\n",
        "\n",
        "# Create the directory if it does not exist\n",
        "if not os.path.exists(directory_path):\n",
        "    os.makedirs(directory_path)\n",
        "\n",
        "# Save thumbnail image to the folder\n",
        "thumbnail_file_path = f\"{directory_path}/image_0.jpg\"\n",
        "urllib.request.urlretrieve(thumbnail_image, thumbnail_file_path)\n",
        "print(f\"Image 0 saved successfully at {thumbnail_file_path}.\")\n",
        "\n",
        "# Save video images to the folder\n",
        "for i, image_url in enumerate(generated_images):\n",
        "    file_path = f\"{directory_path}/image_{i+1}.jpg\"\n",
        "    urllib.request.urlretrieve(image_url, file_path)\n",
        "    print(f\"Image {i+1} saved successfully at {file_path}.\")"
      ],
      "metadata": {
        "id": "VfwhTKrLxwVc"
      },
      "execution_count": null,
      "outputs": []
    },
    {
      "cell_type": "markdown",
      "source": [
        "## Audio Generation"
      ],
      "metadata": {
        "id": "gIOLbbV0efjx"
      }
    },
    {
      "cell_type": "code",
      "source": [
        "from elevenlabs import set_api_key, generate, play"
      ],
      "metadata": {
        "id": "EaKvFviChB4j"
      },
      "execution_count": null,
      "outputs": []
    },
    {
      "cell_type": "code",
      "source": [
        "set_api_key(os.environ[\"ELEVENLABS_API_KEY\"])"
      ],
      "metadata": {
        "id": "cXnkw3-tsWDp"
      },
      "execution_count": null,
      "outputs": []
    },
    {
      "cell_type": "code",
      "source": [
        "# Generate audio using 'elevenlabs' package\n",
        "audio = generate(\n",
        "    text=preprocessed_content,\n",
        "    voice=\"Nicole\",\n",
        "    model=\"eleven_monolingual_v1\"\n",
        ")\n",
        "\n",
        "# Set the directory path to save the images\n",
        "directory_path = f\"/content/drive/MyDrive/Colab Notebooks/UD/{folder_title}/aud\"\n",
        "\n",
        "# Create the directory if it does not exist\n",
        "if not os.path.exists(directory_path):\n",
        "    os.makedirs(directory_path)\n",
        "\n",
        "audio_file_path = os.path.join(directory_path, f\"audio_0.wav\")\n",
        "\n",
        "# Save the generated audio to the temporary directory\n",
        "with open(audio_file_path, 'wb') as f:\n",
        "    f.write(audio)"
      ],
      "metadata": {
        "id": "Snmv08Bzx5t-"
      },
      "execution_count": null,
      "outputs": []
    },
    {
      "cell_type": "markdown",
      "source": [
        "## Generating SRT (To Be Fixed)"
      ],
      "metadata": {
        "id": "JWDqOb8Rx56F"
      }
    },
    {
      "cell_type": "code",
      "source": [
        "preprocessed_content"
      ],
      "metadata": {
        "colab": {
          "base_uri": "https://localhost:8080/"
        },
        "id": "_IYIOD_dfzLI",
        "outputId": "42bc2df3-0d49-40dc-ed24-4a447ac319a6"
      },
      "execution_count": null,
      "outputs": [
        {
          "output_type": "execute_result",
          "data": {
            "text/plain": [
              "\"He's different, but not worse. I love him with my whole heart and I can tell he loves me back. Sure, he has weird food preferences, but who doesn't? I'm still teaching him to talk properly, even though he's 10, because no one would understand what he has to say - not because he's stupid, rather because he's a genius. And he's a very fast runner (I'm a proud mom if you can't tell). It's not that I'm ashamed of his differences - I just don't want him to be attacked by the mindless masses. The world is a cruel place. It's my job as a mom to make it better. He's a good person at heart - just not infected.\""
            ],
            "application/vnd.google.colaboratory.intrinsic+json": {
              "type": "string"
            }
          },
          "metadata": {},
          "execution_count": 53
        }
      ]
    },
    {
      "cell_type": "code",
      "source": [
        "for i, (text, start, end) in enumerate(preprocessed_content):\n",
        "    print(f'{text} - {start} - {end}')"
      ],
      "metadata": {
        "colab": {
          "base_uri": "https://localhost:8080/"
        },
        "id": "g0xEFrTnf24Y",
        "outputId": "09ef1642-b1b1-4dc3-8abc-afb4f3fe0c1d"
      },
      "execution_count": null,
      "outputs": [
        {
          "output_type": "error",
          "ename": "ValueError",
          "evalue": "ignored",
          "traceback": [
            "\u001b[0;31m---------------------------------------------------------------------------\u001b[0m",
            "\u001b[0;31mValueError\u001b[0m                                Traceback (most recent call last)",
            "\u001b[0;32m<ipython-input-54-f176bc9a510f>\u001b[0m in \u001b[0;36m<cell line: 1>\u001b[0;34m()\u001b[0m\n\u001b[0;32m----> 1\u001b[0;31m \u001b[0;32mfor\u001b[0m \u001b[0mi\u001b[0m\u001b[0;34m,\u001b[0m \u001b[0;34m(\u001b[0m\u001b[0mtext\u001b[0m\u001b[0;34m,\u001b[0m \u001b[0mstart\u001b[0m\u001b[0;34m,\u001b[0m \u001b[0mend\u001b[0m\u001b[0;34m)\u001b[0m \u001b[0;32min\u001b[0m \u001b[0menumerate\u001b[0m\u001b[0;34m(\u001b[0m\u001b[0mpreprocessed_content\u001b[0m\u001b[0;34m)\u001b[0m\u001b[0;34m:\u001b[0m\u001b[0;34m\u001b[0m\u001b[0;34m\u001b[0m\u001b[0m\n\u001b[0m\u001b[1;32m      2\u001b[0m     \u001b[0mprint\u001b[0m\u001b[0;34m(\u001b[0m\u001b[0;34mf'{text} - {start} - {end}'\u001b[0m\u001b[0;34m)\u001b[0m\u001b[0;34m\u001b[0m\u001b[0;34m\u001b[0m\u001b[0m\n",
            "\u001b[0;31mValueError\u001b[0m: not enough values to unpack (expected 3, got 1)"
          ]
        }
      ]
    },
    {
      "cell_type": "code",
      "source": [
        "import whisper\n",
        "\n",
        "def create_srt_from_mp3(srt_path):\n",
        "    with open(srt_path, 'w') as srt_file:\n",
        "        for i, (text, start, end) in enumerate(preprocessed_content):\n",
        "            duration = end - start\n",
        "\n",
        "            # If the duration is less than or equal to 1 second, consider it as a one-word caption\n",
        "            if duration.total_seconds() <= 1:\n",
        "                srt_file.write(f\"{i + 1}\\n\")\n",
        "                srt_file.write(f\"{start.strftime('%H:%M:%S,%f')[:-3]} --> {end.strftime('%H:%M:%S,%f')[:-3]}\\n\")\n",
        "                srt_file.write(f\"{text}\\n\\n\")\n",
        "\n",
        "    print(f\"SRT file created!\")\n",
        "\n",
        "srt_path = directory_path+'/captions_0.srt'\n",
        "\n",
        "create_srt_from_mp3(srt_path)"
      ],
      "metadata": {
        "colab": {
          "base_uri": "https://localhost:8080/"
        },
        "id": "DwNTiBkSx7XL",
        "outputId": "5b092ead-7c99-4f55-9bba-8e22577f41db"
      },
      "execution_count": null,
      "outputs": [
        {
          "output_type": "error",
          "ename": "ValueError",
          "evalue": "ignored",
          "traceback": [
            "\u001b[0;31m---------------------------------------------------------------------------\u001b[0m",
            "\u001b[0;31mValueError\u001b[0m                                Traceback (most recent call last)",
            "\u001b[0;32m<ipython-input-51-343762d31188>\u001b[0m in \u001b[0;36m<cell line: 28>\u001b[0;34m()\u001b[0m\n\u001b[1;32m     26\u001b[0m \u001b[0msrt_path\u001b[0m \u001b[0;34m=\u001b[0m \u001b[0mdirectory_path\u001b[0m\u001b[0;34m+\u001b[0m\u001b[0;34m'/captions_0.srt'\u001b[0m\u001b[0;34m\u001b[0m\u001b[0;34m\u001b[0m\u001b[0m\n\u001b[1;32m     27\u001b[0m \u001b[0;34m\u001b[0m\u001b[0m\n\u001b[0;32m---> 28\u001b[0;31m \u001b[0mcreate_srt_from_mp3\u001b[0m\u001b[0;34m(\u001b[0m\u001b[0mmp3_path\u001b[0m\u001b[0;34m,\u001b[0m \u001b[0msrt_path\u001b[0m\u001b[0;34m)\u001b[0m\u001b[0;34m\u001b[0m\u001b[0;34m\u001b[0m\u001b[0m\n\u001b[0m",
            "\u001b[0;32m<ipython-input-51-343762d31188>\u001b[0m in \u001b[0;36mcreate_srt_from_mp3\u001b[0;34m(mp3_path, srt_path)\u001b[0m\n\u001b[1;32m     11\u001b[0m \u001b[0;34m\u001b[0m\u001b[0m\n\u001b[1;32m     12\u001b[0m     \u001b[0;32mwith\u001b[0m \u001b[0mopen\u001b[0m\u001b[0;34m(\u001b[0m\u001b[0msrt_path\u001b[0m\u001b[0;34m,\u001b[0m \u001b[0;34m'w'\u001b[0m\u001b[0;34m)\u001b[0m \u001b[0;32mas\u001b[0m \u001b[0msrt_file\u001b[0m\u001b[0;34m:\u001b[0m\u001b[0;34m\u001b[0m\u001b[0;34m\u001b[0m\u001b[0m\n\u001b[0;32m---> 13\u001b[0;31m         \u001b[0;32mfor\u001b[0m \u001b[0mi\u001b[0m\u001b[0;34m,\u001b[0m \u001b[0;34m(\u001b[0m\u001b[0mtext\u001b[0m\u001b[0;34m,\u001b[0m \u001b[0mstart\u001b[0m\u001b[0;34m,\u001b[0m \u001b[0mend\u001b[0m\u001b[0;34m)\u001b[0m \u001b[0;32min\u001b[0m \u001b[0menumerate\u001b[0m\u001b[0;34m(\u001b[0m\u001b[0mtranscripts\u001b[0m\u001b[0;34m)\u001b[0m\u001b[0;34m:\u001b[0m\u001b[0;34m\u001b[0m\u001b[0;34m\u001b[0m\u001b[0m\n\u001b[0m\u001b[1;32m     14\u001b[0m             \u001b[0mduration\u001b[0m \u001b[0;34m=\u001b[0m \u001b[0mend\u001b[0m \u001b[0;34m-\u001b[0m \u001b[0mstart\u001b[0m\u001b[0;34m\u001b[0m\u001b[0;34m\u001b[0m\u001b[0m\n\u001b[1;32m     15\u001b[0m \u001b[0;34m\u001b[0m\u001b[0m\n",
            "\u001b[0;31mValueError\u001b[0m: too many values to unpack (expected 3)"
          ]
        }
      ]
    },
    {
      "cell_type": "markdown",
      "source": [
        "## Compositing"
      ],
      "metadata": {
        "id": "FlJ3hPsVehWw"
      }
    },
    {
      "cell_type": "code",
      "source": [
        "from moviepy.editor import ImageClip, concatenate_videoclips\n",
        "from moviepy.editor import AudioFileClip\n",
        "\n",
        "# Paths to images and audio\n",
        "images_folder = f'/content/drive/MyDrive/Colab Notebooks/UD/{folder_title}/img/'\n",
        "audio_file_path = f'/content/drive/MyDrive/Colab Notebooks/UD/{folder_title}/aud/audio_0.wav'\n",
        "\n",
        "# Get image files from the folder. Sort image files by name. Create a list of image paths\n",
        "image_files = [f for f in os.listdir(images_folder) if f.endswith('.jpg')]\n",
        "image_files.sort()\n",
        "image_paths = [os.path.join(images_folder, f) for f in image_files]\n",
        "\n",
        "# Load audio clip\n",
        "audio_clip = AudioFileClip(audio_file_path)\n",
        "\n",
        "# Calculate duration per image\n",
        "duration_per_image = audio_clip.duration / len(image_paths)\n",
        "\n",
        "# Create video clips for each image\n",
        "video_clips = []\n",
        "for image_path in image_paths:\n",
        "    img_clip = ImageClip(image_path, duration=duration_per_image).resize((1080, 1920))\n",
        "    video_clips.append(img_clip)\n",
        "\n",
        "# Concatenate video clips. Set audio for the concatenated video. Set the FPS for the final video\n",
        "concatenated_clips = concatenate_videoclips(video_clips, method=\"compose\")\n",
        "final_clip = concatenated_clips.set_audio(audio_clip)\n",
        "final_clip.fps = 24\n",
        "\n",
        "# Set the directory path to save the images. Create the directory if it does not exist\n",
        "directory_path = f\"/content/drive/MyDrive/Colab Notebooks/UD/{folder_title}/output\"\n",
        "if not os.path.exists(directory_path):\n",
        "    os.makedirs(directory_path)\n",
        "\n",
        "# Export the video\n",
        "formatted_timestamp = datetime.now().strftime('%Y%m%d%H%M%S')\n",
        "output_video_path = directory_path+f'/output_{formatted_timestamp}_reddit.mp4'\n",
        "final_clip.write_videofile(output_video_path, codec='libx264', threads=4)"
      ],
      "metadata": {
        "colab": {
          "base_uri": "https://localhost:8080/"
        },
        "outputId": "7c3e59bb-cf13-46cb-e596-1071e367614d",
        "id": "PIOZR_MOybVm"
      },
      "execution_count": null,
      "outputs": [
        {
          "output_type": "stream",
          "name": "stdout",
          "text": [
            "Moviepy - Building video /content/drive/MyDrive/Colab Notebooks/UD/My/output/output_20230830213527_reddit.mp4.\n",
            "MoviePy - Writing audio in output_20230830213527_redditTEMP_MPY_wvf_snd.mp3\n"
          ]
        },
        {
          "output_type": "stream",
          "name": "stderr",
          "text": []
        },
        {
          "output_type": "stream",
          "name": "stdout",
          "text": [
            "MoviePy - Done.\n",
            "Moviepy - Writing video /content/drive/MyDrive/Colab Notebooks/UD/My/output/output_20230830213527_reddit.mp4\n",
            "\n"
          ]
        },
        {
          "output_type": "stream",
          "name": "stderr",
          "text": []
        },
        {
          "output_type": "stream",
          "name": "stdout",
          "text": [
            "Moviepy - Done !\n",
            "Moviepy - video ready /content/drive/MyDrive/Colab Notebooks/UD/My/output/output_20230830213527_reddit.mp4\n"
          ]
        }
      ]
    },
    {
      "cell_type": "code",
      "source": [
        "import cv2\n",
        "from moviepy.editor import VideoFileClip\n",
        "\n",
        "def pipeline(frame, word):\n",
        "    global curr_frame\n",
        "\n",
        "    if curr_frame < frames_per_word and len(word) > 0:\n",
        "        text = word[0]\n",
        "    elif curr_frame >= frames_per_word:\n",
        "        if len(word) > 1:\n",
        "            text = word.pop(0)\n",
        "        else:\n",
        "            text = word[0]\n",
        "\n",
        "        curr_frame = 0\n",
        "\n",
        "    curr_frame += 1\n",
        "\n",
        "    cv2.resize(frame, (1080, 1920))\n",
        "\n",
        "    height, width, _ = frame.shape\n",
        "\n",
        "    (text_width, text_height), _ = cv2.getTextSize(text, cv2.FONT_ITALIC, 4, 50)\n",
        "\n",
        "    text_x = (width - text_width) // 2\n",
        "    text_y = (height + text_height) // 2\n",
        "\n",
        "    cv2.putText(frame, text, (text_x, text_y), cv2.FONT_ITALIC, 4, (0, 0, 0), 50, cv2.LINE_AA)\n",
        "    cv2.putText(frame, text, (text_x, text_y), cv2.FONT_ITALIC, 4, (255, 255, 255), 10, cv2.LINE_AA)\n",
        "\n",
        "    return frame\n",
        "\n",
        "curr_frame = 0\n",
        "words = [word.replace(\",\", \"\").replace(\".\", \"\") for word in preprocessed_content.upper().split()]\n",
        "total_frames = int(cv2.VideoCapture(output_video_path).get(cv2.CAP_PROP_FRAME_COUNT))\n",
        "frames_per_word = int(total_frames / len(words))\n",
        "\n",
        "input_video_path = output_video_path\n",
        "new_output_video_path = directory_path+f\"/output_{formatted_timestamp}_caption_reddit.mp4\"\n",
        "\n",
        "video = VideoFileClip(input_video_path)\n",
        "out_video = video.fl_image(lambda frame: pipeline(frame, words))\n",
        "out_video.write_videofile(new_output_video_path, audio=True, preset='ultrafast')"
      ],
      "metadata": {
        "colab": {
          "base_uri": "https://localhost:8080/"
        },
        "id": "bwnT_qAtAqaI",
        "outputId": "fb995cbd-7bf7-4312-ab87-a79b229784ea"
      },
      "execution_count": null,
      "outputs": [
        {
          "output_type": "stream",
          "name": "stdout",
          "text": [
            "Moviepy - Building video /content/drive/MyDrive/Colab Notebooks/UD/My/output/output_20230830213527_caption_reddit.mp4.\n",
            "MoviePy - Writing audio in output_20230830213527_caption_redditTEMP_MPY_wvf_snd.mp3\n"
          ]
        },
        {
          "output_type": "stream",
          "name": "stderr",
          "text": []
        },
        {
          "output_type": "stream",
          "name": "stdout",
          "text": [
            "MoviePy - Done.\n",
            "Moviepy - Writing video /content/drive/MyDrive/Colab Notebooks/UD/My/output/output_20230830213527_caption_reddit.mp4\n",
            "\n"
          ]
        },
        {
          "output_type": "stream",
          "name": "stderr",
          "text": [
            "t: 100%|█████████▉| 909/910 [00:38<00:00, 17.08it/s, now=None]WARNING:py.warnings:/usr/local/lib/python3.10/dist-packages/moviepy/video/io/ffmpeg_reader.py:123: UserWarning: Warning: in file /content/drive/MyDrive/Colab Notebooks/UD/My/output/output_20230830213527_reddit.mp4, 6220800 bytes wanted but 0 bytes read,at frame 909/910, at time 37.88/37.88 sec. Using the last valid frame instead.\n",
            "  warnings.warn(\"Warning: in file %s, \"%(self.filename)+\n",
            "\n"
          ]
        },
        {
          "output_type": "stream",
          "name": "stdout",
          "text": [
            "Moviepy - Done !\n",
            "Moviepy - video ready /content/drive/MyDrive/Colab Notebooks/UD/My/output/output_20230830213527_caption_reddit.mp4\n"
          ]
        }
      ]
    },
    {
      "cell_type": "markdown",
      "source": [
        "## Uploading"
      ],
      "metadata": {
        "id": "vz3k9tFTejV8"
      }
    },
    {
      "cell_type": "code",
      "source": [
        "import google.auth\n",
        "import google_auth_oauthlib.flow\n",
        "import googleapiclient.discovery\n",
        "import googleapiclient.errors\n",
        "from google.auth.transport.requests import Request\n",
        "from google.oauth2.credentials import Credentials"
      ],
      "metadata": {
        "id": "g-4jxD35iG0W"
      },
      "execution_count": null,
      "outputs": []
    },
    {
      "cell_type": "code",
      "source": [
        "# Load authorized user info from file\n",
        "with open('/content/drive/MyDrive/Colab Notebooks/UD/Others/token.json', 'r') as file:\n",
        "    authorized_user_info = json.load(file)\n",
        "\n",
        "creds = Credentials.from_authorized_user_info(authorized_user_info, ['https://www.googleapis.com/auth/youtube.upload'])\n",
        "creds.refresh(Request())\n",
        "credentials = creds\n",
        "\n",
        "youtube = googleapiclient.discovery.build('youtube', 'v3', credentials=credentials)"
      ],
      "metadata": {
        "id": "FquVmMLzC5OG"
      },
      "execution_count": null,
      "outputs": []
    },
    {
      "cell_type": "code",
      "source": [
        "# Define the function to upload the video file\n",
        "def upload_short(video_title, video_description, video_file_path, thumbnail_path):\n",
        "    request = youtube.videos().insert(\n",
        "        part=\"snippet,status\",\n",
        "        body={\n",
        "            \"snippet\": {\n",
        "                \"title\": video_title,\n",
        "                \"description\": video_description,\n",
        "                \"defaultLanguage\": \"en\",\n",
        "                \"defaultAudioLanguage\": \"en\",\n",
        "                \"channelId\": 'UCQIUg_sLpoqGfRiOJ4L2-TA',\n",
        "                \"thumbnails\": {\n",
        "                    \"default\": {\n",
        "                        \"url\": thumbnail_path\n",
        "                    }\n",
        "                }\n",
        "            },\n",
        "            \"status\": {\n",
        "                \"privacyStatus\": \"public\",\n",
        "                \"madeForKids\": False,\n",
        "                \"selfDeclaredMadeForKids\": False,\n",
        "                \"embeddable\": True,\n",
        "                \"license\": \"youtube\",\n",
        "                \"publicStatsViewable\": True\n",
        "            },\n",
        "        },\n",
        "        media_body=googleapiclient.http.MediaFileUpload(video_file_path),\n",
        "    )\n",
        "    response = request.execute()\n",
        "    return response"
      ],
      "metadata": {
        "id": "zIFW2nHIiDVx"
      },
      "execution_count": null,
      "outputs": []
    },
    {
      "cell_type": "code",
      "source": [
        "# Call the upload function with your desired parameters\n",
        "response = upload_short(shorts_title, shorts_description, new_output_video_path, thumbnail_file_path)\n",
        "response"
      ],
      "metadata": {
        "id": "PKG41khpiDgZ",
        "colab": {
          "base_uri": "https://localhost:8080/"
        },
        "outputId": "e0d9cd33-baf0-491a-ce96-081b2c9a23c8"
      },
      "execution_count": null,
      "outputs": [
        {
          "output_type": "execute_result",
          "data": {
            "text/plain": [
              "{'kind': 'youtube#video',\n",
              " 'etag': 'lU2JI60tCchJ7R1XvF_XF9W4Tis',\n",
              " 'id': 'd3wD5E6rO3Y',\n",
              " 'snippet': {'publishedAt': '2023-08-30T22:02:49Z',\n",
              "  'channelId': 'UCQIUg_sLpoqGfRiOJ4L2-TA',\n",
              "  'title': \"My Extraordinary Son: A Mother's Love #shorts\",\n",
              "  'description': 'Meet My Extraordinary Son: A Story of Love, Neurodiversity, and Embracing Differences',\n",
              "  'thumbnails': {'default': {'url': 'https://i.ytimg.com/vi/d3wD5E6rO3Y/default.jpg',\n",
              "    'width': 120,\n",
              "    'height': 90},\n",
              "   'medium': {'url': 'https://i.ytimg.com/vi/d3wD5E6rO3Y/mqdefault.jpg',\n",
              "    'width': 320,\n",
              "    'height': 180},\n",
              "   'high': {'url': 'https://i.ytimg.com/vi/d3wD5E6rO3Y/hqdefault.jpg',\n",
              "    'width': 480,\n",
              "    'height': 360}},\n",
              "  'channelTitle': 'Eerie Shorts',\n",
              "  'categoryId': '22',\n",
              "  'liveBroadcastContent': 'none',\n",
              "  'defaultLanguage': 'en',\n",
              "  'localized': {'title': \"My Extraordinary Son: A Mother's Love #shorts\",\n",
              "   'description': 'Meet My Extraordinary Son: A Story of Love, Neurodiversity, and Embracing Differences'},\n",
              "  'defaultAudioLanguage': 'en'},\n",
              " 'status': {'uploadStatus': 'uploaded',\n",
              "  'privacyStatus': 'public',\n",
              "  'license': 'youtube',\n",
              "  'embeddable': True,\n",
              "  'publicStatsViewable': True,\n",
              "  'selfDeclaredMadeForKids': False}}"
            ]
          },
          "metadata": {},
          "execution_count": 45
        }
      ]
    }
  ]
}