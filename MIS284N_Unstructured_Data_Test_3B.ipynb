{
  "nbformat": 4,
  "nbformat_minor": 0,
  "metadata": {
    "colab": {
      "provenance": [],
      "toc_visible": true,
      "collapsed_sections": [
        "fz1jmQFQlGCq",
        "oGvrRb95gAuk"
      ],
      "authorship_tag": "ABX9TyOL0nXZbLESPUe7jdUt3Jf2",
      "include_colab_link": true
    },
    "kernelspec": {
      "name": "python3",
      "display_name": "Python 3"
    },
    "language_info": {
      "name": "python"
    }
  },
  "cells": [
    {
      "cell_type": "markdown",
      "metadata": {
        "id": "view-in-github",
        "colab_type": "text"
      },
      "source": [
        "<a href=\"https://colab.research.google.com/github/nikhilnair31/MIS284N-UD-YT-Shorts-Generator/blob/main/MIS284N_Unstructured_Data_Test_3B.ipynb\" target=\"_parent\"><img src=\"https://colab.research.google.com/assets/colab-badge.svg\" alt=\"Open In Colab\"/></a>"
      ]
    },
    {
      "cell_type": "markdown",
      "source": [
        "## Setup"
      ],
      "metadata": {
        "id": "fz1jmQFQlGCq"
      }
    },
    {
      "cell_type": "code",
      "execution_count": null,
      "metadata": {
        "id": "fctxJ9LCdQBx",
        "collapsed": true
      },
      "outputs": [],
      "source": [
        "!apt-get update\n",
        "!apt install chromium-chromedriver\n",
        "!cp /usr/lib/chromium-browser/chromedriver /usr/bin\n",
        "!pip install selenium\n",
        "!pip install openai\n",
        "!pip install praw\n",
        "!pip install elevenlabs\n",
        "!pip install pydub\n",
        "!pip install ffmpeg-python\n",
        "!pip install opencv-python-headless moviepy\n",
        "!pip install replicate\n",
        "!pip install google-auth google-auth-oauthlib\n",
        "!pip install --upgrade google-auth"
      ]
    },
    {
      "cell_type": "code",
      "source": [
        "import re\n",
        "import os\n",
        "import sys\n",
        "import json\n",
        "import time\n",
        "import numpy as np\n",
        "import pandas as pd\n",
        "from datetime import datetime\n",
        "\n",
        "from google.colab import drive\n",
        "from IPython.display import Image, display"
      ],
      "metadata": {
        "id": "hpKbMj-wdscB"
      },
      "execution_count": 9,
      "outputs": []
    },
    {
      "cell_type": "code",
      "source": [
        "# Mount Google Drive\n",
        "drive.mount('/content/drive')"
      ],
      "metadata": {
        "colab": {
          "base_uri": "https://localhost:8080/"
        },
        "id": "qWsPTapNd-K4",
        "outputId": "81142e5e-746d-4ccc-c302-252874c8938b"
      },
      "execution_count": 3,
      "outputs": [
        {
          "output_type": "stream",
          "name": "stdout",
          "text": [
            "Mounted at /content/drive\n"
          ]
        }
      ]
    },
    {
      "cell_type": "code",
      "source": [
        "# Specify the path to the shell script file\n",
        "script_path = \"/content/drive/MyDrive/Colab Notebooks/UD/env_vars.sh\"\n",
        "\n",
        "# Read the shell script file\n",
        "with open(script_path) as file:\n",
        "    script_content = file.readlines()\n",
        "\n",
        "# Extract environment variables and assign them to os.environ\n",
        "for line in script_content:\n",
        "    if line.startswith(\"export \"):\n",
        "        key, value = line[len(\"export \"):].strip().split(\"=\")\n",
        "        os.environ[key] = value.strip('\"')"
      ],
      "metadata": {
        "id": "BAv8ir2jqcEt"
      },
      "execution_count": 31,
      "outputs": []
    },
    {
      "cell_type": "code",
      "source": [
        "os.environ['REDDIT_USER_AGENT']"
      ],
      "metadata": {
        "colab": {
          "base_uri": "https://localhost:8080/",
          "height": 36
        },
        "id": "PTrjewUEqcID",
        "outputId": "072a6522-9ccd-4c5f-b7c9-40ad45f42377"
      },
      "execution_count": 11,
      "outputs": [
        {
          "output_type": "execute_result",
          "data": {
            "text/plain": [
              "'Test UT'"
            ],
            "application/vnd.google.colaboratory.intrinsic+json": {
              "type": "string"
            }
          },
          "metadata": {},
          "execution_count": 11
        }
      ]
    },
    {
      "cell_type": "markdown",
      "source": [
        "# Reddit Shorts Generation"
      ],
      "metadata": {
        "id": "_OIUgwxPwNn5"
      }
    },
    {
      "cell_type": "markdown",
      "source": [
        "## Reddit Scrape"
      ],
      "metadata": {
        "id": "P-q-WZt0gc6W"
      }
    },
    {
      "cell_type": "code",
      "source": [
        "import praw\n",
        "\n",
        "# Create a Reddit API instance\n",
        "reddit = praw.Reddit(\n",
        "    client_id=os.environ['REDDIT_CLIENT_ID'],\n",
        "    client_secret=os.environ['REDDIT_CLIENT_SECRET'],\n",
        "    user_agent=os.environ['REDDIT_USER_AGENT']\n",
        ")\n",
        "\n",
        "# Get the subreddit object\n",
        "subreddit = reddit.subreddit(\"shortscarystories\")\n",
        "# shortscarystories AmItheAsshole"
      ],
      "metadata": {
        "id": "G4XQ7rMZgfyj"
      },
      "execution_count": 12,
      "outputs": []
    },
    {
      "cell_type": "code",
      "source": [
        "total_media_to_retrieve = 35\n",
        "results = []\n",
        "params = {'limit': 7}  # Specify the number of items per request\n",
        "\n",
        "while len(results) < total_media_to_retrieve:\n",
        "    remaining_to_retrieve = total_media_to_retrieve - len(results)\n",
        "    current_limit = min(remaining_to_retrieve, params['limit'])\n",
        "\n",
        "    batch = list(subreddit.top(limit=current_limit, params=params, time_filter=\"week\"))\n",
        "\n",
        "    if not batch:\n",
        "        break\n",
        "\n",
        "    results.extend(batch)\n",
        "\n",
        "    params = {'limit': params['limit'], 'after': batch[-1].fullname}"
      ],
      "metadata": {
        "colab": {
          "base_uri": "https://localhost:8080/"
        },
        "outputId": "8ce50150-3672-4efa-a87e-500a8879ce6e",
        "collapsed": true,
        "id": "coZrij2Hgfyl"
      },
      "execution_count": 13,
      "outputs": [
        {
          "output_type": "stream",
          "name": "stderr",
          "text": [
            "WARNING:praw:It appears that you are using PRAW in an asynchronous environment.\n",
            "It is strongly recommended to use Async PRAW: https://asyncpraw.readthedocs.io.\n",
            "See https://praw.readthedocs.io/en/latest/getting_started/multiple_instances.html#discord-bots-and-asynchronous-environments for more info.\n",
            "\n",
            "WARNING:praw:It appears that you are using PRAW in an asynchronous environment.\n",
            "It is strongly recommended to use Async PRAW: https://asyncpraw.readthedocs.io.\n",
            "See https://praw.readthedocs.io/en/latest/getting_started/multiple_instances.html#discord-bots-and-asynchronous-environments for more info.\n",
            "\n",
            "WARNING:praw:It appears that you are using PRAW in an asynchronous environment.\n",
            "It is strongly recommended to use Async PRAW: https://asyncpraw.readthedocs.io.\n",
            "See https://praw.readthedocs.io/en/latest/getting_started/multiple_instances.html#discord-bots-and-asynchronous-environments for more info.\n",
            "\n",
            "WARNING:praw:It appears that you are using PRAW in an asynchronous environment.\n",
            "It is strongly recommended to use Async PRAW: https://asyncpraw.readthedocs.io.\n",
            "See https://praw.readthedocs.io/en/latest/getting_started/multiple_instances.html#discord-bots-and-asynchronous-environments for more info.\n",
            "\n"
          ]
        }
      ]
    },
    {
      "cell_type": "code",
      "source": [
        "# Create a dictionary to store post data\n",
        "posts_dict = {}\n",
        "\n",
        "# Iterate through the top posts\n",
        "for i, post in enumerate(results):\n",
        "    posts_dict[i] = {\n",
        "        \"Title\": post.title,\n",
        "        \"Content\": post.selftext,\n",
        "        # \"URL\": post.url,\n",
        "        \"Timestamp\": datetime.utcfromtimestamp(post.created_utc).strftime('%Y-%m-%d %H:%M:%S UTC'),\n",
        "        \"Upvotes\": post.ups,\n",
        "        \"Total Comments\": post.num_comments,\n",
        "    }"
      ],
      "metadata": {
        "id": "EcMxBtWWgfym"
      },
      "execution_count": 15,
      "outputs": []
    },
    {
      "cell_type": "code",
      "source": [
        "# Create a DataFrame from the dictionary\n",
        "test_df = pd.DataFrame(posts_dict).T\n",
        "# Convert \"Timestamp\" column to datetime\n",
        "test_df[\"Timestamp\"] = pd.to_datetime(test_df[\"Timestamp\"])\n",
        "# Check post content length\n",
        "test_df[\"Post Length\"] = test_df['Content'].apply(len)\n",
        "\n",
        "test_df.head()"
      ],
      "metadata": {
        "id": "Vw8c2E-bgfyn",
        "colab": {
          "base_uri": "https://localhost:8080/",
          "height": 206
        },
        "outputId": "a2860d6e-1121-47a2-c861-5176f32cfbbe"
      },
      "execution_count": 16,
      "outputs": [
        {
          "output_type": "execute_result",
          "data": {
            "text/plain": [
              "                                               Title  \\\n",
              "0  I deserved the divorce. But no one deserves wh...   \n",
              "1                                 How to cheat Death   \n",
              "2                             My daughter is a bully   \n",
              "3  I ran into my old roommate for the first time ...   \n",
              "4  My girlfriend says I’m becoming the man of her...   \n",
              "\n",
              "                                             Content  \\\n",
              "0  Alimony bleeds me dry every paycheck, but that...   \n",
              "1  *Cheating Death is easy— People do it unconsci...   \n",
              "2  The police found me in an apartment on the wro...   \n",
              "3  While walking down the street, I ran into my o...   \n",
              "4  The day I bought DreamSync was the first time ...   \n",
              "\n",
              "                  Timestamp Upvotes Total Comments  Post Length  \n",
              "0 2023-08-25 18:01:30+00:00    1054             58         2562  \n",
              "1 2023-08-28 03:13:08+00:00    1015             37         2474  \n",
              "2 2023-08-23 11:32:56+00:00     795             14         2823  \n",
              "3 2023-08-23 16:23:17+00:00     733             33         2758  \n",
              "4 2023-08-28 15:55:50+00:00     706             28         2685  "
            ],
            "text/html": [
              "\n",
              "  <div id=\"df-938bdbf5-4d39-44bf-9fd9-ca2c086274d1\" class=\"colab-df-container\">\n",
              "    <div>\n",
              "<style scoped>\n",
              "    .dataframe tbody tr th:only-of-type {\n",
              "        vertical-align: middle;\n",
              "    }\n",
              "\n",
              "    .dataframe tbody tr th {\n",
              "        vertical-align: top;\n",
              "    }\n",
              "\n",
              "    .dataframe thead th {\n",
              "        text-align: right;\n",
              "    }\n",
              "</style>\n",
              "<table border=\"1\" class=\"dataframe\">\n",
              "  <thead>\n",
              "    <tr style=\"text-align: right;\">\n",
              "      <th></th>\n",
              "      <th>Title</th>\n",
              "      <th>Content</th>\n",
              "      <th>Timestamp</th>\n",
              "      <th>Upvotes</th>\n",
              "      <th>Total Comments</th>\n",
              "      <th>Post Length</th>\n",
              "    </tr>\n",
              "  </thead>\n",
              "  <tbody>\n",
              "    <tr>\n",
              "      <th>0</th>\n",
              "      <td>I deserved the divorce. But no one deserves wh...</td>\n",
              "      <td>Alimony bleeds me dry every paycheck, but that...</td>\n",
              "      <td>2023-08-25 18:01:30+00:00</td>\n",
              "      <td>1054</td>\n",
              "      <td>58</td>\n",
              "      <td>2562</td>\n",
              "    </tr>\n",
              "    <tr>\n",
              "      <th>1</th>\n",
              "      <td>How to cheat Death</td>\n",
              "      <td>*Cheating Death is easy— People do it unconsci...</td>\n",
              "      <td>2023-08-28 03:13:08+00:00</td>\n",
              "      <td>1015</td>\n",
              "      <td>37</td>\n",
              "      <td>2474</td>\n",
              "    </tr>\n",
              "    <tr>\n",
              "      <th>2</th>\n",
              "      <td>My daughter is a bully</td>\n",
              "      <td>The police found me in an apartment on the wro...</td>\n",
              "      <td>2023-08-23 11:32:56+00:00</td>\n",
              "      <td>795</td>\n",
              "      <td>14</td>\n",
              "      <td>2823</td>\n",
              "    </tr>\n",
              "    <tr>\n",
              "      <th>3</th>\n",
              "      <td>I ran into my old roommate for the first time ...</td>\n",
              "      <td>While walking down the street, I ran into my o...</td>\n",
              "      <td>2023-08-23 16:23:17+00:00</td>\n",
              "      <td>733</td>\n",
              "      <td>33</td>\n",
              "      <td>2758</td>\n",
              "    </tr>\n",
              "    <tr>\n",
              "      <th>4</th>\n",
              "      <td>My girlfriend says I’m becoming the man of her...</td>\n",
              "      <td>The day I bought DreamSync was the first time ...</td>\n",
              "      <td>2023-08-28 15:55:50+00:00</td>\n",
              "      <td>706</td>\n",
              "      <td>28</td>\n",
              "      <td>2685</td>\n",
              "    </tr>\n",
              "  </tbody>\n",
              "</table>\n",
              "</div>\n",
              "    <div class=\"colab-df-buttons\">\n",
              "\n",
              "  <div class=\"colab-df-container\">\n",
              "    <button class=\"colab-df-convert\" onclick=\"convertToInteractive('df-938bdbf5-4d39-44bf-9fd9-ca2c086274d1')\"\n",
              "            title=\"Convert this dataframe to an interactive table.\"\n",
              "            style=\"display:none;\">\n",
              "\n",
              "  <svg xmlns=\"http://www.w3.org/2000/svg\" height=\"24px\" viewBox=\"0 -960 960 960\">\n",
              "    <path d=\"M120-120v-720h720v720H120Zm60-500h600v-160H180v160Zm220 220h160v-160H400v160Zm0 220h160v-160H400v160ZM180-400h160v-160H180v160Zm440 0h160v-160H620v160ZM180-180h160v-160H180v160Zm440 0h160v-160H620v160Z\"/>\n",
              "  </svg>\n",
              "    </button>\n",
              "\n",
              "  <style>\n",
              "    .colab-df-container {\n",
              "      display:flex;\n",
              "      gap: 12px;\n",
              "    }\n",
              "\n",
              "    .colab-df-convert {\n",
              "      background-color: #E8F0FE;\n",
              "      border: none;\n",
              "      border-radius: 50%;\n",
              "      cursor: pointer;\n",
              "      display: none;\n",
              "      fill: #1967D2;\n",
              "      height: 32px;\n",
              "      padding: 0 0 0 0;\n",
              "      width: 32px;\n",
              "    }\n",
              "\n",
              "    .colab-df-convert:hover {\n",
              "      background-color: #E2EBFA;\n",
              "      box-shadow: 0px 1px 2px rgba(60, 64, 67, 0.3), 0px 1px 3px 1px rgba(60, 64, 67, 0.15);\n",
              "      fill: #174EA6;\n",
              "    }\n",
              "\n",
              "    .colab-df-buttons div {\n",
              "      margin-bottom: 4px;\n",
              "    }\n",
              "\n",
              "    [theme=dark] .colab-df-convert {\n",
              "      background-color: #3B4455;\n",
              "      fill: #D2E3FC;\n",
              "    }\n",
              "\n",
              "    [theme=dark] .colab-df-convert:hover {\n",
              "      background-color: #434B5C;\n",
              "      box-shadow: 0px 1px 3px 1px rgba(0, 0, 0, 0.15);\n",
              "      filter: drop-shadow(0px 1px 2px rgba(0, 0, 0, 0.3));\n",
              "      fill: #FFFFFF;\n",
              "    }\n",
              "  </style>\n",
              "\n",
              "    <script>\n",
              "      const buttonEl =\n",
              "        document.querySelector('#df-938bdbf5-4d39-44bf-9fd9-ca2c086274d1 button.colab-df-convert');\n",
              "      buttonEl.style.display =\n",
              "        google.colab.kernel.accessAllowed ? 'block' : 'none';\n",
              "\n",
              "      async function convertToInteractive(key) {\n",
              "        const element = document.querySelector('#df-938bdbf5-4d39-44bf-9fd9-ca2c086274d1');\n",
              "        const dataTable =\n",
              "          await google.colab.kernel.invokeFunction('convertToInteractive',\n",
              "                                                    [key], {});\n",
              "        if (!dataTable) return;\n",
              "\n",
              "        const docLinkHtml = 'Like what you see? Visit the ' +\n",
              "          '<a target=\"_blank\" href=https://colab.research.google.com/notebooks/data_table.ipynb>data table notebook</a>'\n",
              "          + ' to learn more about interactive tables.';\n",
              "        element.innerHTML = '';\n",
              "        dataTable['output_type'] = 'display_data';\n",
              "        await google.colab.output.renderOutput(dataTable, element);\n",
              "        const docLink = document.createElement('div');\n",
              "        docLink.innerHTML = docLinkHtml;\n",
              "        element.appendChild(docLink);\n",
              "      }\n",
              "    </script>\n",
              "  </div>\n",
              "\n",
              "\n",
              "<div id=\"df-e64f9e1a-1048-453a-b3f5-7e125d31893e\">\n",
              "  <button class=\"colab-df-quickchart\" onclick=\"quickchart('df-e64f9e1a-1048-453a-b3f5-7e125d31893e')\"\n",
              "            title=\"Suggest charts.\"\n",
              "            style=\"display:none;\">\n",
              "\n",
              "<svg xmlns=\"http://www.w3.org/2000/svg\" height=\"24px\"viewBox=\"0 0 24 24\"\n",
              "     width=\"24px\">\n",
              "    <g>\n",
              "        <path d=\"M19 3H5c-1.1 0-2 .9-2 2v14c0 1.1.9 2 2 2h14c1.1 0 2-.9 2-2V5c0-1.1-.9-2-2-2zM9 17H7v-7h2v7zm4 0h-2V7h2v10zm4 0h-2v-4h2v4z\"/>\n",
              "    </g>\n",
              "</svg>\n",
              "  </button>\n",
              "\n",
              "<style>\n",
              "  .colab-df-quickchart {\n",
              "    background-color: #E8F0FE;\n",
              "    border: none;\n",
              "    border-radius: 50%;\n",
              "    cursor: pointer;\n",
              "    display: none;\n",
              "    fill: #1967D2;\n",
              "    height: 32px;\n",
              "    padding: 0 0 0 0;\n",
              "    width: 32px;\n",
              "  }\n",
              "\n",
              "  .colab-df-quickchart:hover {\n",
              "    background-color: #E2EBFA;\n",
              "    box-shadow: 0px 1px 2px rgba(60, 64, 67, 0.3), 0px 1px 3px 1px rgba(60, 64, 67, 0.15);\n",
              "    fill: #174EA6;\n",
              "  }\n",
              "\n",
              "  [theme=dark] .colab-df-quickchart {\n",
              "    background-color: #3B4455;\n",
              "    fill: #D2E3FC;\n",
              "  }\n",
              "\n",
              "  [theme=dark] .colab-df-quickchart:hover {\n",
              "    background-color: #434B5C;\n",
              "    box-shadow: 0px 1px 3px 1px rgba(0, 0, 0, 0.15);\n",
              "    filter: drop-shadow(0px 1px 2px rgba(0, 0, 0, 0.3));\n",
              "    fill: #FFFFFF;\n",
              "  }\n",
              "</style>\n",
              "\n",
              "  <script>\n",
              "    async function quickchart(key) {\n",
              "      const charts = await google.colab.kernel.invokeFunction(\n",
              "          'suggestCharts', [key], {});\n",
              "    }\n",
              "    (() => {\n",
              "      let quickchartButtonEl =\n",
              "        document.querySelector('#df-e64f9e1a-1048-453a-b3f5-7e125d31893e button');\n",
              "      quickchartButtonEl.style.display =\n",
              "        google.colab.kernel.accessAllowed ? 'block' : 'none';\n",
              "    })();\n",
              "  </script>\n",
              "</div>\n",
              "    </div>\n",
              "  </div>\n"
            ]
          },
          "metadata": {},
          "execution_count": 16
        }
      ]
    },
    {
      "cell_type": "code",
      "source": [
        "min_test_df = test_df.sort_values(by=['Post Length'], ascending=[True])[:7]\n",
        "min_test_df"
      ],
      "metadata": {
        "colab": {
          "base_uri": "https://localhost:8080/",
          "height": 1000
        },
        "id": "cDRxkdvfh1WT",
        "outputId": "b2153a6a-79b1-4baf-f27b-68a16b56d67c"
      },
      "execution_count": 46,
      "outputs": [
        {
          "output_type": "execute_result",
          "data": {
            "text/plain": [
              "                                                               Title  \\\n",
              "29                                                   License to Kill   \n",
              "23                                    My Daughter's Brush With Death   \n",
              "31                                               Just a little while   \n",
              "14                                             She’ll Only Play Once   \n",
              "17                                                           Blessed   \n",
              "8                                            All For A Cup Of Coffee   \n",
              "15  Ten thousand pounds can last you a life time in the 21st century   \n",
              "\n",
              "                                                                                                                                                                                                                                                                                                                                                                                                                                                                                                                                                                                                                                                                                                                                                                                                                                                                                                                                                                                                                                                                                                                                                                                                                                                                                                                                                                                                                                                                                                                                                                                                                                                                                                                                                                                                                                                                                                                                                                                                                                                                                                                                                                           Content  \\\n",
              "29                                                                                                                                                                                                                                                                                                                                                                                                                                                                                                                                                                                                                                                                                                                                                                                                                                                                                                                     *One...*\\n\\nA methed up woman, screaming something about a demon?\\n\\n*Two...*\\n\\nI remember the first time I killed someone. The shock didn't last long, as another man ran at me, screaming incoherently. Never could tell the difference between late stage mental illness or developmental delays...\\n\\n*Three...*\\n\\nThird one in ten minutes? Must be heading into the bad part of town.\\n\\nThey call me in to put down...undesirables.\\n\\n*Four...*\\n\\nYou know the types. Hard drug users, the severely mentally disabled, the ones with behavior problems, spoiled people who need to learn the word 'no' the hard way, the works.\\n\\n*Five...*\\n\\nRich fucks don't want to get their hands dirty; politicians need the dregs of society to go away in order to get votes. Not that I care, I see it as a win-win-win. The more shots I fire off, the more I get paid. The more shots that I fire off in a short amount of time, means I'm about to eat good that week.\\n\\n*Six...*\\n \\nI's an easy job, once the disregard for human life sets in. Lucrative as fuck too. My only advice: pack more ammo than you think you'll need.\\n\\n*Seven...*\\n\\nThe roughest parts of my job, though...\\n\\n*EIGHT! NINE! TEN!*\\n\\nAre the kids.\\n\\n*chk-CHK*   \n",
              "23                                                                                                                                                                                                                                                                                                                                                                                                                                                                                                                                                                                                                                                                                                                                                                                                                                                                  My daughter Lisa used to be quite a happy and friendly child. She used to be the best at her class and respectful towards the elders. All that changed when puberty hit.\\n\\n...\\n\\nI remember the day after her thirteenth birthday like it was yesterday. I was sleeping when suddenly her screams pierced my brain. \"Help!\" she cried. I rushed to her room only to find her lying in a pool of blood. She had tried to slit her wrists and regretted it!\\n\\nI panicked. I knew what I had to do: call the ambulance, follow their orders, and wait untill they arrived, but one thing is knowing and another is saving your daughter's life!\\n\\nThankfully, she hadn't cut deep enough and didn't die.\\n\\nI would often try to reason with her, tell her what she'd done was wrong, but she'd only give me that look which seemed to cut right through me and I couldn't break eye contact.\\n\\n\"I hate you and your outdated understanding of psychology! You're the reason I'm not happy, you should do something other than nag me non-stop!\" she told me a while ago.\\n\\n...\\n\\nLisa is sixteen now. She's happy once again, but her school achievements are gone, just like her ability to hold an intelligent conversation. But still, I've managed to solve most of the problem with just one needle.   \n",
              "31                                                                                                                                                                                                                                                                                                                                                                                                                                                                                                                                                                                                                                                                                                                                                                                                                                                                         Do you ever just wish you could disappear for a little while? Not like going on a vacation… I can never truly relax on those because there’s always still responsibilities waiting, stacking up while gone, so you come back to more of a mess than you left… But also not in a suicidal type of way, I do want to come back and I love my family and know my kids need me… I just wish I could just not exist for a short period of time and come back without it seeming like I was gone. And you know what? I think my wish came true. A few months ago, I closed my eyes and felt like I took the most peaceful, several hour nap, and when I opened them it had only been a couple minutes. It started out just once a week, but slowly became more frequent until it was a couple times a day. I loved it, I was so much more relaxed, and it didn’t affect my day… until I woke from one yesterday and I was in the hospital… my husband said I had a seizure, the doctors found a mass and they were taking me in for surgery tomorrow.  I remember going in for surgery, and going back to my peaceful place, but now I feel like I’ve been here for days, but surely that means it’s only been a couple hours, right? That’s normal for surgery, right? There’s no way I’m stuck here, right?   \n",
              "14                                                                                                                                                                                                                                                                                                                                                                                                                                                                                                                                                             Her face is pale, and she is crying. Good. I love it when she starts crying. I can nearly taste her tears from here.\\n\\nI push a knight.\\n\\n“Check.”\\n\\nI always regarded myself as a gentleman. Even when I kill, I kill *clean*. Leave nothing behind, you know? Not like those raggedy ruffians who just stab and stab until blood flies everywhere. They’re like a pack of savage wolves, those people.\\n\\nNot me.\\n\\nI allow myself a smirk, then lean back in my chair, folding my arms. I am winning. That queen-knight combination will destroy her. She just needs to push the king to the *right* square and it will be all over.\\n\\n“Check,” I say again, and watch as she hunches over the board, eyes downcast, like those beggars on the street years ago, before I solved their misery.\\n\\nShe looks back up at me. Is that a smirk or a grimace? I honestly can’t tell.\\n\\nShe moves the king.\\n\\n*Wrong square!* My temples are bursting and I am starting to get hot. I fight to push the stormcloud down and take a deep breath, restoring myself to the game. No. It cannot end this way. I just need to recalculate and find the best move to crush her, that’s all.\\n\\nSoon she will topple over, like her king after she resigns, with my favorite knife in her stomach. Soon. I can almost feel it coming, as the last moves in this game come to a close. I let myself savour that future, then return my gaze to the board.\\n\\nSoon. \\n\\nI push a pawn, dangerously into her territory. One more attacker. One more chance to win. It all comes down to this.\\n\\nI smile.\\n\\n“Your move.”   \n",
              "17                                                                                                                                                                                           I have the best husband! He works so hard for our family; he’s finishing up his twenty years in the military and he fixes and flips trucks on the side (both because he enjoys it and to supplement our income). I’m staying home with the kids these days after our third (and unexpected) addition, but plan to go back to work after he retires so we don’t have to worry about paying for daycare. But even though I don’t work outside the house right now, he still recognizes how hard it is, and regularly tidies the house, helps with dishes, laundry, and farm chores, and makes dinner sometimes. It also doesn’t hurt that he’s tall, handsome, tatted, and a gym rat 😍; he can be a little self conscious of his salt and pepper hair in his late 30’s(I remind him I love it, plus kids and war will do that to a man), and that he can’t see his abs so well anymore (but he wouldn’t change my cooking for anything). He does most of the lawn maintenance of our 20 acres since he’s particular about it, plus sometimes he has freshly dug plots he needs to work around. He has dealt with some anger issues since the war, but he would never take it out on us, especially since the last relationship I had before he and I got together was abusive; he has a deep hatred for bad people. Anyway, he loves to hunt, so we have plenty of natural venison to go with our farm fresh fruits and vegetables; he has great respect for these animals so we use everything we can from them and thank them. I don’t worry about his occasional late night, he’s not the cheating type, plus he thinks I haven’t noticed they coincide with the disappearances of convicted pedophiles and abusers. He’s such a great dad, so involved with our kids, and the nights that they are scared of the monsters under the bed, he reminds them that they’re not real, that people are the real monsters, and he will protect us from them. We are so blessed to have him.   \n",
              "8                                                                                                                   I was enjoying a few minutes alone with my cup of coffee when I realised that he'd done it once again. All I wanted was a little break and to drink my coffee in peace.\\n\\nI grabbed Toby, my 18 month old, from his chair as fast as I could and thumped him in the back again and again. The more I hit, the more he turned a deeper shade of scarlet.\\n\\nHis eyes glared back at mine with nothing but pure helplessness that was encased in a glaze of intense fear. The silence between us was heavy and strong.\\n\\nWith all my shouting and screaming, the neighbours must have heard me by now and phoned the emergency services, so, they'd be here soon, but I wasn't tapping out just yet. I couldn't stop myself. I continued to pound on his torso. On his back, his stomach, his chest.\\n\\nHe fell slightly limp and my mind went numb when I realised he was now completely unconscious. I stopped hitting him and let him go. His limbs resembled that of a broken and lifeless puppet.\\n\\nThen, there was sudden and manic knocking at the door.\\n\\n*They're here.*\\n\\nApparently they took just three minutes to arrive.\\n\\nThey knocked again, but I was fear locked in place. Kneeling over Tobys body, sobbing.\\n\\nEventually, they stormed through the front door with force and raced to Tobys body, removing me from the scene at the same time.\\n\\nIt took two large men to keep me from Toby, and even then, they struggled.\\n\\nThe others actually managed to bring Toby back around, and I was told it would be better that Toby stay with his father instead. They said Toby would most likely just wake up in the morning with a sore throat and a few bruises. No big deal.\\n\\nBut the next morning came and Toby didn’t wake up. There was nothing left of him. Nothing but a heartbeat.\\n\\nThe doctors declared Toby brain dead.\\n\\nIn those few minutes when that grape, *that one little grape*, got lodged in his windpipe, it had completely deprived his body and brain of oxygen...\\n\\n\\n\\n...All for a cup of coffee...   \n",
              "15  I promised Chris that ten thousand pounds can last him a life time. He laughed at my face as he didn't believe me at all. I kept promising him that it could and that I will make sure that ten thousand pounds will last him a life time. I gave him ten thousands and then told him to quit his job. He trusted me and he quit his job. I assumed that the reason he trusted me is because no body had ever given him such an amount of money before. He didn't have to pay me back and I gave it to him on a Friday. \\n\\nThere could be another reason why he quit his job and its because of the ten thousands pounds, and not because he trusted me. I assume that he thought that the ten thousand pounds would last him a couple of months before he finds a new job. I kept telling Chris that he will never need a new job ever again, because the ten thousand pounds I had give him would last him all his life. On Friday he started partying and I assumed he was going to spend it all, and then laugh in my face for being wrong. I am not wrong though. \\n\\nTen thousands pounds can last anyone a life time in the 21st century. On Saturday Chris started spending more of the money and he had spent half way through the money already. I was happy that he was enjoying himself and this is how all people should live out thier lives. It's been a long time since Chris has enjoyed himself. His wife was angry that he quit his job because he has children to support, but Chris kept talking about me and how I have told him that ten thousand pounds can last him a life time. \\n\\nOn Sunday Chris only had 3k left and he was living it up. He couldn't wait to laugh at my face for being wrong. I kept firm and I kept telling him that ten thousand pounds can last anyone a life time. Chris was getting annoyed but ignored me. On monday he was all spent up. He woke up to me in his hotel room and I was holding a gun to his face. I then told him \"ten thousand pounds can last you a life time Chris, as long as you die on monday\" and I then shot him. \\n\\nI then phoned his wife and said \"he is dead now. I want my money in cash\"   \n",
              "\n",
              "                   Timestamp Upvotes Total Comments  Post Length  \n",
              "29 2023-08-25 19:27:04+00:00     109              9         1177  \n",
              "23 2023-08-24 14:43:57+00:00     145              5         1246  \n",
              "31 2023-08-26 14:22:10+00:00     104             13         1255  \n",
              "14 2023-08-27 16:10:52+00:00     225             13         1527  \n",
              "17 2023-08-27 14:30:23+00:00     202             13         1909  \n",
              "8  2023-08-24 21:17:11+00:00     392             22         1950  \n",
              "15 2023-08-27 16:39:57+00:00     223             16         2086  "
            ],
            "text/html": [
              "\n",
              "  <div id=\"df-569c8631-0732-4407-a4f5-969f53eddd5a\" class=\"colab-df-container\">\n",
              "    <div>\n",
              "<style scoped>\n",
              "    .dataframe tbody tr th:only-of-type {\n",
              "        vertical-align: middle;\n",
              "    }\n",
              "\n",
              "    .dataframe tbody tr th {\n",
              "        vertical-align: top;\n",
              "    }\n",
              "\n",
              "    .dataframe thead th {\n",
              "        text-align: right;\n",
              "    }\n",
              "</style>\n",
              "<table border=\"1\" class=\"dataframe\">\n",
              "  <thead>\n",
              "    <tr style=\"text-align: right;\">\n",
              "      <th></th>\n",
              "      <th>Title</th>\n",
              "      <th>Content</th>\n",
              "      <th>Timestamp</th>\n",
              "      <th>Upvotes</th>\n",
              "      <th>Total Comments</th>\n",
              "      <th>Post Length</th>\n",
              "    </tr>\n",
              "  </thead>\n",
              "  <tbody>\n",
              "    <tr>\n",
              "      <th>29</th>\n",
              "      <td>License to Kill</td>\n",
              "      <td>*One...*\\n\\nA methed up woman, screaming something about a demon?\\n\\n*Two...*\\n\\nI remember the first time I killed someone. The shock didn't last long, as another man ran at me, screaming incoherently. Never could tell the difference between late stage mental illness or developmental delays...\\n\\n*Three...*\\n\\nThird one in ten minutes? Must be heading into the bad part of town.\\n\\nThey call me in to put down...undesirables.\\n\\n*Four...*\\n\\nYou know the types. Hard drug users, the severely mentally disabled, the ones with behavior problems, spoiled people who need to learn the word 'no' the hard way, the works.\\n\\n*Five...*\\n\\nRich fucks don't want to get their hands dirty; politicians need the dregs of society to go away in order to get votes. Not that I care, I see it as a win-win-win. The more shots I fire off, the more I get paid. The more shots that I fire off in a short amount of time, means I'm about to eat good that week.\\n\\n*Six...*\\n \\nI's an easy job, once the disregard for human life sets in. Lucrative as fuck too. My only advice: pack more ammo than you think you'll need.\\n\\n*Seven...*\\n\\nThe roughest parts of my job, though...\\n\\n*EIGHT! NINE! TEN!*\\n\\nAre the kids.\\n\\n*chk-CHK*</td>\n",
              "      <td>2023-08-25 19:27:04+00:00</td>\n",
              "      <td>109</td>\n",
              "      <td>9</td>\n",
              "      <td>1177</td>\n",
              "    </tr>\n",
              "    <tr>\n",
              "      <th>23</th>\n",
              "      <td>My Daughter's Brush With Death</td>\n",
              "      <td>My daughter Lisa used to be quite a happy and friendly child. She used to be the best at her class and respectful towards the elders. All that changed when puberty hit.\\n\\n...\\n\\nI remember the day after her thirteenth birthday like it was yesterday. I was sleeping when suddenly her screams pierced my brain. \"Help!\" she cried. I rushed to her room only to find her lying in a pool of blood. She had tried to slit her wrists and regretted it!\\n\\nI panicked. I knew what I had to do: call the ambulance, follow their orders, and wait untill they arrived, but one thing is knowing and another is saving your daughter's life!\\n\\nThankfully, she hadn't cut deep enough and didn't die.\\n\\nI would often try to reason with her, tell her what she'd done was wrong, but she'd only give me that look which seemed to cut right through me and I couldn't break eye contact.\\n\\n\"I hate you and your outdated understanding of psychology! You're the reason I'm not happy, you should do something other than nag me non-stop!\" she told me a while ago.\\n\\n...\\n\\nLisa is sixteen now. She's happy once again, but her school achievements are gone, just like her ability to hold an intelligent conversation. But still, I've managed to solve most of the problem with just one needle.</td>\n",
              "      <td>2023-08-24 14:43:57+00:00</td>\n",
              "      <td>145</td>\n",
              "      <td>5</td>\n",
              "      <td>1246</td>\n",
              "    </tr>\n",
              "    <tr>\n",
              "      <th>31</th>\n",
              "      <td>Just a little while</td>\n",
              "      <td>Do you ever just wish you could disappear for a little while? Not like going on a vacation… I can never truly relax on those because there’s always still responsibilities waiting, stacking up while gone, so you come back to more of a mess than you left… But also not in a suicidal type of way, I do want to come back and I love my family and know my kids need me… I just wish I could just not exist for a short period of time and come back without it seeming like I was gone. And you know what? I think my wish came true. A few months ago, I closed my eyes and felt like I took the most peaceful, several hour nap, and when I opened them it had only been a couple minutes. It started out just once a week, but slowly became more frequent until it was a couple times a day. I loved it, I was so much more relaxed, and it didn’t affect my day… until I woke from one yesterday and I was in the hospital… my husband said I had a seizure, the doctors found a mass and they were taking me in for surgery tomorrow.  I remember going in for surgery, and going back to my peaceful place, but now I feel like I’ve been here for days, but surely that means it’s only been a couple hours, right? That’s normal for surgery, right? There’s no way I’m stuck here, right?</td>\n",
              "      <td>2023-08-26 14:22:10+00:00</td>\n",
              "      <td>104</td>\n",
              "      <td>13</td>\n",
              "      <td>1255</td>\n",
              "    </tr>\n",
              "    <tr>\n",
              "      <th>14</th>\n",
              "      <td>She’ll Only Play Once</td>\n",
              "      <td>Her face is pale, and she is crying. Good. I love it when she starts crying. I can nearly taste her tears from here.\\n\\nI push a knight.\\n\\n“Check.”\\n\\nI always regarded myself as a gentleman. Even when I kill, I kill *clean*. Leave nothing behind, you know? Not like those raggedy ruffians who just stab and stab until blood flies everywhere. They’re like a pack of savage wolves, those people.\\n\\nNot me.\\n\\nI allow myself a smirk, then lean back in my chair, folding my arms. I am winning. That queen-knight combination will destroy her. She just needs to push the king to the *right* square and it will be all over.\\n\\n“Check,” I say again, and watch as she hunches over the board, eyes downcast, like those beggars on the street years ago, before I solved their misery.\\n\\nShe looks back up at me. Is that a smirk or a grimace? I honestly can’t tell.\\n\\nShe moves the king.\\n\\n*Wrong square!* My temples are bursting and I am starting to get hot. I fight to push the stormcloud down and take a deep breath, restoring myself to the game. No. It cannot end this way. I just need to recalculate and find the best move to crush her, that’s all.\\n\\nSoon she will topple over, like her king after she resigns, with my favorite knife in her stomach. Soon. I can almost feel it coming, as the last moves in this game come to a close. I let myself savour that future, then return my gaze to the board.\\n\\nSoon. \\n\\nI push a pawn, dangerously into her territory. One more attacker. One more chance to win. It all comes down to this.\\n\\nI smile.\\n\\n“Your move.”</td>\n",
              "      <td>2023-08-27 16:10:52+00:00</td>\n",
              "      <td>225</td>\n",
              "      <td>13</td>\n",
              "      <td>1527</td>\n",
              "    </tr>\n",
              "    <tr>\n",
              "      <th>17</th>\n",
              "      <td>Blessed</td>\n",
              "      <td>I have the best husband! He works so hard for our family; he’s finishing up his twenty years in the military and he fixes and flips trucks on the side (both because he enjoys it and to supplement our income). I’m staying home with the kids these days after our third (and unexpected) addition, but plan to go back to work after he retires so we don’t have to worry about paying for daycare. But even though I don’t work outside the house right now, he still recognizes how hard it is, and regularly tidies the house, helps with dishes, laundry, and farm chores, and makes dinner sometimes. It also doesn’t hurt that he’s tall, handsome, tatted, and a gym rat 😍; he can be a little self conscious of his salt and pepper hair in his late 30’s(I remind him I love it, plus kids and war will do that to a man), and that he can’t see his abs so well anymore (but he wouldn’t change my cooking for anything). He does most of the lawn maintenance of our 20 acres since he’s particular about it, plus sometimes he has freshly dug plots he needs to work around. He has dealt with some anger issues since the war, but he would never take it out on us, especially since the last relationship I had before he and I got together was abusive; he has a deep hatred for bad people. Anyway, he loves to hunt, so we have plenty of natural venison to go with our farm fresh fruits and vegetables; he has great respect for these animals so we use everything we can from them and thank them. I don’t worry about his occasional late night, he’s not the cheating type, plus he thinks I haven’t noticed they coincide with the disappearances of convicted pedophiles and abusers. He’s such a great dad, so involved with our kids, and the nights that they are scared of the monsters under the bed, he reminds them that they’re not real, that people are the real monsters, and he will protect us from them. We are so blessed to have him.</td>\n",
              "      <td>2023-08-27 14:30:23+00:00</td>\n",
              "      <td>202</td>\n",
              "      <td>13</td>\n",
              "      <td>1909</td>\n",
              "    </tr>\n",
              "    <tr>\n",
              "      <th>8</th>\n",
              "      <td>All For A Cup Of Coffee</td>\n",
              "      <td>I was enjoying a few minutes alone with my cup of coffee when I realised that he'd done it once again. All I wanted was a little break and to drink my coffee in peace.\\n\\nI grabbed Toby, my 18 month old, from his chair as fast as I could and thumped him in the back again and again. The more I hit, the more he turned a deeper shade of scarlet.\\n\\nHis eyes glared back at mine with nothing but pure helplessness that was encased in a glaze of intense fear. The silence between us was heavy and strong.\\n\\nWith all my shouting and screaming, the neighbours must have heard me by now and phoned the emergency services, so, they'd be here soon, but I wasn't tapping out just yet. I couldn't stop myself. I continued to pound on his torso. On his back, his stomach, his chest.\\n\\nHe fell slightly limp and my mind went numb when I realised he was now completely unconscious. I stopped hitting him and let him go. His limbs resembled that of a broken and lifeless puppet.\\n\\nThen, there was sudden and manic knocking at the door.\\n\\n*They're here.*\\n\\nApparently they took just three minutes to arrive.\\n\\nThey knocked again, but I was fear locked in place. Kneeling over Tobys body, sobbing.\\n\\nEventually, they stormed through the front door with force and raced to Tobys body, removing me from the scene at the same time.\\n\\nIt took two large men to keep me from Toby, and even then, they struggled.\\n\\nThe others actually managed to bring Toby back around, and I was told it would be better that Toby stay with his father instead. They said Toby would most likely just wake up in the morning with a sore throat and a few bruises. No big deal.\\n\\nBut the next morning came and Toby didn’t wake up. There was nothing left of him. Nothing but a heartbeat.\\n\\nThe doctors declared Toby brain dead.\\n\\nIn those few minutes when that grape, *that one little grape*, got lodged in his windpipe, it had completely deprived his body and brain of oxygen...\\n\\n\\n\\n...All for a cup of coffee...</td>\n",
              "      <td>2023-08-24 21:17:11+00:00</td>\n",
              "      <td>392</td>\n",
              "      <td>22</td>\n",
              "      <td>1950</td>\n",
              "    </tr>\n",
              "    <tr>\n",
              "      <th>15</th>\n",
              "      <td>Ten thousand pounds can last you a life time in the 21st century</td>\n",
              "      <td>I promised Chris that ten thousand pounds can last him a life time. He laughed at my face as he didn't believe me at all. I kept promising him that it could and that I will make sure that ten thousand pounds will last him a life time. I gave him ten thousands and then told him to quit his job. He trusted me and he quit his job. I assumed that the reason he trusted me is because no body had ever given him such an amount of money before. He didn't have to pay me back and I gave it to him on a Friday. \\n\\nThere could be another reason why he quit his job and its because of the ten thousands pounds, and not because he trusted me. I assume that he thought that the ten thousand pounds would last him a couple of months before he finds a new job. I kept telling Chris that he will never need a new job ever again, because the ten thousand pounds I had give him would last him all his life. On Friday he started partying and I assumed he was going to spend it all, and then laugh in my face for being wrong. I am not wrong though. \\n\\nTen thousands pounds can last anyone a life time in the 21st century. On Saturday Chris started spending more of the money and he had spent half way through the money already. I was happy that he was enjoying himself and this is how all people should live out thier lives. It's been a long time since Chris has enjoyed himself. His wife was angry that he quit his job because he has children to support, but Chris kept talking about me and how I have told him that ten thousand pounds can last him a life time. \\n\\nOn Sunday Chris only had 3k left and he was living it up. He couldn't wait to laugh at my face for being wrong. I kept firm and I kept telling him that ten thousand pounds can last anyone a life time. Chris was getting annoyed but ignored me. On monday he was all spent up. He woke up to me in his hotel room and I was holding a gun to his face. I then told him \"ten thousand pounds can last you a life time Chris, as long as you die on monday\" and I then shot him. \\n\\nI then phoned his wife and said \"he is dead now. I want my money in cash\"</td>\n",
              "      <td>2023-08-27 16:39:57+00:00</td>\n",
              "      <td>223</td>\n",
              "      <td>16</td>\n",
              "      <td>2086</td>\n",
              "    </tr>\n",
              "  </tbody>\n",
              "</table>\n",
              "</div>\n",
              "    <div class=\"colab-df-buttons\">\n",
              "\n",
              "  <div class=\"colab-df-container\">\n",
              "    <button class=\"colab-df-convert\" onclick=\"convertToInteractive('df-569c8631-0732-4407-a4f5-969f53eddd5a')\"\n",
              "            title=\"Convert this dataframe to an interactive table.\"\n",
              "            style=\"display:none;\">\n",
              "\n",
              "  <svg xmlns=\"http://www.w3.org/2000/svg\" height=\"24px\" viewBox=\"0 -960 960 960\">\n",
              "    <path d=\"M120-120v-720h720v720H120Zm60-500h600v-160H180v160Zm220 220h160v-160H400v160Zm0 220h160v-160H400v160ZM180-400h160v-160H180v160Zm440 0h160v-160H620v160ZM180-180h160v-160H180v160Zm440 0h160v-160H620v160Z\"/>\n",
              "  </svg>\n",
              "    </button>\n",
              "\n",
              "  <style>\n",
              "    .colab-df-container {\n",
              "      display:flex;\n",
              "      gap: 12px;\n",
              "    }\n",
              "\n",
              "    .colab-df-convert {\n",
              "      background-color: #E8F0FE;\n",
              "      border: none;\n",
              "      border-radius: 50%;\n",
              "      cursor: pointer;\n",
              "      display: none;\n",
              "      fill: #1967D2;\n",
              "      height: 32px;\n",
              "      padding: 0 0 0 0;\n",
              "      width: 32px;\n",
              "    }\n",
              "\n",
              "    .colab-df-convert:hover {\n",
              "      background-color: #E2EBFA;\n",
              "      box-shadow: 0px 1px 2px rgba(60, 64, 67, 0.3), 0px 1px 3px 1px rgba(60, 64, 67, 0.15);\n",
              "      fill: #174EA6;\n",
              "    }\n",
              "\n",
              "    .colab-df-buttons div {\n",
              "      margin-bottom: 4px;\n",
              "    }\n",
              "\n",
              "    [theme=dark] .colab-df-convert {\n",
              "      background-color: #3B4455;\n",
              "      fill: #D2E3FC;\n",
              "    }\n",
              "\n",
              "    [theme=dark] .colab-df-convert:hover {\n",
              "      background-color: #434B5C;\n",
              "      box-shadow: 0px 1px 3px 1px rgba(0, 0, 0, 0.15);\n",
              "      filter: drop-shadow(0px 1px 2px rgba(0, 0, 0, 0.3));\n",
              "      fill: #FFFFFF;\n",
              "    }\n",
              "  </style>\n",
              "\n",
              "    <script>\n",
              "      const buttonEl =\n",
              "        document.querySelector('#df-569c8631-0732-4407-a4f5-969f53eddd5a button.colab-df-convert');\n",
              "      buttonEl.style.display =\n",
              "        google.colab.kernel.accessAllowed ? 'block' : 'none';\n",
              "\n",
              "      async function convertToInteractive(key) {\n",
              "        const element = document.querySelector('#df-569c8631-0732-4407-a4f5-969f53eddd5a');\n",
              "        const dataTable =\n",
              "          await google.colab.kernel.invokeFunction('convertToInteractive',\n",
              "                                                    [key], {});\n",
              "        if (!dataTable) return;\n",
              "\n",
              "        const docLinkHtml = 'Like what you see? Visit the ' +\n",
              "          '<a target=\"_blank\" href=https://colab.research.google.com/notebooks/data_table.ipynb>data table notebook</a>'\n",
              "          + ' to learn more about interactive tables.';\n",
              "        element.innerHTML = '';\n",
              "        dataTable['output_type'] = 'display_data';\n",
              "        await google.colab.output.renderOutput(dataTable, element);\n",
              "        const docLink = document.createElement('div');\n",
              "        docLink.innerHTML = docLinkHtml;\n",
              "        element.appendChild(docLink);\n",
              "      }\n",
              "    </script>\n",
              "  </div>\n",
              "\n",
              "\n",
              "<div id=\"df-d3b2468a-19eb-4503-83ea-a24049f55874\">\n",
              "  <button class=\"colab-df-quickchart\" onclick=\"quickchart('df-d3b2468a-19eb-4503-83ea-a24049f55874')\"\n",
              "            title=\"Suggest charts.\"\n",
              "            style=\"display:none;\">\n",
              "\n",
              "<svg xmlns=\"http://www.w3.org/2000/svg\" height=\"24px\"viewBox=\"0 0 24 24\"\n",
              "     width=\"24px\">\n",
              "    <g>\n",
              "        <path d=\"M19 3H5c-1.1 0-2 .9-2 2v14c0 1.1.9 2 2 2h14c1.1 0 2-.9 2-2V5c0-1.1-.9-2-2-2zM9 17H7v-7h2v7zm4 0h-2V7h2v10zm4 0h-2v-4h2v4z\"/>\n",
              "    </g>\n",
              "</svg>\n",
              "  </button>\n",
              "\n",
              "<style>\n",
              "  .colab-df-quickchart {\n",
              "    background-color: #E8F0FE;\n",
              "    border: none;\n",
              "    border-radius: 50%;\n",
              "    cursor: pointer;\n",
              "    display: none;\n",
              "    fill: #1967D2;\n",
              "    height: 32px;\n",
              "    padding: 0 0 0 0;\n",
              "    width: 32px;\n",
              "  }\n",
              "\n",
              "  .colab-df-quickchart:hover {\n",
              "    background-color: #E2EBFA;\n",
              "    box-shadow: 0px 1px 2px rgba(60, 64, 67, 0.3), 0px 1px 3px 1px rgba(60, 64, 67, 0.15);\n",
              "    fill: #174EA6;\n",
              "  }\n",
              "\n",
              "  [theme=dark] .colab-df-quickchart {\n",
              "    background-color: #3B4455;\n",
              "    fill: #D2E3FC;\n",
              "  }\n",
              "\n",
              "  [theme=dark] .colab-df-quickchart:hover {\n",
              "    background-color: #434B5C;\n",
              "    box-shadow: 0px 1px 3px 1px rgba(0, 0, 0, 0.15);\n",
              "    filter: drop-shadow(0px 1px 2px rgba(0, 0, 0, 0.3));\n",
              "    fill: #FFFFFF;\n",
              "  }\n",
              "</style>\n",
              "\n",
              "  <script>\n",
              "    async function quickchart(key) {\n",
              "      const charts = await google.colab.kernel.invokeFunction(\n",
              "          'suggestCharts', [key], {});\n",
              "    }\n",
              "    (() => {\n",
              "      let quickchartButtonEl =\n",
              "        document.querySelector('#df-d3b2468a-19eb-4503-83ea-a24049f55874 button');\n",
              "      quickchartButtonEl.style.display =\n",
              "        google.colab.kernel.accessAllowed ? 'block' : 'none';\n",
              "    })();\n",
              "  </script>\n",
              "</div>\n",
              "    </div>\n",
              "  </div>\n"
            ]
          },
          "metadata": {},
          "execution_count": 46
        }
      ]
    },
    {
      "cell_type": "markdown",
      "source": [
        "## Seed Content"
      ],
      "metadata": {
        "id": "vGPO46ZAeFF9"
      }
    },
    {
      "cell_type": "code",
      "source": [
        "def preprocess_text(text):\n",
        "    # Remove newlines and extra spaces\n",
        "    text = re.sub(r'\\n', ' ', text)\n",
        "    text = re.sub(r'\\s+', ' ', text).strip()\n",
        "\n",
        "    # Remove special characters and numbers\n",
        "    # text = re.sub(r'[^a-zA-Z\\s]', '', text)\n",
        "\n",
        "    # Remove asterisks (*) and backslashes (\\)\n",
        "    text = re.sub(r'[\\*\\\\]', '', text)\n",
        "\n",
        "    # Remove digits at the beginning of lines\n",
        "    text = re.sub(r'^\\d+\\s+', '', text, flags=re.MULTILINE)\n",
        "\n",
        "    return text\n",
        "\n",
        "pd.set_option('display.max_colwidth', None)\n",
        "seed_content = str(min_test_df['Content'].iloc[2])\n",
        "preprocessed_content = preprocess_text(seed_content)\n",
        "print(f'original text\\n{seed_content}\\n\\nprocessed text\\n{preprocessed_content}')"
      ],
      "metadata": {
        "colab": {
          "base_uri": "https://localhost:8080/"
        },
        "id": "OI2qapjLxTVr",
        "outputId": "73567025-2652-4fe3-f8ba-fdd81bc91244"
      },
      "execution_count": 47,
      "outputs": [
        {
          "output_type": "stream",
          "name": "stdout",
          "text": [
            "original text\n",
            "Do you ever just wish you could disappear for a little while? Not like going on a vacation… I can never truly relax on those because there’s always still responsibilities waiting, stacking up while gone, so you come back to more of a mess than you left… But also not in a suicidal type of way, I do want to come back and I love my family and know my kids need me… I just wish I could just not exist for a short period of time and come back without it seeming like I was gone. And you know what? I think my wish came true. A few months ago, I closed my eyes and felt like I took the most peaceful, several hour nap, and when I opened them it had only been a couple minutes. It started out just once a week, but slowly became more frequent until it was a couple times a day. I loved it, I was so much more relaxed, and it didn’t affect my day… until I woke from one yesterday and I was in the hospital… my husband said I had a seizure, the doctors found a mass and they were taking me in for surgery tomorrow.  I remember going in for surgery, and going back to my peaceful place, but now I feel like I’ve been here for days, but surely that means it’s only been a couple hours, right? That’s normal for surgery, right? There’s no way I’m stuck here, right?\n",
            "\n",
            "processed text\n",
            "Do you ever just wish you could disappear for a little while? Not like going on a vacation… I can never truly relax on those because there’s always still responsibilities waiting, stacking up while gone, so you come back to more of a mess than you left… But also not in a suicidal type of way, I do want to come back and I love my family and know my kids need me… I just wish I could just not exist for a short period of time and come back without it seeming like I was gone. And you know what? I think my wish came true. A few months ago, I closed my eyes and felt like I took the most peaceful, several hour nap, and when I opened them it had only been a couple minutes. It started out just once a week, but slowly became more frequent until it was a couple times a day. I loved it, I was so much more relaxed, and it didn’t affect my day… until I woke from one yesterday and I was in the hospital… my husband said I had a seizure, the doctors found a mass and they were taking me in for surgery tomorrow. I remember going in for surgery, and going back to my peaceful place, but now I feel like I’ve been here for days, but surely that means it’s only been a couple hours, right? That’s normal for surgery, right? There’s no way I’m stuck here, right?\n"
          ]
        }
      ]
    },
    {
      "cell_type": "markdown",
      "source": [
        "## Generating Title and Description"
      ],
      "metadata": {
        "id": "59FwLmWZeNoi"
      }
    },
    {
      "cell_type": "code",
      "source": [
        "import openai"
      ],
      "metadata": {
        "id": "Bt7LXfuDrLka"
      },
      "execution_count": 48,
      "outputs": []
    },
    {
      "cell_type": "code",
      "source": [
        "openai.api_key = os.environ['OPENAI_API_KEY']"
      ],
      "metadata": {
        "id": "Mk1iQvsHevYw"
      },
      "execution_count": 49,
      "outputs": []
    },
    {
      "cell_type": "code",
      "source": [
        "def generate_title(prompt, script):\n",
        "    response = openai.ChatCompletion.create(\n",
        "        model=\"gpt-3.5-turbo\",\n",
        "        messages=[{\"role\": \"system\", \"content\": prompt},\n",
        "                  {\"role\": \"user\", \"content\": script}],\n",
        "        temperature=1,\n",
        "        max_tokens=256,\n",
        "        top_p=1,\n",
        "        frequency_penalty=0,\n",
        "        presence_penalty=0\n",
        "    )\n",
        "\n",
        "    return response.choices[0].message['content']"
      ],
      "metadata": {
        "id": "qxfN8ekhevgD"
      },
      "execution_count": 50,
      "outputs": []
    },
    {
      "cell_type": "code",
      "source": [
        "shorts_title = generate_title(\"Generate a very short title for a YouTube Short based on the script. Make it similar to the examples below. Examples: - Scary things hidden in normal photos Part#28 - This is the scariest video on the internet... - Scary video😳 #shorts\", preprocessed_content)\n",
        "shorts_description = generate_title(\"Generate a short description for a YouTube Short\", preprocessed_content)\n",
        "print(f'Title: {shorts_title}\\nDescription: {shorts_description}\\n')"
      ],
      "metadata": {
        "colab": {
          "base_uri": "https://localhost:8080/"
        },
        "id": "HGLJkPV5M95C",
        "outputId": "4518231e-20a0-415b-f527-132d6affe9c8"
      },
      "execution_count": 51,
      "outputs": [
        {
          "output_type": "stream",
          "name": "stdout",
          "text": [
            "Title: YouTube Short: The Mystery Naps and the Unseen Reality\n",
            "Description: \"Escaping Reality: A YouTube Short about a Woman's Mysterious Disappearing Act\"\n",
            "\n"
          ]
        }
      ]
    },
    {
      "cell_type": "markdown",
      "source": [
        "## Image Prompts"
      ],
      "metadata": {
        "id": "oov31bAReZEZ"
      }
    },
    {
      "cell_type": "code",
      "source": [
        "def generate_image_prompts(gpt_type, prompt, script):\n",
        "    response = openai.ChatCompletion.create(\n",
        "        model=gpt_type,\n",
        "        messages=[{\"role\": \"system\", \"content\": prompt},\n",
        "                  {\"role\": \"user\", \"content\": script}],\n",
        "        temperature=1,\n",
        "        max_tokens=1024,\n",
        "        top_p=1,\n",
        "        frequency_penalty=0,\n",
        "        presence_penalty=0\n",
        "    )\n",
        "\n",
        "    image_prompts_str = response.choices[0].message['content']\n",
        "    image_prompts_str = re.sub(r'[^\\w\\s]', '', image_prompts_str)\n",
        "    image_prompts_str = re.sub(r'[^a-zA-Z\\s]', '', image_prompts_str)\n",
        "    image_prompts = image_prompts_str.lower().split('\\n')\n",
        "    image_prompts = list(map(lambda prompt: f\"{prompt.strip()}\", image_prompts))\n",
        "\n",
        "    return image_prompts"
      ],
      "metadata": {
        "id": "V_lKAVADfOqf"
      },
      "execution_count": 52,
      "outputs": []
    },
    {
      "cell_type": "code",
      "source": [
        "gpt_type = \"gpt-3.5-turbo\"\n",
        "gpt_prompt = \"\"\"\n",
        "  Generate 6 short one liner prompts for DALLE-2/Midjourney/StableDiffusion prompt image generation. The prompt I give will be the script for a video.\n",
        "  Prompts should be very short but descriptive with no NSFW content.\n",
        "\"\"\"\n",
        "image_prompts = generate_image_prompts(gpt_type, gpt_prompt, preprocessed_content)\n",
        "image_prompts"
      ],
      "metadata": {
        "colab": {
          "base_uri": "https://localhost:8080/"
        },
        "id": "KLtIVo2Uwc-_",
        "outputId": "ed82b1b7-578c-4e54-9396-c504005039c6"
      },
      "execution_count": 59,
      "outputs": [
        {
          "output_type": "execute_result",
          "data": {
            "text/plain": [
              "['womans peaceful escape into a timeless realm becomes a haunting reality after surgery',\n",
              " 'a wish for temporary nonexistence turns into an unnerving journey through time and reality',\n",
              " 'the allure of disappearing temporarily turns into a disorienting neverending void',\n",
              " 'seeking solace in moments of oblivion a woman finds herself trapped in a distorted perception of time',\n",
              " 'escaping the chaos of life a womans tranquil interludes take a dark turn after an unexpected surgery',\n",
              " 'the desire for a fleeting escape leads to an unsettling and endless suspension of existence']"
            ]
          },
          "metadata": {},
          "execution_count": 59
        }
      ]
    },
    {
      "cell_type": "markdown",
      "source": [
        "## Image Generation"
      ],
      "metadata": {
        "id": "iIm8bflgeccm"
      }
    },
    {
      "cell_type": "code",
      "source": [
        "import replicate"
      ],
      "metadata": {
        "id": "JnFI2kaGr3jF"
      },
      "execution_count": 60,
      "outputs": []
    },
    {
      "cell_type": "code",
      "source": [
        "client = replicate.Client(api_token=os.environ[\"STABLEDIFFUSION_API_KEY\"])"
      ],
      "metadata": {
        "id": "YXj4SKuvfXoU"
      },
      "execution_count": 61,
      "outputs": []
    },
    {
      "cell_type": "code",
      "source": [
        "def generate_stablediffusion_image(image_prompt):\n",
        "    output = client.run(\n",
        "        \"stability-ai/stable-diffusion:ac732df83cea7fff18b8472768c88ad041fa750ff7682a21affe81863cbe77e4\",\n",
        "        input = {\n",
        "            \"prompt\": image_prompt,\n",
        "            \"height\": 1024,\n",
        "            \"width\": 576,\n",
        "            \"num_outputs\": 1,\n",
        "            \"num_inference_steps\": 50,\n",
        "            \"guidance_scale\": 7.5,\n",
        "            \"scheduler\": 'DPMSolverMultistep',\n",
        "            \"seed\": 42\n",
        "        }\n",
        "    )\n",
        "    return output[0]"
      ],
      "metadata": {
        "id": "RuS4rV4ZfY2d"
      },
      "execution_count": 62,
      "outputs": []
    },
    {
      "cell_type": "code",
      "source": [
        "generated_images = [generate_stablediffusion_image(prompt) for prompt in image_prompts]\n",
        "generated_images"
      ],
      "metadata": {
        "colab": {
          "base_uri": "https://localhost:8080/"
        },
        "id": "PI7tzs5v2NUr",
        "outputId": "c5d0abdf-4f27-4c06-a3a5-9b333c98ce58"
      },
      "execution_count": 63,
      "outputs": [
        {
          "output_type": "execute_result",
          "data": {
            "text/plain": [
              "['https://pbxt.replicate.delivery/lktKofrebunw2UMU7fwgNO9lx85jJepLHmZs7fEaSSURYc4LC/out-0.png',\n",
              " 'https://pbxt.replicate.delivery/QtG59lznUtbLLZnegrxr38rgyjvge2nrSHMU9iuEAxUXjDfiA/out-0.png',\n",
              " 'https://pbxt.replicate.delivery/iAcQylyDJO6VHpnnfHqHEP9OBuYVJBYescCmbz0bdjJbjDfiA/out-0.png',\n",
              " 'https://pbxt.replicate.delivery/rmMyr9oFjTrEO14jTITprfz8XbIGMizyBnOZeFPmgvsfGHeFB/out-0.png',\n",
              " 'https://pbxt.replicate.delivery/Zgxu8hqKYHLsBpqjmzf7eKNJ8fIV0ZjQhT3StvRmggLGHHeFB/out-0.png',\n",
              " 'https://pbxt.replicate.delivery/RfuzfsAFHkjPIEPA8Hf38mYemMede9EXdSkKwjFD6plc64wXE/out-0.png']"
            ]
          },
          "metadata": {},
          "execution_count": 63
        }
      ]
    },
    {
      "cell_type": "code",
      "source": [
        "import urllib.request\n",
        "\n",
        "# Set the directory path to save the images\n",
        "directory_path = \"/content/drive/MyDrive/Colab Notebooks/UD/img\"\n",
        "\n",
        "# Create the directory if it does not exist\n",
        "if not os.path.exists(directory_path):\n",
        "    os.makedirs(directory_path)\n",
        "\n",
        "# Save the images to the folder\n",
        "for i, image_url in enumerate(generated_images):\n",
        "    file_path = f\"{directory_path}/image_{i+1}.jpg\"\n",
        "    urllib.request.urlretrieve(image_url, file_path)\n",
        "    print(f\"Image {i+1} saved successfully at {file_path}.\")"
      ],
      "metadata": {
        "colab": {
          "base_uri": "https://localhost:8080/"
        },
        "outputId": "bf5eff4a-027c-41ad-9bd4-f0ba1d33fecd",
        "id": "VfwhTKrLxwVc"
      },
      "execution_count": 64,
      "outputs": [
        {
          "output_type": "stream",
          "name": "stdout",
          "text": [
            "Image 1 saved successfully at /content/drive/MyDrive/Colab Notebooks/UD/img/image_1.jpg.\n",
            "Image 2 saved successfully at /content/drive/MyDrive/Colab Notebooks/UD/img/image_2.jpg.\n",
            "Image 3 saved successfully at /content/drive/MyDrive/Colab Notebooks/UD/img/image_3.jpg.\n",
            "Image 4 saved successfully at /content/drive/MyDrive/Colab Notebooks/UD/img/image_4.jpg.\n",
            "Image 5 saved successfully at /content/drive/MyDrive/Colab Notebooks/UD/img/image_5.jpg.\n",
            "Image 6 saved successfully at /content/drive/MyDrive/Colab Notebooks/UD/img/image_6.jpg.\n"
          ]
        }
      ]
    },
    {
      "cell_type": "markdown",
      "source": [
        "## Audio Generation"
      ],
      "metadata": {
        "id": "gIOLbbV0efjx"
      }
    },
    {
      "cell_type": "code",
      "source": [
        "from elevenlabs import set_api_key, generate, play"
      ],
      "metadata": {
        "id": "EaKvFviChB4j"
      },
      "execution_count": 65,
      "outputs": []
    },
    {
      "cell_type": "code",
      "source": [
        "set_api_key(os.environ[\"ELEVENLABS_API_KEY\"])"
      ],
      "metadata": {
        "id": "cXnkw3-tsWDp"
      },
      "execution_count": 66,
      "outputs": []
    },
    {
      "cell_type": "code",
      "source": [
        "# Generate audio using 'elevenlabs' package\n",
        "audio = generate(\n",
        "    text=preprocessed_content,\n",
        "    voice=\"Nicole\",\n",
        "    model=\"eleven_monolingual_v1\"\n",
        ")\n",
        "\n",
        "# Set the directory path to save the images\n",
        "directory_path = \"/content/drive/MyDrive/Colab Notebooks/UD/aud\"\n",
        "\n",
        "# Create the directory if it does not exist\n",
        "if not os.path.exists(directory_path):\n",
        "    os.makedirs(directory_path)\n",
        "\n",
        "audio_file_path = os.path.join(directory_path, f\"audio_0.wav\")\n",
        "\n",
        "# Save the generated audio to the temporary directory\n",
        "with open(audio_file_path, 'wb') as f:\n",
        "    f.write(audio)"
      ],
      "metadata": {
        "id": "Snmv08Bzx5t-"
      },
      "execution_count": 67,
      "outputs": []
    },
    {
      "cell_type": "markdown",
      "source": [
        "## Compositing"
      ],
      "metadata": {
        "id": "FlJ3hPsVehWw"
      }
    },
    {
      "cell_type": "code",
      "source": [
        "from moviepy.editor import ImageClip, concatenate_videoclips\n",
        "from moviepy.editor import AudioFileClip\n",
        "\n",
        "# Paths to images and audio\n",
        "images_folder = '/content/drive/MyDrive/Colab Notebooks/UD/img/'\n",
        "audio_file_path = '/content/drive/MyDrive/Colab Notebooks/UD/aud/audio_0.wav'\n",
        "\n",
        "# Get image files from the folder\n",
        "image_files = [f for f in os.listdir(images_folder) if f.endswith('.jpg')]\n",
        "# Sort image files by name\n",
        "image_files.sort()\n",
        "# Create a list of image paths\n",
        "image_paths = [os.path.join(images_folder, f) for f in image_files]\n",
        "\n",
        "# Load audio clip\n",
        "audio_clip = AudioFileClip(audio_file_path)\n",
        "\n",
        "# Calculate duration per image\n",
        "duration_per_image = audio_clip.duration / len(image_paths)\n",
        "\n",
        "# Create video clips for each image\n",
        "video_clips = []\n",
        "for image_path in image_paths:\n",
        "    img_clip = ImageClip(image_path, duration=duration_per_image).resize((1080, 1920))\n",
        "    video_clips.append(img_clip)\n",
        "\n",
        "# Concatenate video clips\n",
        "concatenated_clips = concatenate_videoclips(video_clips, method=\"compose\")\n",
        "# Set audio for the concatenated video\n",
        "final_clip = concatenated_clips.set_audio(audio_clip)\n",
        "# Set the FPS for the final video\n",
        "final_clip.fps = 24\n",
        "\n",
        "# Set the directory path to save the images\n",
        "directory_path = \"/content/drive/MyDrive/Colab Notebooks/UD/output\"\n",
        "# Create the directory if it does not exist\n",
        "if not os.path.exists(directory_path):\n",
        "    os.makedirs(directory_path)\n",
        "\n",
        "# Export the video\n",
        "formatted_timestamp = datetime.now().strftime('%Y%m%d%H%M%S')\n",
        "output_video_path = f'/content/drive/MyDrive/Colab Notebooks/UD/output/output_{formatted_timestamp}_reddit.mp4'\n",
        "final_clip.write_videofile(output_video_path, codec='libx264', threads=4)"
      ],
      "metadata": {
        "colab": {
          "base_uri": "https://localhost:8080/"
        },
        "outputId": "b4adff50-563d-48ec-cd8f-acaa7998618a",
        "collapsed": true,
        "id": "PIOZR_MOybVm"
      },
      "execution_count": 68,
      "outputs": [
        {
          "output_type": "stream",
          "name": "stdout",
          "text": [
            "Moviepy - Building video /content/drive/MyDrive/Colab Notebooks/UD/output/output_20230830000321_reddit.mp4.\n",
            "MoviePy - Writing audio in output_20230830000321_redditTEMP_MPY_wvf_snd.mp3\n"
          ]
        },
        {
          "output_type": "stream",
          "name": "stderr",
          "text": []
        },
        {
          "output_type": "stream",
          "name": "stdout",
          "text": [
            "MoviePy - Done.\n",
            "Moviepy - Writing video /content/drive/MyDrive/Colab Notebooks/UD/output/output_20230830000321_reddit.mp4\n",
            "\n"
          ]
        },
        {
          "output_type": "stream",
          "name": "stderr",
          "text": []
        },
        {
          "output_type": "stream",
          "name": "stdout",
          "text": [
            "Moviepy - Done !\n",
            "Moviepy - video ready /content/drive/MyDrive/Colab Notebooks/UD/output/output_20230830000321_reddit.mp4\n"
          ]
        }
      ]
    },
    {
      "cell_type": "markdown",
      "source": [
        "## Uploading"
      ],
      "metadata": {
        "id": "vz3k9tFTejV8"
      }
    },
    {
      "cell_type": "code",
      "source": [
        "import google.auth\n",
        "import google_auth_oauthlib.flow\n",
        "import googleapiclient.discovery\n",
        "import googleapiclient.errors\n",
        "from google.auth.transport.requests import Request\n",
        "from google.oauth2.credentials import Credentials"
      ],
      "metadata": {
        "id": "g-4jxD35iG0W"
      },
      "execution_count": 69,
      "outputs": []
    },
    {
      "cell_type": "code",
      "source": [
        "# Load authorized user info from file\n",
        "with open('/content/drive/MyDrive/Colab Notebooks/UD/token.json', 'r') as file:\n",
        "    authorized_user_info = json.load(file)\n",
        "\n",
        "creds = Credentials.from_authorized_user_info(authorized_user_info, ['https://www.googleapis.com/auth/youtube.upload'])\n",
        "creds.refresh(Request())\n",
        "credentials = creds\n",
        "\n",
        "youtube = googleapiclient.discovery.build('youtube', 'v3', credentials=credentials)"
      ],
      "metadata": {
        "id": "FquVmMLzC5OG"
      },
      "execution_count": 70,
      "outputs": []
    },
    {
      "cell_type": "code",
      "source": [
        "# Define the function to upload the video file\n",
        "def upload_short(video_title, video_description, video_file_path):\n",
        "    request = youtube.videos().insert(\n",
        "        part=\"snippet,status\",\n",
        "        body={\n",
        "            \"snippet\": {\n",
        "                \"title\": video_title,\n",
        "                \"description\": video_description,\n",
        "                \"defaultLanguage\": \"en\",\n",
        "                \"defaultAudioLanguage\": \"en\"\n",
        "            },\n",
        "            \"status\": {\n",
        "                \"privacyStatus\": \"private\",\n",
        "                \"madeForKids\": False,\n",
        "                \"selfDeclaredMadeForKids\": False,\n",
        "                \"embeddable\": True,\n",
        "                \"license\": \"youtube\",\n",
        "                \"publicStatsViewable\": True\n",
        "            },\n",
        "        },\n",
        "        media_body=googleapiclient.http.MediaFileUpload(video_file_path),\n",
        "        restricts=[{\n",
        "            \"restriction\": \"label\",\n",
        "            \"restrictionText\": \"No restrictions\"\n",
        "        }]\n",
        "    )\n",
        "    response = request.execute()\n",
        "    return response"
      ],
      "metadata": {
        "id": "zIFW2nHIiDVx"
      },
      "execution_count": 73,
      "outputs": []
    },
    {
      "cell_type": "code",
      "source": [
        "# Call the upload function with your desired parameters\n",
        "response = upload_short(shorts_title, shorts_description, output_video_path)\n",
        "response"
      ],
      "metadata": {
        "id": "PKG41khpiDgZ",
        "colab": {
          "base_uri": "https://localhost:8080/"
        },
        "outputId": "4628b88d-929d-45e0-af48-3fd5fef960ed"
      },
      "execution_count": 72,
      "outputs": [
        {
          "output_type": "execute_result",
          "data": {
            "text/plain": [
              "{'kind': 'youtube#video',\n",
              " 'etag': 'fQCXo2S1H5R1Ee9u6hJpwQ5e2QU',\n",
              " 'id': '-34fKb3k79M',\n",
              " 'snippet': {'publishedAt': '2023-08-30T00:07:10Z',\n",
              "  'channelId': 'UCWdV2EMmhOMenikQpuFdWog',\n",
              "  'title': 'YouTube Short: The Mystery Naps and the Unseen Reality',\n",
              "  'description': '\"Escaping Reality: A YouTube Short about a Woman\\'s Mysterious Disappearing Act\"',\n",
              "  'thumbnails': {'default': {'url': 'https://i9.ytimg.com/vi/-34fKb3k79M/default.jpg?sqp=CKyPuqcG&rs=AOn4CLDpUO4MVwlWy_FDE9IRc3zh-vCRQg',\n",
              "    'width': 120,\n",
              "    'height': 90},\n",
              "   'medium': {'url': 'https://i9.ytimg.com/vi/-34fKb3k79M/mqdefault.jpg?sqp=CKyPuqcG&rs=AOn4CLDA-75mL5xHCY4bA0OFxTgz06thMQ',\n",
              "    'width': 320,\n",
              "    'height': 180},\n",
              "   'high': {'url': 'https://i9.ytimg.com/vi/-34fKb3k79M/hqdefault.jpg?sqp=CKyPuqcG&rs=AOn4CLCLC2ATcuYZpb2-ked3s9XmpvNHYQ',\n",
              "    'width': 480,\n",
              "    'height': 360}},\n",
              "  'channelTitle': 'Nikhil Nair',\n",
              "  'categoryId': '22',\n",
              "  'liveBroadcastContent': 'none',\n",
              "  'localized': {'title': 'YouTube Short: The Mystery Naps and the Unseen Reality',\n",
              "   'description': '\"Escaping Reality: A YouTube Short about a Woman\\'s Mysterious Disappearing Act\"'}},\n",
              " 'status': {'uploadStatus': 'uploaded',\n",
              "  'privacyStatus': 'private',\n",
              "  'license': 'youtube',\n",
              "  'embeddable': True,\n",
              "  'publicStatsViewable': True}}"
            ]
          },
          "metadata": {},
          "execution_count": 72
        }
      ]
    }
  ]
}