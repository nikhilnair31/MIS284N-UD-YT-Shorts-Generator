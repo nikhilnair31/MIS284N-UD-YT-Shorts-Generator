{
  "nbformat": 4,
  "nbformat_minor": 0,
  "metadata": {
    "colab": {
      "provenance": [],
      "toc_visible": true,
      "collapsed_sections": [
        "fz1jmQFQlGCq",
        "oGvrRb95gAuk"
      ],
      "authorship_tag": "ABX9TyNrR+DlLtrFeqceD3Gwx+q/",
      "include_colab_link": true
    },
    "kernelspec": {
      "name": "python3",
      "display_name": "Python 3"
    },
    "language_info": {
      "name": "python"
    }
  },
  "cells": [
    {
      "cell_type": "markdown",
      "metadata": {
        "id": "view-in-github",
        "colab_type": "text"
      },
      "source": [
        "<a href=\"https://colab.research.google.com/github/nikhilnair31/MIS284N-UD-YT-Shorts-Generator/blob/main/MIS284N_Unstructured_Data_Test_3B.ipynb\" target=\"_parent\"><img src=\"https://colab.research.google.com/assets/colab-badge.svg\" alt=\"Open In Colab\"/></a>"
      ]
    },
    {
      "cell_type": "markdown",
      "source": [
        "## Setup"
      ],
      "metadata": {
        "id": "fz1jmQFQlGCq"
      }
    },
    {
      "cell_type": "markdown",
      "source": [
        "### Install and Import"
      ],
      "metadata": {
        "id": "V3abnKXazsvN"
      }
    },
    {
      "cell_type": "code",
      "execution_count": 4,
      "metadata": {
        "id": "fctxJ9LCdQBx",
        "collapsed": true,
        "colab": {
          "base_uri": "https://localhost:8080/",
          "height": 1000
        },
        "outputId": "663d00a4-e6bf-496c-d3b5-8b291798a73e"
      },
      "outputs": [
        {
          "output_type": "stream",
          "name": "stdout",
          "text": [
            "\r0% [Working]\r            \rHit:1 http://archive.ubuntu.com/ubuntu jammy InRelease\n",
            "\r0% [Waiting for headers] [Connecting to security.ubuntu.com (91.189.91.81)] [Co\r                                                                               \rGet:2 http://archive.ubuntu.com/ubuntu jammy-updates InRelease [119 kB]\n",
            "\r                                                                               \rGet:3 http://archive.ubuntu.com/ubuntu jammy-backports InRelease [109 kB]\n",
            "Get:4 https://cloud.r-project.org/bin/linux/ubuntu jammy-cran40/ InRelease [3,626 B]\n",
            "Get:5 https://ppa.launchpadcontent.net/c2d4u.team/c2d4u4.0+/ubuntu jammy InRelease [18.1 kB]\n",
            "Get:6 https://developer.download.nvidia.com/compute/cuda/repos/ubuntu2204/x86_64  InRelease [1,581 B]\n",
            "Get:7 http://security.ubuntu.com/ubuntu jammy-security InRelease [110 kB]\n",
            "Get:8 https://ppa.launchpadcontent.net/deadsnakes/ppa/ubuntu jammy InRelease [18.1 kB]\n",
            "Get:9 https://ppa.launchpadcontent.net/graphics-drivers/ppa/ubuntu jammy InRelease [24.3 kB]\n",
            "Hit:10 https://ppa.launchpadcontent.net/ubuntugis/ppa/ubuntu jammy InRelease\n",
            "Get:11 http://archive.ubuntu.com/ubuntu jammy-updates/restricted amd64 Packages [1,010 kB]\n",
            "Get:12 http://archive.ubuntu.com/ubuntu jammy-updates/main amd64 Packages [1,182 kB]\n",
            "Get:13 http://archive.ubuntu.com/ubuntu jammy-updates/universe amd64 Packages [1,251 kB]\n",
            "Get:14 https://ppa.launchpadcontent.net/c2d4u.team/c2d4u4.0+/ubuntu jammy/main Sources [2,174 kB]\n",
            "Get:15 https://developer.download.nvidia.com/compute/cuda/repos/ubuntu2204/x86_64  Packages [493 kB]\n",
            "Get:16 https://ppa.launchpadcontent.net/c2d4u.team/c2d4u4.0+/ubuntu jammy/main amd64 Packages [1,115 kB]\n",
            "Get:17 https://ppa.launchpadcontent.net/deadsnakes/ppa/ubuntu jammy/main amd64 Packages [21.8 kB]\n",
            "Get:18 https://ppa.launchpadcontent.net/graphics-drivers/ppa/ubuntu jammy/main amd64 Packages [37.3 kB]\n",
            "Get:19 http://security.ubuntu.com/ubuntu jammy-security/restricted amd64 Packages [984 kB]\n",
            "Get:20 http://security.ubuntu.com/ubuntu jammy-security/main amd64 Packages [909 kB]\n",
            "Get:21 http://security.ubuntu.com/ubuntu jammy-security/universe amd64 Packages [990 kB]\n",
            "Fetched 10.6 MB in 3s (3,704 kB/s)\n",
            "Reading package lists... Done\n",
            "Reading package lists... Done\n",
            "Building dependency tree... Done\n",
            "Reading state information... Done\n",
            "The following additional packages will be installed:\n",
            "  apparmor chromium-browser libfuse3-3 liblzo2-2 snapd squashfs-tools\n",
            "  systemd-hwe-hwdb udev\n",
            "Suggested packages:\n",
            "  apparmor-profiles-extra apparmor-utils fuse3 zenity | kdialog\n",
            "The following NEW packages will be installed:\n",
            "  apparmor chromium-browser chromium-chromedriver libfuse3-3 liblzo2-2 snapd\n",
            "  squashfs-tools systemd-hwe-hwdb udev\n",
            "0 upgraded, 9 newly installed, 0 to remove and 29 not upgraded.\n",
            "Need to get 26.3 MB of archives.\n",
            "After this operation, 116 MB of additional disk space will be used.\n",
            "Get:1 http://archive.ubuntu.com/ubuntu jammy-updates/main amd64 apparmor amd64 3.0.4-2ubuntu2.2 [595 kB]\n",
            "Get:2 http://archive.ubuntu.com/ubuntu jammy/main amd64 liblzo2-2 amd64 2.10-2build3 [53.7 kB]\n",
            "Get:3 http://archive.ubuntu.com/ubuntu jammy/main amd64 squashfs-tools amd64 1:4.5-3build1 [159 kB]\n",
            "Get:4 http://archive.ubuntu.com/ubuntu jammy-updates/main amd64 udev amd64 249.11-0ubuntu3.9 [1,557 kB]\n",
            "Get:5 http://archive.ubuntu.com/ubuntu jammy/main amd64 libfuse3-3 amd64 3.10.5-1build1 [81.2 kB]\n",
            "Get:6 http://archive.ubuntu.com/ubuntu jammy-updates/main amd64 snapd amd64 2.58+22.04.1 [23.8 MB]\n",
            "Get:7 http://archive.ubuntu.com/ubuntu jammy-updates/universe amd64 chromium-browser amd64 1:85.0.4183.83-0ubuntu2.22.04.1 [49.2 kB]\n",
            "Get:8 http://archive.ubuntu.com/ubuntu jammy-updates/universe amd64 chromium-chromedriver amd64 1:85.0.4183.83-0ubuntu2.22.04.1 [2,308 B]\n",
            "Get:9 http://archive.ubuntu.com/ubuntu jammy-updates/main amd64 systemd-hwe-hwdb all 249.11.3 [2,908 B]\n",
            "Fetched 26.3 MB in 0s (66.5 MB/s)\n",
            "Preconfiguring packages ...\n",
            "Selecting previously unselected package apparmor.\n",
            "(Reading database ... 120831 files and directories currently installed.)\n",
            "Preparing to unpack .../0-apparmor_3.0.4-2ubuntu2.2_amd64.deb ...\n",
            "Unpacking apparmor (3.0.4-2ubuntu2.2) ...\n",
            "Selecting previously unselected package liblzo2-2:amd64.\n",
            "Preparing to unpack .../1-liblzo2-2_2.10-2build3_amd64.deb ...\n",
            "Unpacking liblzo2-2:amd64 (2.10-2build3) ...\n",
            "Selecting previously unselected package squashfs-tools.\n",
            "Preparing to unpack .../2-squashfs-tools_1%3a4.5-3build1_amd64.deb ...\n",
            "Unpacking squashfs-tools (1:4.5-3build1) ...\n",
            "Selecting previously unselected package udev.\n",
            "Preparing to unpack .../3-udev_249.11-0ubuntu3.9_amd64.deb ...\n",
            "Unpacking udev (249.11-0ubuntu3.9) ...\n",
            "Selecting previously unselected package libfuse3-3:amd64.\n",
            "Preparing to unpack .../4-libfuse3-3_3.10.5-1build1_amd64.deb ...\n",
            "Unpacking libfuse3-3:amd64 (3.10.5-1build1) ...\n",
            "Selecting previously unselected package snapd.\n",
            "Preparing to unpack .../5-snapd_2.58+22.04.1_amd64.deb ...\n",
            "Unpacking snapd (2.58+22.04.1) ...\n",
            "Setting up apparmor (3.0.4-2ubuntu2.2) ...\n",
            "Created symlink /etc/systemd/system/sysinit.target.wants/apparmor.service → /lib/systemd/system/apparmor.service.\n",
            "Setting up liblzo2-2:amd64 (2.10-2build3) ...\n",
            "Setting up squashfs-tools (1:4.5-3build1) ...\n",
            "Setting up udev (249.11-0ubuntu3.9) ...\n",
            "invoke-rc.d: could not determine current runlevel\n",
            "invoke-rc.d: policy-rc.d denied execution of start.\n",
            "Setting up libfuse3-3:amd64 (3.10.5-1build1) ...\n",
            "Setting up snapd (2.58+22.04.1) ...\n",
            "Created symlink /etc/systemd/system/multi-user.target.wants/snapd.aa-prompt-listener.service → /lib/systemd/system/snapd.aa-prompt-listener.service.\n",
            "Created symlink /etc/systemd/system/multi-user.target.wants/snapd.apparmor.service → /lib/systemd/system/snapd.apparmor.service.\n",
            "Created symlink /etc/systemd/system/multi-user.target.wants/snapd.autoimport.service → /lib/systemd/system/snapd.autoimport.service.\n",
            "Created symlink /etc/systemd/system/multi-user.target.wants/snapd.core-fixup.service → /lib/systemd/system/snapd.core-fixup.service.\n",
            "Created symlink /etc/systemd/system/multi-user.target.wants/snapd.recovery-chooser-trigger.service → /lib/systemd/system/snapd.recovery-chooser-trigger.service.\n",
            "Created symlink /etc/systemd/system/multi-user.target.wants/snapd.seeded.service → /lib/systemd/system/snapd.seeded.service.\n",
            "Created symlink /etc/systemd/system/cloud-final.service.wants/snapd.seeded.service → /lib/systemd/system/snapd.seeded.service.\n",
            "Unit /lib/systemd/system/snapd.seeded.service is added as a dependency to a non-existent unit cloud-final.service.\n",
            "Created symlink /etc/systemd/system/multi-user.target.wants/snapd.service → /lib/systemd/system/snapd.service.\n",
            "Created symlink /etc/systemd/system/timers.target.wants/snapd.snap-repair.timer → /lib/systemd/system/snapd.snap-repair.timer.\n",
            "Created symlink /etc/systemd/system/sockets.target.wants/snapd.socket → /lib/systemd/system/snapd.socket.\n",
            "Created symlink /etc/systemd/system/final.target.wants/snapd.system-shutdown.service → /lib/systemd/system/snapd.system-shutdown.service.\n",
            "Selecting previously unselected package chromium-browser.\n",
            "(Reading database ... 121271 files and directories currently installed.)\n",
            "Preparing to unpack .../chromium-browser_1%3a85.0.4183.83-0ubuntu2.22.04.1_amd64.deb ...\n",
            "=> Installing the chromium snap\n",
            "==> Checking connectivity with the snap store\n",
            "===> System doesn't have a working snapd, skipping\n",
            "Unpacking chromium-browser (1:85.0.4183.83-0ubuntu2.22.04.1) ...\n",
            "Selecting previously unselected package chromium-chromedriver.\n",
            "Preparing to unpack .../chromium-chromedriver_1%3a85.0.4183.83-0ubuntu2.22.04.1_amd64.deb ...\n",
            "Unpacking chromium-chromedriver (1:85.0.4183.83-0ubuntu2.22.04.1) ...\n",
            "Selecting previously unselected package systemd-hwe-hwdb.\n",
            "Preparing to unpack .../systemd-hwe-hwdb_249.11.3_all.deb ...\n",
            "Unpacking systemd-hwe-hwdb (249.11.3) ...\n",
            "Setting up systemd-hwe-hwdb (249.11.3) ...\n",
            "Setting up chromium-browser (1:85.0.4183.83-0ubuntu2.22.04.1) ...\n",
            "update-alternatives: using /usr/bin/chromium-browser to provide /usr/bin/x-www-browser (x-www-browser) in auto mode\n",
            "update-alternatives: using /usr/bin/chromium-browser to provide /usr/bin/gnome-www-browser (gnome-www-browser) in auto mode\n",
            "Setting up chromium-chromedriver (1:85.0.4183.83-0ubuntu2.22.04.1) ...\n",
            "Processing triggers for udev (249.11-0ubuntu3.9) ...\n",
            "Processing triggers for hicolor-icon-theme (0.17-2) ...\n",
            "Processing triggers for libc-bin (2.35-0ubuntu3.1) ...\n",
            "/sbin/ldconfig.real: /usr/local/lib/libtbbmalloc_proxy.so.2 is not a symbolic link\n",
            "\n",
            "/sbin/ldconfig.real: /usr/local/lib/libtbbbind.so.3 is not a symbolic link\n",
            "\n",
            "/sbin/ldconfig.real: /usr/local/lib/libtbbmalloc.so.2 is not a symbolic link\n",
            "\n",
            "/sbin/ldconfig.real: /usr/local/lib/libtbb.so.12 is not a symbolic link\n",
            "\n",
            "/sbin/ldconfig.real: /usr/local/lib/libtbbbind_2_5.so.3 is not a symbolic link\n",
            "\n",
            "/sbin/ldconfig.real: /usr/local/lib/libtbbbind_2_0.so.3 is not a symbolic link\n",
            "\n",
            "Processing triggers for man-db (2.10.2-1) ...\n",
            "Processing triggers for dbus (1.12.20-2ubuntu4.1) ...\n",
            "cp: '/usr/lib/chromium-browser/chromedriver' and '/usr/bin/chromedriver' are the same file\n",
            "Collecting selenium\n",
            "  Downloading selenium-4.11.2-py3-none-any.whl (7.2 MB)\n",
            "\u001b[2K     \u001b[90m━━━━━━━━━━━━━━━━━━━━━━━━━━━━━━━━━━━━━━━━\u001b[0m \u001b[32m7.2/7.2 MB\u001b[0m \u001b[31m25.6 MB/s\u001b[0m eta \u001b[36m0:00:00\u001b[0m\n",
            "\u001b[?25hRequirement already satisfied: urllib3[socks]<3,>=1.26 in /usr/local/lib/python3.10/dist-packages (from selenium) (2.0.4)\n",
            "Collecting trio~=0.17 (from selenium)\n",
            "  Downloading trio-0.22.2-py3-none-any.whl (400 kB)\n",
            "\u001b[2K     \u001b[90m━━━━━━━━━━━━━━━━━━━━━━━━━━━━━━━━━━━━━━\u001b[0m \u001b[32m400.2/400.2 kB\u001b[0m \u001b[31m30.4 MB/s\u001b[0m eta \u001b[36m0:00:00\u001b[0m\n",
            "\u001b[?25hCollecting trio-websocket~=0.9 (from selenium)\n",
            "  Downloading trio_websocket-0.10.3-py3-none-any.whl (17 kB)\n",
            "Requirement already satisfied: certifi>=2021.10.8 in /usr/local/lib/python3.10/dist-packages (from selenium) (2023.7.22)\n",
            "Requirement already satisfied: attrs>=20.1.0 in /usr/local/lib/python3.10/dist-packages (from trio~=0.17->selenium) (23.1.0)\n",
            "Requirement already satisfied: sortedcontainers in /usr/local/lib/python3.10/dist-packages (from trio~=0.17->selenium) (2.4.0)\n",
            "Requirement already satisfied: idna in /usr/local/lib/python3.10/dist-packages (from trio~=0.17->selenium) (3.4)\n",
            "Collecting outcome (from trio~=0.17->selenium)\n",
            "  Downloading outcome-1.2.0-py2.py3-none-any.whl (9.7 kB)\n",
            "Requirement already satisfied: sniffio in /usr/local/lib/python3.10/dist-packages (from trio~=0.17->selenium) (1.3.0)\n",
            "Requirement already satisfied: exceptiongroup>=1.0.0rc9 in /usr/local/lib/python3.10/dist-packages (from trio~=0.17->selenium) (1.1.3)\n",
            "Collecting wsproto>=0.14 (from trio-websocket~=0.9->selenium)\n",
            "  Downloading wsproto-1.2.0-py3-none-any.whl (24 kB)\n",
            "Requirement already satisfied: pysocks!=1.5.7,<2.0,>=1.5.6 in /usr/local/lib/python3.10/dist-packages (from urllib3[socks]<3,>=1.26->selenium) (1.7.1)\n",
            "Collecting h11<1,>=0.9.0 (from wsproto>=0.14->trio-websocket~=0.9->selenium)\n",
            "  Downloading h11-0.14.0-py3-none-any.whl (58 kB)\n",
            "\u001b[2K     \u001b[90m━━━━━━━━━━━━━━━━━━━━━━━━━━━━━━━━━━━━━━━━\u001b[0m \u001b[32m58.3/58.3 kB\u001b[0m \u001b[31m7.7 MB/s\u001b[0m eta \u001b[36m0:00:00\u001b[0m\n",
            "\u001b[?25hInstalling collected packages: outcome, h11, wsproto, trio, trio-websocket, selenium\n",
            "Successfully installed h11-0.14.0 outcome-1.2.0 selenium-4.11.2 trio-0.22.2 trio-websocket-0.10.3 wsproto-1.2.0\n",
            "Collecting openai\n",
            "  Downloading openai-0.27.10-py3-none-any.whl (76 kB)\n",
            "\u001b[2K     \u001b[90m━━━━━━━━━━━━━━━━━━━━━━━━━━━━━━━━━━━━━━━━\u001b[0m \u001b[32m76.5/76.5 kB\u001b[0m \u001b[31m2.2 MB/s\u001b[0m eta \u001b[36m0:00:00\u001b[0m\n",
            "\u001b[?25hRequirement already satisfied: requests>=2.20 in /usr/local/lib/python3.10/dist-packages (from openai) (2.31.0)\n",
            "Requirement already satisfied: tqdm in /usr/local/lib/python3.10/dist-packages (from openai) (4.66.1)\n",
            "Requirement already satisfied: aiohttp in /usr/local/lib/python3.10/dist-packages (from openai) (3.8.5)\n",
            "Requirement already satisfied: charset-normalizer<4,>=2 in /usr/local/lib/python3.10/dist-packages (from requests>=2.20->openai) (3.2.0)\n",
            "Requirement already satisfied: idna<4,>=2.5 in /usr/local/lib/python3.10/dist-packages (from requests>=2.20->openai) (3.4)\n",
            "Requirement already satisfied: urllib3<3,>=1.21.1 in /usr/local/lib/python3.10/dist-packages (from requests>=2.20->openai) (2.0.4)\n",
            "Requirement already satisfied: certifi>=2017.4.17 in /usr/local/lib/python3.10/dist-packages (from requests>=2.20->openai) (2023.7.22)\n",
            "Requirement already satisfied: attrs>=17.3.0 in /usr/local/lib/python3.10/dist-packages (from aiohttp->openai) (23.1.0)\n",
            "Requirement already satisfied: multidict<7.0,>=4.5 in /usr/local/lib/python3.10/dist-packages (from aiohttp->openai) (6.0.4)\n",
            "Requirement already satisfied: async-timeout<5.0,>=4.0.0a3 in /usr/local/lib/python3.10/dist-packages (from aiohttp->openai) (4.0.3)\n",
            "Requirement already satisfied: yarl<2.0,>=1.0 in /usr/local/lib/python3.10/dist-packages (from aiohttp->openai) (1.9.2)\n",
            "Requirement already satisfied: frozenlist>=1.1.1 in /usr/local/lib/python3.10/dist-packages (from aiohttp->openai) (1.4.0)\n",
            "Requirement already satisfied: aiosignal>=1.1.2 in /usr/local/lib/python3.10/dist-packages (from aiohttp->openai) (1.3.1)\n",
            "Installing collected packages: openai\n",
            "Successfully installed openai-0.27.10\n",
            "Collecting praw\n",
            "  Downloading praw-7.7.1-py3-none-any.whl (191 kB)\n",
            "\u001b[2K     \u001b[90m━━━━━━━━━━━━━━━━━━━━━━━━━━━━━━━━━━━━━━━\u001b[0m \u001b[32m191.0/191.0 kB\u001b[0m \u001b[31m3.9 MB/s\u001b[0m eta \u001b[36m0:00:00\u001b[0m\n",
            "\u001b[?25hCollecting prawcore<3,>=2.1 (from praw)\n",
            "  Downloading prawcore-2.3.0-py3-none-any.whl (16 kB)\n",
            "Collecting update-checker>=0.18 (from praw)\n",
            "  Downloading update_checker-0.18.0-py3-none-any.whl (7.0 kB)\n",
            "Requirement already satisfied: websocket-client>=0.54.0 in /usr/local/lib/python3.10/dist-packages (from praw) (1.6.2)\n",
            "Requirement already satisfied: requests<3.0,>=2.6.0 in /usr/local/lib/python3.10/dist-packages (from prawcore<3,>=2.1->praw) (2.31.0)\n",
            "Requirement already satisfied: charset-normalizer<4,>=2 in /usr/local/lib/python3.10/dist-packages (from requests<3.0,>=2.6.0->prawcore<3,>=2.1->praw) (3.2.0)\n",
            "Requirement already satisfied: idna<4,>=2.5 in /usr/local/lib/python3.10/dist-packages (from requests<3.0,>=2.6.0->prawcore<3,>=2.1->praw) (3.4)\n",
            "Requirement already satisfied: urllib3<3,>=1.21.1 in /usr/local/lib/python3.10/dist-packages (from requests<3.0,>=2.6.0->prawcore<3,>=2.1->praw) (2.0.4)\n",
            "Requirement already satisfied: certifi>=2017.4.17 in /usr/local/lib/python3.10/dist-packages (from requests<3.0,>=2.6.0->prawcore<3,>=2.1->praw) (2023.7.22)\n",
            "Installing collected packages: update-checker, prawcore, praw\n",
            "Successfully installed praw-7.7.1 prawcore-2.3.0 update-checker-0.18.0\n",
            "Collecting elevenlabs\n",
            "  Downloading elevenlabs-0.2.24-py3-none-any.whl (16 kB)\n",
            "Collecting pydantic<2.0,>=1.10 (from elevenlabs)\n",
            "  Downloading pydantic-1.10.12-cp310-cp310-manylinux_2_17_x86_64.manylinux2014_x86_64.whl (3.1 MB)\n",
            "\u001b[2K     \u001b[90m━━━━━━━━━━━━━━━━━━━━━━━━━━━━━━━━━━━━━━━━\u001b[0m \u001b[32m3.1/3.1 MB\u001b[0m \u001b[31m16.4 MB/s\u001b[0m eta \u001b[36m0:00:00\u001b[0m\n",
            "\u001b[?25hRequirement already satisfied: ipython>=7.0 in /usr/local/lib/python3.10/dist-packages (from elevenlabs) (7.34.0)\n",
            "Requirement already satisfied: requests>=2.20 in /usr/local/lib/python3.10/dist-packages (from elevenlabs) (2.31.0)\n",
            "Collecting websockets>=11.0 (from elevenlabs)\n",
            "  Downloading websockets-11.0.3-cp310-cp310-manylinux_2_5_x86_64.manylinux1_x86_64.manylinux_2_17_x86_64.manylinux2014_x86_64.whl (129 kB)\n",
            "\u001b[2K     \u001b[90m━━━━━━━━━━━━━━━━━━━━━━━━━━━━━━━━━━━━━━\u001b[0m \u001b[32m129.9/129.9 kB\u001b[0m \u001b[31m13.2 MB/s\u001b[0m eta \u001b[36m0:00:00\u001b[0m\n",
            "\u001b[?25hRequirement already satisfied: setuptools>=18.5 in /usr/local/lib/python3.10/dist-packages (from ipython>=7.0->elevenlabs) (67.7.2)\n",
            "Collecting jedi>=0.16 (from ipython>=7.0->elevenlabs)\n",
            "  Downloading jedi-0.19.0-py2.py3-none-any.whl (1.6 MB)\n",
            "\u001b[2K     \u001b[90m━━━━━━━━━━━━━━━━━━━━━━━━━━━━━━━━━━━━━━━━\u001b[0m \u001b[32m1.6/1.6 MB\u001b[0m \u001b[31m35.2 MB/s\u001b[0m eta \u001b[36m0:00:00\u001b[0m\n",
            "\u001b[?25hRequirement already satisfied: decorator in /usr/local/lib/python3.10/dist-packages (from ipython>=7.0->elevenlabs) (4.4.2)\n",
            "Requirement already satisfied: pickleshare in /usr/local/lib/python3.10/dist-packages (from ipython>=7.0->elevenlabs) (0.7.5)\n",
            "Requirement already satisfied: traitlets>=4.2 in /usr/local/lib/python3.10/dist-packages (from ipython>=7.0->elevenlabs) (5.7.1)\n",
            "Requirement already satisfied: prompt-toolkit!=3.0.0,!=3.0.1,<3.1.0,>=2.0.0 in /usr/local/lib/python3.10/dist-packages (from ipython>=7.0->elevenlabs) (3.0.39)\n",
            "Requirement already satisfied: pygments in /usr/local/lib/python3.10/dist-packages (from ipython>=7.0->elevenlabs) (2.16.1)\n",
            "Requirement already satisfied: backcall in /usr/local/lib/python3.10/dist-packages (from ipython>=7.0->elevenlabs) (0.2.0)\n",
            "Requirement already satisfied: matplotlib-inline in /usr/local/lib/python3.10/dist-packages (from ipython>=7.0->elevenlabs) (0.1.6)\n",
            "Requirement already satisfied: pexpect>4.3 in /usr/local/lib/python3.10/dist-packages (from ipython>=7.0->elevenlabs) (4.8.0)\n",
            "Requirement already satisfied: typing-extensions>=4.2.0 in /usr/local/lib/python3.10/dist-packages (from pydantic<2.0,>=1.10->elevenlabs) (4.7.1)\n",
            "Requirement already satisfied: charset-normalizer<4,>=2 in /usr/local/lib/python3.10/dist-packages (from requests>=2.20->elevenlabs) (3.2.0)\n",
            "Requirement already satisfied: idna<4,>=2.5 in /usr/local/lib/python3.10/dist-packages (from requests>=2.20->elevenlabs) (3.4)\n",
            "Requirement already satisfied: urllib3<3,>=1.21.1 in /usr/local/lib/python3.10/dist-packages (from requests>=2.20->elevenlabs) (2.0.4)\n",
            "Requirement already satisfied: certifi>=2017.4.17 in /usr/local/lib/python3.10/dist-packages (from requests>=2.20->elevenlabs) (2023.7.22)\n",
            "Requirement already satisfied: parso<0.9.0,>=0.8.3 in /usr/local/lib/python3.10/dist-packages (from jedi>=0.16->ipython>=7.0->elevenlabs) (0.8.3)\n",
            "Requirement already satisfied: ptyprocess>=0.5 in /usr/local/lib/python3.10/dist-packages (from pexpect>4.3->ipython>=7.0->elevenlabs) (0.7.0)\n",
            "Requirement already satisfied: wcwidth in /usr/local/lib/python3.10/dist-packages (from prompt-toolkit!=3.0.0,!=3.0.1,<3.1.0,>=2.0.0->ipython>=7.0->elevenlabs) (0.2.6)\n",
            "Installing collected packages: websockets, pydantic, jedi, elevenlabs\n",
            "  Attempting uninstall: pydantic\n",
            "    Found existing installation: pydantic 2.2.1\n",
            "    Uninstalling pydantic-2.2.1:\n",
            "      Successfully uninstalled pydantic-2.2.1\n",
            "Successfully installed elevenlabs-0.2.24 jedi-0.19.0 pydantic-1.10.12 websockets-11.0.3\n",
            "Collecting pydub\n",
            "  Downloading pydub-0.25.1-py2.py3-none-any.whl (32 kB)\n",
            "Installing collected packages: pydub\n",
            "Successfully installed pydub-0.25.1\n",
            "Collecting ffmpeg-python\n",
            "  Downloading ffmpeg_python-0.2.0-py3-none-any.whl (25 kB)\n",
            "Requirement already satisfied: future in /usr/local/lib/python3.10/dist-packages (from ffmpeg-python) (0.18.3)\n",
            "Installing collected packages: ffmpeg-python\n",
            "Successfully installed ffmpeg-python-0.2.0\n",
            "Requirement already satisfied: opencv-python-headless in /usr/local/lib/python3.10/dist-packages (4.8.0.76)\n",
            "Requirement already satisfied: moviepy in /usr/local/lib/python3.10/dist-packages (1.0.3)\n",
            "Requirement already satisfied: numpy>=1.21.2 in /usr/local/lib/python3.10/dist-packages (from opencv-python-headless) (1.23.5)\n",
            "Requirement already satisfied: decorator<5.0,>=4.0.2 in /usr/local/lib/python3.10/dist-packages (from moviepy) (4.4.2)\n",
            "Requirement already satisfied: tqdm<5.0,>=4.11.2 in /usr/local/lib/python3.10/dist-packages (from moviepy) (4.66.1)\n",
            "Requirement already satisfied: requests<3.0,>=2.8.1 in /usr/local/lib/python3.10/dist-packages (from moviepy) (2.31.0)\n",
            "Requirement already satisfied: proglog<=1.0.0 in /usr/local/lib/python3.10/dist-packages (from moviepy) (0.1.10)\n",
            "Requirement already satisfied: imageio<3.0,>=2.5 in /usr/local/lib/python3.10/dist-packages (from moviepy) (2.31.1)\n",
            "Requirement already satisfied: imageio-ffmpeg>=0.2.0 in /usr/local/lib/python3.10/dist-packages (from moviepy) (0.4.8)\n",
            "Requirement already satisfied: pillow>=8.3.2 in /usr/local/lib/python3.10/dist-packages (from imageio<3.0,>=2.5->moviepy) (9.4.0)\n",
            "Requirement already satisfied: charset-normalizer<4,>=2 in /usr/local/lib/python3.10/dist-packages (from requests<3.0,>=2.8.1->moviepy) (3.2.0)\n",
            "Requirement already satisfied: idna<4,>=2.5 in /usr/local/lib/python3.10/dist-packages (from requests<3.0,>=2.8.1->moviepy) (3.4)\n",
            "Requirement already satisfied: urllib3<3,>=1.21.1 in /usr/local/lib/python3.10/dist-packages (from requests<3.0,>=2.8.1->moviepy) (2.0.4)\n",
            "Requirement already satisfied: certifi>=2017.4.17 in /usr/local/lib/python3.10/dist-packages (from requests<3.0,>=2.8.1->moviepy) (2023.7.22)\n",
            "Collecting replicate\n",
            "  Downloading replicate-0.11.0-py3-none-any.whl (22 kB)\n",
            "Requirement already satisfied: packaging in /usr/local/lib/python3.10/dist-packages (from replicate) (23.1)\n",
            "Requirement already satisfied: pydantic>1 in /usr/local/lib/python3.10/dist-packages (from replicate) (1.10.12)\n",
            "Requirement already satisfied: requests>2 in /usr/local/lib/python3.10/dist-packages (from replicate) (2.31.0)\n",
            "Requirement already satisfied: typing-extensions>=4.2.0 in /usr/local/lib/python3.10/dist-packages (from pydantic>1->replicate) (4.7.1)\n",
            "Requirement already satisfied: charset-normalizer<4,>=2 in /usr/local/lib/python3.10/dist-packages (from requests>2->replicate) (3.2.0)\n",
            "Requirement already satisfied: idna<4,>=2.5 in /usr/local/lib/python3.10/dist-packages (from requests>2->replicate) (3.4)\n",
            "Requirement already satisfied: urllib3<3,>=1.21.1 in /usr/local/lib/python3.10/dist-packages (from requests>2->replicate) (2.0.4)\n",
            "Requirement already satisfied: certifi>=2017.4.17 in /usr/local/lib/python3.10/dist-packages (from requests>2->replicate) (2023.7.22)\n",
            "Installing collected packages: replicate\n",
            "Successfully installed replicate-0.11.0\n",
            "Requirement already satisfied: google-auth in /usr/local/lib/python3.10/dist-packages (2.17.3)\n",
            "Requirement already satisfied: google-auth-oauthlib in /usr/local/lib/python3.10/dist-packages (1.0.0)\n",
            "Requirement already satisfied: cachetools<6.0,>=2.0.0 in /usr/local/lib/python3.10/dist-packages (from google-auth) (5.3.1)\n",
            "Requirement already satisfied: pyasn1-modules>=0.2.1 in /usr/local/lib/python3.10/dist-packages (from google-auth) (0.3.0)\n",
            "Requirement already satisfied: six>=1.9.0 in /usr/local/lib/python3.10/dist-packages (from google-auth) (1.16.0)\n",
            "Requirement already satisfied: rsa<5,>=3.1.4 in /usr/local/lib/python3.10/dist-packages (from google-auth) (4.9)\n",
            "Requirement already satisfied: requests-oauthlib>=0.7.0 in /usr/local/lib/python3.10/dist-packages (from google-auth-oauthlib) (1.3.1)\n",
            "Requirement already satisfied: pyasn1<0.6.0,>=0.4.6 in /usr/local/lib/python3.10/dist-packages (from pyasn1-modules>=0.2.1->google-auth) (0.5.0)\n",
            "Requirement already satisfied: oauthlib>=3.0.0 in /usr/local/lib/python3.10/dist-packages (from requests-oauthlib>=0.7.0->google-auth-oauthlib) (3.2.2)\n",
            "Requirement already satisfied: requests>=2.0.0 in /usr/local/lib/python3.10/dist-packages (from requests-oauthlib>=0.7.0->google-auth-oauthlib) (2.31.0)\n",
            "Requirement already satisfied: charset-normalizer<4,>=2 in /usr/local/lib/python3.10/dist-packages (from requests>=2.0.0->requests-oauthlib>=0.7.0->google-auth-oauthlib) (3.2.0)\n",
            "Requirement already satisfied: idna<4,>=2.5 in /usr/local/lib/python3.10/dist-packages (from requests>=2.0.0->requests-oauthlib>=0.7.0->google-auth-oauthlib) (3.4)\n",
            "Requirement already satisfied: urllib3<3,>=1.21.1 in /usr/local/lib/python3.10/dist-packages (from requests>=2.0.0->requests-oauthlib>=0.7.0->google-auth-oauthlib) (2.0.4)\n",
            "Requirement already satisfied: certifi>=2017.4.17 in /usr/local/lib/python3.10/dist-packages (from requests>=2.0.0->requests-oauthlib>=0.7.0->google-auth-oauthlib) (2023.7.22)\n",
            "Requirement already satisfied: google-auth in /usr/local/lib/python3.10/dist-packages (2.17.3)\n",
            "Collecting google-auth\n",
            "  Downloading google_auth-2.22.0-py2.py3-none-any.whl (181 kB)\n",
            "\u001b[2K     \u001b[90m━━━━━━━━━━━━━━━━━━━━━━━━━━━━━━━━━━━━━━━\u001b[0m \u001b[32m181.8/181.8 kB\u001b[0m \u001b[31m3.9 MB/s\u001b[0m eta \u001b[36m0:00:00\u001b[0m\n",
            "\u001b[?25hRequirement already satisfied: cachetools<6.0,>=2.0.0 in /usr/local/lib/python3.10/dist-packages (from google-auth) (5.3.1)\n",
            "Requirement already satisfied: pyasn1-modules>=0.2.1 in /usr/local/lib/python3.10/dist-packages (from google-auth) (0.3.0)\n",
            "Requirement already satisfied: rsa<5,>=3.1.4 in /usr/local/lib/python3.10/dist-packages (from google-auth) (4.9)\n",
            "Requirement already satisfied: six>=1.9.0 in /usr/local/lib/python3.10/dist-packages (from google-auth) (1.16.0)\n",
            "Collecting urllib3<2.0 (from google-auth)\n",
            "  Downloading urllib3-1.26.16-py2.py3-none-any.whl (143 kB)\n",
            "\u001b[2K     \u001b[90m━━━━━━━━━━━━━━━━━━━━━━━━━━━━━━━━━━━━━━━\u001b[0m \u001b[32m143.1/143.1 kB\u001b[0m \u001b[31m7.2 MB/s\u001b[0m eta \u001b[36m0:00:00\u001b[0m\n",
            "\u001b[?25hRequirement already satisfied: pyasn1<0.6.0,>=0.4.6 in /usr/local/lib/python3.10/dist-packages (from pyasn1-modules>=0.2.1->google-auth) (0.5.0)\n",
            "Installing collected packages: urllib3, google-auth\n",
            "  Attempting uninstall: urllib3\n",
            "    Found existing installation: urllib3 2.0.4\n",
            "    Uninstalling urllib3-2.0.4:\n",
            "      Successfully uninstalled urllib3-2.0.4\n",
            "  Attempting uninstall: google-auth\n",
            "    Found existing installation: google-auth 2.17.3\n",
            "    Uninstalling google-auth-2.17.3:\n",
            "      Successfully uninstalled google-auth-2.17.3\n",
            "\u001b[31mERROR: pip's dependency resolver does not currently take into account all the packages that are installed. This behaviour is the source of the following dependency conflicts.\n",
            "google-colab 1.0.0 requires google-auth==2.17.3, but you have google-auth 2.22.0 which is incompatible.\u001b[0m\u001b[31m\n",
            "\u001b[0mSuccessfully installed google-auth-2.22.0 urllib3-1.26.16\n"
          ]
        },
        {
          "output_type": "display_data",
          "data": {
            "application/vnd.colab-display-data+json": {
              "pip_warning": {
                "packages": [
                  "google",
                  "urllib3"
                ]
              }
            }
          },
          "metadata": {}
        }
      ],
      "source": [
        "!pip install praw openai elevenlabs replicate\n",
        "!pip install opencv-python-headless moviepy\n",
        "!pip install google-auth google-auth-oauthlib\n",
        "!pip install --upgrade google-auth"
      ]
    },
    {
      "cell_type": "code",
      "source": [
        "import re\n",
        "import os\n",
        "import sys\n",
        "import json\n",
        "import time\n",
        "import numpy as np\n",
        "import pandas as pd\n",
        "from datetime import datetime\n",
        "\n",
        "from google.colab import drive\n",
        "from IPython.display import Image, display"
      ],
      "metadata": {
        "id": "hpKbMj-wdscB"
      },
      "execution_count": 5,
      "outputs": []
    },
    {
      "cell_type": "markdown",
      "source": [
        "### Filter Warnings"
      ],
      "metadata": {
        "id": "vIgNz7Rizg3d"
      }
    },
    {
      "cell_type": "code",
      "source": [
        "import warnings\n",
        "\n",
        "warnings.filterwarnings(\"ignore\", category=UserWarning, message=\"It appears that you are using PRAW in an asynchronous environment.\")\n",
        "warnings.filterwarnings(\"ignore\", category=DeprecationWarning)"
      ],
      "metadata": {
        "id": "1CoMPzjZzhvc"
      },
      "execution_count": 6,
      "outputs": []
    },
    {
      "cell_type": "markdown",
      "source": [
        "### Load Drive and Env Vars"
      ],
      "metadata": {
        "id": "bzldGXLLz2oE"
      }
    },
    {
      "cell_type": "code",
      "source": [
        "# Mount Google Drive\n",
        "drive.mount('/content/drive')"
      ],
      "metadata": {
        "colab": {
          "base_uri": "https://localhost:8080/"
        },
        "id": "qWsPTapNd-K4",
        "outputId": "95bf5816-51e5-4d61-9245-d6b3ba91193e"
      },
      "execution_count": 7,
      "outputs": [
        {
          "output_type": "stream",
          "name": "stdout",
          "text": [
            "Mounted at /content/drive\n"
          ]
        }
      ]
    },
    {
      "cell_type": "code",
      "source": [
        "# Specify the path to the shell script file\n",
        "script_path = \"/content/drive/MyDrive/Colab Notebooks/UD/env_vars.sh\"\n",
        "\n",
        "# Read the shell script file\n",
        "with open(script_path) as file:\n",
        "    script_content = file.readlines()\n",
        "\n",
        "# Extract environment variables and assign them to os.environ\n",
        "for line in script_content:\n",
        "    if line.startswith(\"export \"):\n",
        "        key, value = line[len(\"export \"):].strip().split(\"=\")\n",
        "        os.environ[key] = value.strip('\"')"
      ],
      "metadata": {
        "id": "BAv8ir2jqcEt"
      },
      "execution_count": 8,
      "outputs": []
    },
    {
      "cell_type": "code",
      "source": [
        "os.environ['REDDIT_USER_AGENT']"
      ],
      "metadata": {
        "colab": {
          "base_uri": "https://localhost:8080/",
          "height": 0
        },
        "id": "PTrjewUEqcID",
        "outputId": "88ecad97-92ec-4df0-e7c1-a920129163bd"
      },
      "execution_count": 9,
      "outputs": [
        {
          "output_type": "execute_result",
          "data": {
            "text/plain": [
              "'Test UT'"
            ],
            "application/vnd.google.colaboratory.intrinsic+json": {
              "type": "string"
            }
          },
          "metadata": {},
          "execution_count": 9
        }
      ]
    },
    {
      "cell_type": "markdown",
      "source": [
        "# Reddit Shorts Generation"
      ],
      "metadata": {
        "id": "_OIUgwxPwNn5"
      }
    },
    {
      "cell_type": "markdown",
      "source": [
        "## Reddit Scrape"
      ],
      "metadata": {
        "id": "P-q-WZt0gc6W"
      }
    },
    {
      "cell_type": "code",
      "source": [
        "import praw"
      ],
      "metadata": {
        "id": "fZ8jtxPwz_Hu"
      },
      "execution_count": 11,
      "outputs": []
    },
    {
      "cell_type": "code",
      "source": [
        "# Create a Reddit API instance\n",
        "reddit = praw.Reddit(\n",
        "    client_id=os.environ['REDDIT_CLIENT_ID'],\n",
        "    client_secret=os.environ['REDDIT_CLIENT_SECRET'],\n",
        "    user_agent=os.environ['REDDIT_USER_AGENT']\n",
        ")"
      ],
      "metadata": {
        "id": "LIFbkiSY0Ank"
      },
      "execution_count": 12,
      "outputs": []
    },
    {
      "cell_type": "code",
      "source": [
        "total_media_to_retrieve = 35\n",
        "results = []\n",
        "params = {'limit': 7}  # Specify the number of items per request\n",
        "\n",
        "while len(results) < total_media_to_retrieve:\n",
        "    remaining_to_retrieve = total_media_to_retrieve - len(results)\n",
        "    current_limit = min(remaining_to_retrieve, params['limit'])\n",
        "\n",
        "    batch = list(reddit.subreddit(\"shortscarystories\").top(limit=current_limit, params=params, time_filter=\"week\"))\n",
        "\n",
        "    if not batch:\n",
        "        break\n",
        "\n",
        "    results.extend(batch)\n",
        "\n",
        "    params = {'limit': params['limit'], 'after': batch[-1].fullname}"
      ],
      "metadata": {
        "collapsed": true,
        "id": "coZrij2Hgfyl"
      },
      "execution_count": null,
      "outputs": []
    },
    {
      "cell_type": "code",
      "source": [
        "# Create a dictionary to store post data\n",
        "posts_dict = {}\n",
        "\n",
        "# Iterate through the top posts\n",
        "for i, post in enumerate(results):\n",
        "    posts_dict[i] = {\n",
        "        \"Title\": post.title,\n",
        "        \"Content\": post.selftext,\n",
        "        # \"URL\": post.url,\n",
        "        \"Timestamp\": datetime.utcfromtimestamp(post.created_utc).strftime('%Y-%m-%d %H:%M:%S UTC'),\n",
        "        \"Upvotes\": post.ups,\n",
        "        \"Total Comments\": post.num_comments,\n",
        "    }"
      ],
      "metadata": {
        "id": "EcMxBtWWgfym"
      },
      "execution_count": 14,
      "outputs": []
    },
    {
      "cell_type": "code",
      "source": [
        "# Create a DataFrame from the dictionary\n",
        "test_df = pd.DataFrame(posts_dict).T\n",
        "# Convert \"Timestamp\" column to datetime\n",
        "test_df[\"Timestamp\"] = pd.to_datetime(test_df[\"Timestamp\"])\n",
        "# Check post content length\n",
        "test_df[\"Post Length\"] = test_df['Content'].apply(len)\n",
        "\n",
        "test_df.head()"
      ],
      "metadata": {
        "id": "Vw8c2E-bgfyn",
        "colab": {
          "base_uri": "https://localhost:8080/",
          "height": 206
        },
        "outputId": "937806f7-07cd-4721-f195-40d439cebba7"
      },
      "execution_count": 15,
      "outputs": [
        {
          "output_type": "execute_result",
          "data": {
            "text/plain": [
              "                                               Title  \\\n",
              "0  I deserved the divorce. But no one deserves wh...   \n",
              "1                                 How to cheat Death   \n",
              "2  My girlfriend says I’m becoming the man of her...   \n",
              "3  I ran into my old roommate for the first time ...   \n",
              "4                                   “Lucky” Survivor   \n",
              "\n",
              "                                             Content  \\\n",
              "0  Alimony bleeds me dry every paycheck, but that...   \n",
              "1  *Cheating Death is easy— People do it unconsci...   \n",
              "2  The day I bought DreamSync was the first time ...   \n",
              "3  While walking down the street, I ran into my o...   \n",
              "4  I was a “lucky” survivor.\\n\\nIt was a sunny da...   \n",
              "\n",
              "                  Timestamp Upvotes Total Comments  Post Length  \n",
              "0 2023-08-25 18:01:30+00:00    1065             62         2562  \n",
              "1 2023-08-28 03:13:08+00:00    1045             37         2474  \n",
              "2 2023-08-28 15:55:50+00:00     758             32         2685  \n",
              "3 2023-08-23 16:23:17+00:00     745             33         2758  \n",
              "4 2023-08-26 03:48:54+00:00     571             28         2691  "
            ],
            "text/html": [
              "\n",
              "  <div id=\"df-d30bab0f-1561-4c87-9977-41094c27f9f9\" class=\"colab-df-container\">\n",
              "    <div>\n",
              "<style scoped>\n",
              "    .dataframe tbody tr th:only-of-type {\n",
              "        vertical-align: middle;\n",
              "    }\n",
              "\n",
              "    .dataframe tbody tr th {\n",
              "        vertical-align: top;\n",
              "    }\n",
              "\n",
              "    .dataframe thead th {\n",
              "        text-align: right;\n",
              "    }\n",
              "</style>\n",
              "<table border=\"1\" class=\"dataframe\">\n",
              "  <thead>\n",
              "    <tr style=\"text-align: right;\">\n",
              "      <th></th>\n",
              "      <th>Title</th>\n",
              "      <th>Content</th>\n",
              "      <th>Timestamp</th>\n",
              "      <th>Upvotes</th>\n",
              "      <th>Total Comments</th>\n",
              "      <th>Post Length</th>\n",
              "    </tr>\n",
              "  </thead>\n",
              "  <tbody>\n",
              "    <tr>\n",
              "      <th>0</th>\n",
              "      <td>I deserved the divorce. But no one deserves wh...</td>\n",
              "      <td>Alimony bleeds me dry every paycheck, but that...</td>\n",
              "      <td>2023-08-25 18:01:30+00:00</td>\n",
              "      <td>1065</td>\n",
              "      <td>62</td>\n",
              "      <td>2562</td>\n",
              "    </tr>\n",
              "    <tr>\n",
              "      <th>1</th>\n",
              "      <td>How to cheat Death</td>\n",
              "      <td>*Cheating Death is easy— People do it unconsci...</td>\n",
              "      <td>2023-08-28 03:13:08+00:00</td>\n",
              "      <td>1045</td>\n",
              "      <td>37</td>\n",
              "      <td>2474</td>\n",
              "    </tr>\n",
              "    <tr>\n",
              "      <th>2</th>\n",
              "      <td>My girlfriend says I’m becoming the man of her...</td>\n",
              "      <td>The day I bought DreamSync was the first time ...</td>\n",
              "      <td>2023-08-28 15:55:50+00:00</td>\n",
              "      <td>758</td>\n",
              "      <td>32</td>\n",
              "      <td>2685</td>\n",
              "    </tr>\n",
              "    <tr>\n",
              "      <th>3</th>\n",
              "      <td>I ran into my old roommate for the first time ...</td>\n",
              "      <td>While walking down the street, I ran into my o...</td>\n",
              "      <td>2023-08-23 16:23:17+00:00</td>\n",
              "      <td>745</td>\n",
              "      <td>33</td>\n",
              "      <td>2758</td>\n",
              "    </tr>\n",
              "    <tr>\n",
              "      <th>4</th>\n",
              "      <td>“Lucky” Survivor</td>\n",
              "      <td>I was a “lucky” survivor.\\n\\nIt was a sunny da...</td>\n",
              "      <td>2023-08-26 03:48:54+00:00</td>\n",
              "      <td>571</td>\n",
              "      <td>28</td>\n",
              "      <td>2691</td>\n",
              "    </tr>\n",
              "  </tbody>\n",
              "</table>\n",
              "</div>\n",
              "    <div class=\"colab-df-buttons\">\n",
              "\n",
              "  <div class=\"colab-df-container\">\n",
              "    <button class=\"colab-df-convert\" onclick=\"convertToInteractive('df-d30bab0f-1561-4c87-9977-41094c27f9f9')\"\n",
              "            title=\"Convert this dataframe to an interactive table.\"\n",
              "            style=\"display:none;\">\n",
              "\n",
              "  <svg xmlns=\"http://www.w3.org/2000/svg\" height=\"24px\" viewBox=\"0 -960 960 960\">\n",
              "    <path d=\"M120-120v-720h720v720H120Zm60-500h600v-160H180v160Zm220 220h160v-160H400v160Zm0 220h160v-160H400v160ZM180-400h160v-160H180v160Zm440 0h160v-160H620v160ZM180-180h160v-160H180v160Zm440 0h160v-160H620v160Z\"/>\n",
              "  </svg>\n",
              "    </button>\n",
              "\n",
              "  <style>\n",
              "    .colab-df-container {\n",
              "      display:flex;\n",
              "      gap: 12px;\n",
              "    }\n",
              "\n",
              "    .colab-df-convert {\n",
              "      background-color: #E8F0FE;\n",
              "      border: none;\n",
              "      border-radius: 50%;\n",
              "      cursor: pointer;\n",
              "      display: none;\n",
              "      fill: #1967D2;\n",
              "      height: 32px;\n",
              "      padding: 0 0 0 0;\n",
              "      width: 32px;\n",
              "    }\n",
              "\n",
              "    .colab-df-convert:hover {\n",
              "      background-color: #E2EBFA;\n",
              "      box-shadow: 0px 1px 2px rgba(60, 64, 67, 0.3), 0px 1px 3px 1px rgba(60, 64, 67, 0.15);\n",
              "      fill: #174EA6;\n",
              "    }\n",
              "\n",
              "    .colab-df-buttons div {\n",
              "      margin-bottom: 4px;\n",
              "    }\n",
              "\n",
              "    [theme=dark] .colab-df-convert {\n",
              "      background-color: #3B4455;\n",
              "      fill: #D2E3FC;\n",
              "    }\n",
              "\n",
              "    [theme=dark] .colab-df-convert:hover {\n",
              "      background-color: #434B5C;\n",
              "      box-shadow: 0px 1px 3px 1px rgba(0, 0, 0, 0.15);\n",
              "      filter: drop-shadow(0px 1px 2px rgba(0, 0, 0, 0.3));\n",
              "      fill: #FFFFFF;\n",
              "    }\n",
              "  </style>\n",
              "\n",
              "    <script>\n",
              "      const buttonEl =\n",
              "        document.querySelector('#df-d30bab0f-1561-4c87-9977-41094c27f9f9 button.colab-df-convert');\n",
              "      buttonEl.style.display =\n",
              "        google.colab.kernel.accessAllowed ? 'block' : 'none';\n",
              "\n",
              "      async function convertToInteractive(key) {\n",
              "        const element = document.querySelector('#df-d30bab0f-1561-4c87-9977-41094c27f9f9');\n",
              "        const dataTable =\n",
              "          await google.colab.kernel.invokeFunction('convertToInteractive',\n",
              "                                                    [key], {});\n",
              "        if (!dataTable) return;\n",
              "\n",
              "        const docLinkHtml = 'Like what you see? Visit the ' +\n",
              "          '<a target=\"_blank\" href=https://colab.research.google.com/notebooks/data_table.ipynb>data table notebook</a>'\n",
              "          + ' to learn more about interactive tables.';\n",
              "        element.innerHTML = '';\n",
              "        dataTable['output_type'] = 'display_data';\n",
              "        await google.colab.output.renderOutput(dataTable, element);\n",
              "        const docLink = document.createElement('div');\n",
              "        docLink.innerHTML = docLinkHtml;\n",
              "        element.appendChild(docLink);\n",
              "      }\n",
              "    </script>\n",
              "  </div>\n",
              "\n",
              "\n",
              "<div id=\"df-2a445aec-724a-4182-8575-4a7055e5f2a6\">\n",
              "  <button class=\"colab-df-quickchart\" onclick=\"quickchart('df-2a445aec-724a-4182-8575-4a7055e5f2a6')\"\n",
              "            title=\"Suggest charts.\"\n",
              "            style=\"display:none;\">\n",
              "\n",
              "<svg xmlns=\"http://www.w3.org/2000/svg\" height=\"24px\"viewBox=\"0 0 24 24\"\n",
              "     width=\"24px\">\n",
              "    <g>\n",
              "        <path d=\"M19 3H5c-1.1 0-2 .9-2 2v14c0 1.1.9 2 2 2h14c1.1 0 2-.9 2-2V5c0-1.1-.9-2-2-2zM9 17H7v-7h2v7zm4 0h-2V7h2v10zm4 0h-2v-4h2v4z\"/>\n",
              "    </g>\n",
              "</svg>\n",
              "  </button>\n",
              "\n",
              "<style>\n",
              "  .colab-df-quickchart {\n",
              "    background-color: #E8F0FE;\n",
              "    border: none;\n",
              "    border-radius: 50%;\n",
              "    cursor: pointer;\n",
              "    display: none;\n",
              "    fill: #1967D2;\n",
              "    height: 32px;\n",
              "    padding: 0 0 0 0;\n",
              "    width: 32px;\n",
              "  }\n",
              "\n",
              "  .colab-df-quickchart:hover {\n",
              "    background-color: #E2EBFA;\n",
              "    box-shadow: 0px 1px 2px rgba(60, 64, 67, 0.3), 0px 1px 3px 1px rgba(60, 64, 67, 0.15);\n",
              "    fill: #174EA6;\n",
              "  }\n",
              "\n",
              "  [theme=dark] .colab-df-quickchart {\n",
              "    background-color: #3B4455;\n",
              "    fill: #D2E3FC;\n",
              "  }\n",
              "\n",
              "  [theme=dark] .colab-df-quickchart:hover {\n",
              "    background-color: #434B5C;\n",
              "    box-shadow: 0px 1px 3px 1px rgba(0, 0, 0, 0.15);\n",
              "    filter: drop-shadow(0px 1px 2px rgba(0, 0, 0, 0.3));\n",
              "    fill: #FFFFFF;\n",
              "  }\n",
              "</style>\n",
              "\n",
              "  <script>\n",
              "    async function quickchart(key) {\n",
              "      const charts = await google.colab.kernel.invokeFunction(\n",
              "          'suggestCharts', [key], {});\n",
              "    }\n",
              "    (() => {\n",
              "      let quickchartButtonEl =\n",
              "        document.querySelector('#df-2a445aec-724a-4182-8575-4a7055e5f2a6 button');\n",
              "      quickchartButtonEl.style.display =\n",
              "        google.colab.kernel.accessAllowed ? 'block' : 'none';\n",
              "    })();\n",
              "  </script>\n",
              "</div>\n",
              "    </div>\n",
              "  </div>\n"
            ]
          },
          "metadata": {},
          "execution_count": 15
        }
      ]
    },
    {
      "cell_type": "code",
      "source": [
        "min_test_df = test_df.sort_values(by=['Post Length'], ascending=[True])[:7]\n",
        "min_test_df"
      ],
      "metadata": {
        "colab": {
          "base_uri": "https://localhost:8080/",
          "height": 269
        },
        "id": "cDRxkdvfh1WT",
        "outputId": "2886e76b-54f3-4c11-983b-4c6865b1669e"
      },
      "execution_count": 16,
      "outputs": [
        {
          "output_type": "execute_result",
          "data": {
            "text/plain": [
              "                                               Title  \\\n",
              "33  I'm never telling anyone about my son's \"quirks\"   \n",
              "27                                   License to Kill   \n",
              "34                “The machines have a religion now”   \n",
              "23                    My Daughter's Brush With Death   \n",
              "29                               Just a little while   \n",
              "14                             She’ll Only Play Once   \n",
              "17                                           Blessed   \n",
              "\n",
              "                                              Content  \\\n",
              "33  He's different, but not worse. I love him with...   \n",
              "27  *One...*\\n\\nA methed up woman, screaming somet...   \n",
              "34  In a distant future, humanity’s insatiable que...   \n",
              "23  My daughter Lisa used to be quite a happy and ...   \n",
              "29  Do you ever just wish you could disappear for ...   \n",
              "14  Her face is pale, and she is crying. Good. I l...   \n",
              "17  I have the best husband! He works so hard for ...   \n",
              "\n",
              "                   Timestamp Upvotes Total Comments  Post Length  \n",
              "33 2023-08-29 15:24:36+00:00      90              6          610  \n",
              "27 2023-08-25 19:27:04+00:00     112              9         1177  \n",
              "34 2023-08-25 03:08:31+00:00      78              7         1232  \n",
              "23 2023-08-24 14:43:57+00:00     146              5         1246  \n",
              "29 2023-08-26 14:22:10+00:00     105             13         1255  \n",
              "14 2023-08-27 16:10:52+00:00     227             13         1527  \n",
              "17 2023-08-27 14:30:23+00:00     202             13         1909  "
            ],
            "text/html": [
              "\n",
              "  <div id=\"df-0f6cb84c-a833-4b19-9562-2178d1ec463e\" class=\"colab-df-container\">\n",
              "    <div>\n",
              "<style scoped>\n",
              "    .dataframe tbody tr th:only-of-type {\n",
              "        vertical-align: middle;\n",
              "    }\n",
              "\n",
              "    .dataframe tbody tr th {\n",
              "        vertical-align: top;\n",
              "    }\n",
              "\n",
              "    .dataframe thead th {\n",
              "        text-align: right;\n",
              "    }\n",
              "</style>\n",
              "<table border=\"1\" class=\"dataframe\">\n",
              "  <thead>\n",
              "    <tr style=\"text-align: right;\">\n",
              "      <th></th>\n",
              "      <th>Title</th>\n",
              "      <th>Content</th>\n",
              "      <th>Timestamp</th>\n",
              "      <th>Upvotes</th>\n",
              "      <th>Total Comments</th>\n",
              "      <th>Post Length</th>\n",
              "    </tr>\n",
              "  </thead>\n",
              "  <tbody>\n",
              "    <tr>\n",
              "      <th>33</th>\n",
              "      <td>I'm never telling anyone about my son's \"quirks\"</td>\n",
              "      <td>He's different, but not worse. I love him with...</td>\n",
              "      <td>2023-08-29 15:24:36+00:00</td>\n",
              "      <td>90</td>\n",
              "      <td>6</td>\n",
              "      <td>610</td>\n",
              "    </tr>\n",
              "    <tr>\n",
              "      <th>27</th>\n",
              "      <td>License to Kill</td>\n",
              "      <td>*One...*\\n\\nA methed up woman, screaming somet...</td>\n",
              "      <td>2023-08-25 19:27:04+00:00</td>\n",
              "      <td>112</td>\n",
              "      <td>9</td>\n",
              "      <td>1177</td>\n",
              "    </tr>\n",
              "    <tr>\n",
              "      <th>34</th>\n",
              "      <td>“The machines have a religion now”</td>\n",
              "      <td>In a distant future, humanity’s insatiable que...</td>\n",
              "      <td>2023-08-25 03:08:31+00:00</td>\n",
              "      <td>78</td>\n",
              "      <td>7</td>\n",
              "      <td>1232</td>\n",
              "    </tr>\n",
              "    <tr>\n",
              "      <th>23</th>\n",
              "      <td>My Daughter's Brush With Death</td>\n",
              "      <td>My daughter Lisa used to be quite a happy and ...</td>\n",
              "      <td>2023-08-24 14:43:57+00:00</td>\n",
              "      <td>146</td>\n",
              "      <td>5</td>\n",
              "      <td>1246</td>\n",
              "    </tr>\n",
              "    <tr>\n",
              "      <th>29</th>\n",
              "      <td>Just a little while</td>\n",
              "      <td>Do you ever just wish you could disappear for ...</td>\n",
              "      <td>2023-08-26 14:22:10+00:00</td>\n",
              "      <td>105</td>\n",
              "      <td>13</td>\n",
              "      <td>1255</td>\n",
              "    </tr>\n",
              "    <tr>\n",
              "      <th>14</th>\n",
              "      <td>She’ll Only Play Once</td>\n",
              "      <td>Her face is pale, and she is crying. Good. I l...</td>\n",
              "      <td>2023-08-27 16:10:52+00:00</td>\n",
              "      <td>227</td>\n",
              "      <td>13</td>\n",
              "      <td>1527</td>\n",
              "    </tr>\n",
              "    <tr>\n",
              "      <th>17</th>\n",
              "      <td>Blessed</td>\n",
              "      <td>I have the best husband! He works so hard for ...</td>\n",
              "      <td>2023-08-27 14:30:23+00:00</td>\n",
              "      <td>202</td>\n",
              "      <td>13</td>\n",
              "      <td>1909</td>\n",
              "    </tr>\n",
              "  </tbody>\n",
              "</table>\n",
              "</div>\n",
              "    <div class=\"colab-df-buttons\">\n",
              "\n",
              "  <div class=\"colab-df-container\">\n",
              "    <button class=\"colab-df-convert\" onclick=\"convertToInteractive('df-0f6cb84c-a833-4b19-9562-2178d1ec463e')\"\n",
              "            title=\"Convert this dataframe to an interactive table.\"\n",
              "            style=\"display:none;\">\n",
              "\n",
              "  <svg xmlns=\"http://www.w3.org/2000/svg\" height=\"24px\" viewBox=\"0 -960 960 960\">\n",
              "    <path d=\"M120-120v-720h720v720H120Zm60-500h600v-160H180v160Zm220 220h160v-160H400v160Zm0 220h160v-160H400v160ZM180-400h160v-160H180v160Zm440 0h160v-160H620v160ZM180-180h160v-160H180v160Zm440 0h160v-160H620v160Z\"/>\n",
              "  </svg>\n",
              "    </button>\n",
              "\n",
              "  <style>\n",
              "    .colab-df-container {\n",
              "      display:flex;\n",
              "      gap: 12px;\n",
              "    }\n",
              "\n",
              "    .colab-df-convert {\n",
              "      background-color: #E8F0FE;\n",
              "      border: none;\n",
              "      border-radius: 50%;\n",
              "      cursor: pointer;\n",
              "      display: none;\n",
              "      fill: #1967D2;\n",
              "      height: 32px;\n",
              "      padding: 0 0 0 0;\n",
              "      width: 32px;\n",
              "    }\n",
              "\n",
              "    .colab-df-convert:hover {\n",
              "      background-color: #E2EBFA;\n",
              "      box-shadow: 0px 1px 2px rgba(60, 64, 67, 0.3), 0px 1px 3px 1px rgba(60, 64, 67, 0.15);\n",
              "      fill: #174EA6;\n",
              "    }\n",
              "\n",
              "    .colab-df-buttons div {\n",
              "      margin-bottom: 4px;\n",
              "    }\n",
              "\n",
              "    [theme=dark] .colab-df-convert {\n",
              "      background-color: #3B4455;\n",
              "      fill: #D2E3FC;\n",
              "    }\n",
              "\n",
              "    [theme=dark] .colab-df-convert:hover {\n",
              "      background-color: #434B5C;\n",
              "      box-shadow: 0px 1px 3px 1px rgba(0, 0, 0, 0.15);\n",
              "      filter: drop-shadow(0px 1px 2px rgba(0, 0, 0, 0.3));\n",
              "      fill: #FFFFFF;\n",
              "    }\n",
              "  </style>\n",
              "\n",
              "    <script>\n",
              "      const buttonEl =\n",
              "        document.querySelector('#df-0f6cb84c-a833-4b19-9562-2178d1ec463e button.colab-df-convert');\n",
              "      buttonEl.style.display =\n",
              "        google.colab.kernel.accessAllowed ? 'block' : 'none';\n",
              "\n",
              "      async function convertToInteractive(key) {\n",
              "        const element = document.querySelector('#df-0f6cb84c-a833-4b19-9562-2178d1ec463e');\n",
              "        const dataTable =\n",
              "          await google.colab.kernel.invokeFunction('convertToInteractive',\n",
              "                                                    [key], {});\n",
              "        if (!dataTable) return;\n",
              "\n",
              "        const docLinkHtml = 'Like what you see? Visit the ' +\n",
              "          '<a target=\"_blank\" href=https://colab.research.google.com/notebooks/data_table.ipynb>data table notebook</a>'\n",
              "          + ' to learn more about interactive tables.';\n",
              "        element.innerHTML = '';\n",
              "        dataTable['output_type'] = 'display_data';\n",
              "        await google.colab.output.renderOutput(dataTable, element);\n",
              "        const docLink = document.createElement('div');\n",
              "        docLink.innerHTML = docLinkHtml;\n",
              "        element.appendChild(docLink);\n",
              "      }\n",
              "    </script>\n",
              "  </div>\n",
              "\n",
              "\n",
              "<div id=\"df-26ef98fb-5fcf-444b-a55e-f8d7e9ce2f03\">\n",
              "  <button class=\"colab-df-quickchart\" onclick=\"quickchart('df-26ef98fb-5fcf-444b-a55e-f8d7e9ce2f03')\"\n",
              "            title=\"Suggest charts.\"\n",
              "            style=\"display:none;\">\n",
              "\n",
              "<svg xmlns=\"http://www.w3.org/2000/svg\" height=\"24px\"viewBox=\"0 0 24 24\"\n",
              "     width=\"24px\">\n",
              "    <g>\n",
              "        <path d=\"M19 3H5c-1.1 0-2 .9-2 2v14c0 1.1.9 2 2 2h14c1.1 0 2-.9 2-2V5c0-1.1-.9-2-2-2zM9 17H7v-7h2v7zm4 0h-2V7h2v10zm4 0h-2v-4h2v4z\"/>\n",
              "    </g>\n",
              "</svg>\n",
              "  </button>\n",
              "\n",
              "<style>\n",
              "  .colab-df-quickchart {\n",
              "    background-color: #E8F0FE;\n",
              "    border: none;\n",
              "    border-radius: 50%;\n",
              "    cursor: pointer;\n",
              "    display: none;\n",
              "    fill: #1967D2;\n",
              "    height: 32px;\n",
              "    padding: 0 0 0 0;\n",
              "    width: 32px;\n",
              "  }\n",
              "\n",
              "  .colab-df-quickchart:hover {\n",
              "    background-color: #E2EBFA;\n",
              "    box-shadow: 0px 1px 2px rgba(60, 64, 67, 0.3), 0px 1px 3px 1px rgba(60, 64, 67, 0.15);\n",
              "    fill: #174EA6;\n",
              "  }\n",
              "\n",
              "  [theme=dark] .colab-df-quickchart {\n",
              "    background-color: #3B4455;\n",
              "    fill: #D2E3FC;\n",
              "  }\n",
              "\n",
              "  [theme=dark] .colab-df-quickchart:hover {\n",
              "    background-color: #434B5C;\n",
              "    box-shadow: 0px 1px 3px 1px rgba(0, 0, 0, 0.15);\n",
              "    filter: drop-shadow(0px 1px 2px rgba(0, 0, 0, 0.3));\n",
              "    fill: #FFFFFF;\n",
              "  }\n",
              "</style>\n",
              "\n",
              "  <script>\n",
              "    async function quickchart(key) {\n",
              "      const charts = await google.colab.kernel.invokeFunction(\n",
              "          'suggestCharts', [key], {});\n",
              "    }\n",
              "    (() => {\n",
              "      let quickchartButtonEl =\n",
              "        document.querySelector('#df-26ef98fb-5fcf-444b-a55e-f8d7e9ce2f03 button');\n",
              "      quickchartButtonEl.style.display =\n",
              "        google.colab.kernel.accessAllowed ? 'block' : 'none';\n",
              "    })();\n",
              "  </script>\n",
              "</div>\n",
              "    </div>\n",
              "  </div>\n"
            ]
          },
          "metadata": {},
          "execution_count": 16
        }
      ]
    },
    {
      "cell_type": "markdown",
      "source": [
        "## Seed Content"
      ],
      "metadata": {
        "id": "vGPO46ZAeFF9"
      }
    },
    {
      "cell_type": "code",
      "source": [
        "def preprocess_text(text):\n",
        "    # Remove newlines and extra spaces\n",
        "    text = re.sub(r'\\n', ' ', text)\n",
        "    text = re.sub(r'\\s+', ' ', text).strip()\n",
        "\n",
        "    # Remove special characters and numbers\n",
        "    # text = re.sub(r'[^a-zA-Z\\s]', '', text)\n",
        "\n",
        "    # Remove asterisks (*) and backslashes (\\)\n",
        "    text = re.sub(r'[\\*\\\\]', '', text)\n",
        "\n",
        "    # Remove digits at the beginning of lines\n",
        "    text = re.sub(r'^\\d+\\s+', '', text, flags=re.MULTILINE)\n",
        "\n",
        "    return text\n",
        "\n",
        "pd.set_option('display.max_colwidth', None)\n",
        "seed_content = str(min_test_df['Content'].iloc[1])\n",
        "preprocessed_content = preprocess_text(seed_content)\n",
        "print(f'original text\\n{seed_content}\\n\\nprocessed text\\n{preprocessed_content}')"
      ],
      "metadata": {
        "colab": {
          "base_uri": "https://localhost:8080/"
        },
        "id": "OI2qapjLxTVr",
        "outputId": "6d0c5d92-93e5-4779-ac0e-1224d0c99e36"
      },
      "execution_count": 39,
      "outputs": [
        {
          "output_type": "stream",
          "name": "stdout",
          "text": [
            "original text\n",
            "*One...*\n",
            "\n",
            "A methed up woman, screaming something about a demon?\n",
            "\n",
            "*Two...*\n",
            "\n",
            "I remember the first time I killed someone. The shock didn't last long, as another man ran at me, screaming incoherently. Never could tell the difference between late stage mental illness or developmental delays...\n",
            "\n",
            "*Three...*\n",
            "\n",
            "Third one in ten minutes? Must be heading into the bad part of town.\n",
            "\n",
            "They call me in to put down...undesirables.\n",
            "\n",
            "*Four...*\n",
            "\n",
            "You know the types. Hard drug users, the severely mentally disabled, the ones with behavior problems, spoiled people who need to learn the word 'no' the hard way, the works.\n",
            "\n",
            "*Five...*\n",
            "\n",
            "Rich fucks don't want to get their hands dirty; politicians need the dregs of society to go away in order to get votes. Not that I care, I see it as a win-win-win. The more shots I fire off, the more I get paid. The more shots that I fire off in a short amount of time, means I'm about to eat good that week.\n",
            "\n",
            "*Six...*\n",
            " \n",
            "I's an easy job, once the disregard for human life sets in. Lucrative as fuck too. My only advice: pack more ammo than you think you'll need.\n",
            "\n",
            "*Seven...*\n",
            "\n",
            "The roughest parts of my job, though...\n",
            "\n",
            "*EIGHT! NINE! TEN!*\n",
            "\n",
            "Are the kids.\n",
            "\n",
            "*chk-CHK*\n",
            "\n",
            "processed text\n",
            "One... A methed up woman, screaming something about a demon? Two... I remember the first time I killed someone. The shock didn't last long, as another man ran at me, screaming incoherently. Never could tell the difference between late stage mental illness or developmental delays... Three... Third one in ten minutes? Must be heading into the bad part of town. They call me in to put down...undesirables. Four... You know the types. Hard drug users, the severely mentally disabled, the ones with behavior problems, spoiled people who need to learn the word 'no' the hard way, the works. Five... Rich fucks don't want to get their hands dirty; politicians need the dregs of society to go away in order to get votes. Not that I care, I see it as a win-win-win. The more shots I fire off, the more I get paid. The more shots that I fire off in a short amount of time, means I'm about to eat good that week. Six... I's an easy job, once the disregard for human life sets in. Lucrative as fuck too. My only advice: pack more ammo than you think you'll need. Seven... The roughest parts of my job, though... EIGHT! NINE! TEN! Are the kids. chk-CHK\n"
          ]
        }
      ]
    },
    {
      "cell_type": "markdown",
      "source": [
        "## Generating Title and Description"
      ],
      "metadata": {
        "id": "59FwLmWZeNoi"
      }
    },
    {
      "cell_type": "code",
      "source": [
        "import openai"
      ],
      "metadata": {
        "id": "Bt7LXfuDrLka"
      },
      "execution_count": 40,
      "outputs": []
    },
    {
      "cell_type": "code",
      "source": [
        "openai.api_key = os.environ['OPENAI_API_KEY']"
      ],
      "metadata": {
        "id": "Mk1iQvsHevYw"
      },
      "execution_count": 41,
      "outputs": []
    },
    {
      "cell_type": "code",
      "source": [
        "def generate_title(prompt, script):\n",
        "    response = openai.ChatCompletion.create(\n",
        "        model=\"gpt-3.5-turbo\",\n",
        "        messages=[{\"role\": \"system\", \"content\": prompt},\n",
        "                  {\"role\": \"user\", \"content\": script}],\n",
        "        temperature=1,\n",
        "        max_tokens=256,\n",
        "        top_p=1,\n",
        "        frequency_penalty=0,\n",
        "        presence_penalty=0\n",
        "    )\n",
        "\n",
        "    return response.choices[0].message['content']"
      ],
      "metadata": {
        "id": "qxfN8ekhevgD"
      },
      "execution_count": 42,
      "outputs": []
    },
    {
      "cell_type": "code",
      "source": [
        "shorts_title = generate_title(\"Generate a very short title for a YouTube Short based on the script. Make it similar to the examples below. Examples: - Scary things hidden in normal photos Part#28 - This is the scariest video on the internet... - Scary video😳 #shorts\", preprocessed_content)\n",
        "shorts_description = generate_title(\"Generate a very short description for a YouTube Short\", preprocessed_content)\n",
        "\n",
        "shorts_title = shorts_title.replace(\"\\\"\",\"\")\n",
        "shorts_description = shorts_description.replace(\"\\\"\",\"\")\n",
        "\n",
        "print(f'Title: {shorts_title}\\nDescription: {shorts_description}\\n')"
      ],
      "metadata": {
        "colab": {
          "base_uri": "https://localhost:8080/"
        },
        "id": "HGLJkPV5M95C",
        "outputId": "70011ba7-6225-4286-a517-fdaafc42bee0"
      },
      "execution_count": 46,
      "outputs": [
        {
          "output_type": "stream",
          "name": "stdout",
          "text": [
            "Title: Chilling Encounters in the Night #shorts\n",
            "Description: Intense thriller: A hired professional's chilling encounters in a dangerous job\n",
            "\n"
          ]
        }
      ]
    },
    {
      "cell_type": "code",
      "source": [
        "folder_title = shorts_title.replace(\"\\\"\",\"\").split()[0]\n",
        "folder_title"
      ],
      "metadata": {
        "colab": {
          "base_uri": "https://localhost:8080/",
          "height": 36
        },
        "id": "vh1VpRxIzqyA",
        "outputId": "3df51598-5d37-4c41-c544-5ddd0a895d52"
      },
      "execution_count": 47,
      "outputs": [
        {
          "output_type": "execute_result",
          "data": {
            "text/plain": [
              "'Chilling'"
            ],
            "application/vnd.google.colaboratory.intrinsic+json": {
              "type": "string"
            }
          },
          "metadata": {},
          "execution_count": 47
        }
      ]
    },
    {
      "cell_type": "markdown",
      "source": [
        "## Image Prompts"
      ],
      "metadata": {
        "id": "oov31bAReZEZ"
      }
    },
    {
      "cell_type": "code",
      "source": [
        "def generate_image_prompts(gpt_type, prompt, script):\n",
        "    response = openai.ChatCompletion.create(\n",
        "        model=gpt_type,\n",
        "        messages=[{\"role\": \"system\", \"content\": prompt},\n",
        "                  {\"role\": \"user\", \"content\": script}],\n",
        "        temperature=1,\n",
        "        max_tokens=1024,\n",
        "        top_p=1,\n",
        "        frequency_penalty=0,\n",
        "        presence_penalty=0\n",
        "    )\n",
        "\n",
        "    image_prompts_str = response.choices[0].message['content']\n",
        "    image_prompts_str = re.sub(r'[^\\w\\s]', '', image_prompts_str)\n",
        "    image_prompts_str = re.sub(r'[^a-zA-Z\\s]', '', image_prompts_str)\n",
        "    image_prompts = image_prompts_str.lower().split('\\n')\n",
        "    image_prompts = list(map(lambda prompt: f\"{prompt.strip()}\", image_prompts))\n",
        "\n",
        "    return image_prompts"
      ],
      "metadata": {
        "id": "V_lKAVADfOqf"
      },
      "execution_count": 48,
      "outputs": []
    },
    {
      "cell_type": "code",
      "source": [
        "gpt_type = \"gpt-3.5-turbo\"\n",
        "gpt_prompt = \"\"\"\n",
        "  Generate 6 short one liner prompts for DALLE-2/Midjourney/StableDiffusion prompt image generation. The prompt I give will be the script for a video.\n",
        "  Prompts should be very short but descriptive with no NSFW content.\n",
        "\"\"\"\n",
        "image_prompts = generate_image_prompts(gpt_type, gpt_prompt, preprocessed_content)\n",
        "image_prompts"
      ],
      "metadata": {
        "colab": {
          "base_uri": "https://localhost:8080/"
        },
        "id": "KLtIVo2Uwc-_",
        "outputId": "e89015a8-a556-4f87-de88-860905a41727"
      },
      "execution_count": 50,
      "outputs": [
        {
          "output_type": "execute_result",
          "data": {
            "text/plain": [
              "['a frantic woman desperately cries about a relentless demon',\n",
              " 'memories of my first kill haunt me as another man charges towards me lost in his own world',\n",
              " 'tension rises as i enter a dangerous neighborhood to deal with societal outcasts',\n",
              " 'tasked with eliminating those deemed undesirables including drug users and behaviorally challenged individuals',\n",
              " 'profitdriven politics collides with my morally detached mindset as i take down the unwanted',\n",
              " 'with a numb conscience i find wealth and success in a job that requires ample ammunition',\n",
              " 'in the midst of all the chaos its the innocent children that strike a chord within me',\n",
              " 'eight nine ten the stakes escalate as my targets multiply kids unwittingly caught in the crossfire']"
            ]
          },
          "metadata": {},
          "execution_count": 50
        }
      ]
    },
    {
      "cell_type": "markdown",
      "source": [
        "## Image Generation"
      ],
      "metadata": {
        "id": "iIm8bflgeccm"
      }
    },
    {
      "cell_type": "code",
      "source": [
        "import replicate"
      ],
      "metadata": {
        "id": "JnFI2kaGr3jF"
      },
      "execution_count": 51,
      "outputs": []
    },
    {
      "cell_type": "code",
      "source": [
        "client = replicate.Client(api_token=os.environ[\"STABLEDIFFUSION_API_KEY\"])"
      ],
      "metadata": {
        "id": "YXj4SKuvfXoU"
      },
      "execution_count": 52,
      "outputs": []
    },
    {
      "cell_type": "code",
      "source": [
        "def generate_stablediffusion_image(image_prompt):\n",
        "    output = client.run(\n",
        "        \"stability-ai/stable-diffusion:ac732df83cea7fff18b8472768c88ad041fa750ff7682a21affe81863cbe77e4\",\n",
        "        input = {\n",
        "            \"prompt\": image_prompt,\n",
        "            \"height\": 1024,\n",
        "            \"width\": 576,\n",
        "            \"num_outputs\": 1,\n",
        "            \"num_inference_steps\": 50,\n",
        "            \"guidance_scale\": 7.5,\n",
        "            \"scheduler\": 'DPMSolverMultistep',\n",
        "            \"seed\": 42\n",
        "        }\n",
        "    )\n",
        "    return output[0]"
      ],
      "metadata": {
        "id": "RuS4rV4ZfY2d"
      },
      "execution_count": 53,
      "outputs": []
    },
    {
      "cell_type": "code",
      "source": [
        "generated_images = [generate_stablediffusion_image(prompt) for prompt in image_prompts]\n",
        "generated_images"
      ],
      "metadata": {
        "colab": {
          "base_uri": "https://localhost:8080/"
        },
        "id": "PI7tzs5v2NUr",
        "outputId": "9704705c-4c3f-4e5c-82e9-fc71eb4a2331"
      },
      "execution_count": 55,
      "outputs": [
        {
          "output_type": "execute_result",
          "data": {
            "text/plain": [
              "['https://pbxt.replicate.delivery/S77SOYl5n3IcDN6PwfKoMxpUGMX3VLPe0cLHBuPo9PIfRgeFB/out-0.png',\n",
              " 'https://pbxt.replicate.delivery/SDSPcrORtbYfVK7pdDQUe0EMMkqBjeNwsxNHfJ6TPPgMkA9FB/out-0.png',\n",
              " 'https://pbxt.replicate.delivery/IMRvEbTzrmLHGla9vS2jr0GAPPjXISWzLRg2uCz1CzfjEovIA/out-0.png',\n",
              " 'https://pbxt.replicate.delivery/55tfN9XIEPXzDy81KEpqmi1nYlSp1t5kPSHc11dt2vglEovIA/out-0.png',\n",
              " 'https://pbxt.replicate.delivery/xZQAjjWB2W5pCVnStGg179v9jvHOKihNpDjPoClXQc2TC0XE/out-0.png',\n",
              " 'https://pbxt.replicate.delivery/T45DfhH2tet4VkVE6LVfQqVXO5XtnIxzk7TYCkoQk4BmSgeFB/out-0.png',\n",
              " 'https://pbxt.replicate.delivery/F9qfpcfh2wsKKkmsBMcqQKUxvdP6CNef9Ot0hMjvWgqhlA9FB/out-0.png',\n",
              " 'https://pbxt.replicate.delivery/Bztf2VmdXIxJOqj9fqVcD6RW9EXRpSwTYCffeVGRMVDiLB6LC/out-0.png']"
            ]
          },
          "metadata": {},
          "execution_count": 55
        }
      ]
    },
    {
      "cell_type": "code",
      "source": [
        "import urllib.request\n",
        "\n",
        "# Set the directory path to save the images\n",
        "directory_path = f\"/content/drive/MyDrive/Colab Notebooks/UD/{folder_title}/img\"\n",
        "\n",
        "# Create the directory if it does not exist\n",
        "if not os.path.exists(directory_path):\n",
        "    os.makedirs(directory_path)\n",
        "\n",
        "# Save the images to the folder\n",
        "for i, image_url in enumerate(generated_images):\n",
        "    file_path = f\"{directory_path}/image_{i+1}.jpg\"\n",
        "    urllib.request.urlretrieve(image_url, file_path)\n",
        "    print(f\"Image {i+1} saved successfully at {file_path}.\")"
      ],
      "metadata": {
        "colab": {
          "base_uri": "https://localhost:8080/"
        },
        "outputId": "1b306128-86a9-4651-cfbc-668a2022b223",
        "id": "VfwhTKrLxwVc"
      },
      "execution_count": 56,
      "outputs": [
        {
          "output_type": "stream",
          "name": "stdout",
          "text": [
            "Image 1 saved successfully at /content/drive/MyDrive/Colab Notebooks/UD/Chilling/img/image_1.jpg.\n",
            "Image 2 saved successfully at /content/drive/MyDrive/Colab Notebooks/UD/Chilling/img/image_2.jpg.\n",
            "Image 3 saved successfully at /content/drive/MyDrive/Colab Notebooks/UD/Chilling/img/image_3.jpg.\n",
            "Image 4 saved successfully at /content/drive/MyDrive/Colab Notebooks/UD/Chilling/img/image_4.jpg.\n",
            "Image 5 saved successfully at /content/drive/MyDrive/Colab Notebooks/UD/Chilling/img/image_5.jpg.\n",
            "Image 6 saved successfully at /content/drive/MyDrive/Colab Notebooks/UD/Chilling/img/image_6.jpg.\n",
            "Image 7 saved successfully at /content/drive/MyDrive/Colab Notebooks/UD/Chilling/img/image_7.jpg.\n",
            "Image 8 saved successfully at /content/drive/MyDrive/Colab Notebooks/UD/Chilling/img/image_8.jpg.\n"
          ]
        }
      ]
    },
    {
      "cell_type": "markdown",
      "source": [
        "## Audio Generation"
      ],
      "metadata": {
        "id": "gIOLbbV0efjx"
      }
    },
    {
      "cell_type": "code",
      "source": [
        "from elevenlabs import set_api_key, generate, play"
      ],
      "metadata": {
        "id": "EaKvFviChB4j"
      },
      "execution_count": 57,
      "outputs": []
    },
    {
      "cell_type": "code",
      "source": [
        "set_api_key(os.environ[\"ELEVENLABS_API_KEY\"])"
      ],
      "metadata": {
        "id": "cXnkw3-tsWDp"
      },
      "execution_count": 58,
      "outputs": []
    },
    {
      "cell_type": "code",
      "source": [
        "# Generate audio using 'elevenlabs' package\n",
        "audio = generate(\n",
        "    text=preprocessed_content,\n",
        "    voice=\"Nicole\",\n",
        "    model=\"eleven_monolingual_v1\"\n",
        ")\n",
        "\n",
        "# Set the directory path to save the images\n",
        "directory_path = f\"/content/drive/MyDrive/Colab Notebooks/UD/{folder_title}/aud\"\n",
        "\n",
        "# Create the directory if it does not exist\n",
        "if not os.path.exists(directory_path):\n",
        "    os.makedirs(directory_path)\n",
        "\n",
        "audio_file_path = os.path.join(directory_path, f\"audio_0.wav\")\n",
        "\n",
        "# Save the generated audio to the temporary directory\n",
        "with open(audio_file_path, 'wb') as f:\n",
        "    f.write(audio)"
      ],
      "metadata": {
        "id": "Snmv08Bzx5t-"
      },
      "execution_count": 59,
      "outputs": []
    },
    {
      "cell_type": "markdown",
      "source": [
        "## Compositing"
      ],
      "metadata": {
        "id": "FlJ3hPsVehWw"
      }
    },
    {
      "cell_type": "code",
      "source": [
        "from moviepy.editor import ImageClip, concatenate_videoclips\n",
        "from moviepy.editor import AudioFileClip\n",
        "\n",
        "# Paths to images and audio\n",
        "images_folder = f'/content/drive/MyDrive/Colab Notebooks/UD/{folder_title}/img/'\n",
        "audio_file_path = f'/content/drive/MyDrive/Colab Notebooks/UD/{folder_title}/aud/audio_0.wav'\n",
        "\n",
        "# Get image files from the folder. Sort image files by name. Create a list of image paths\n",
        "image_files = [f for f in os.listdir(images_folder) if f.endswith('.jpg')]\n",
        "image_files.sort()\n",
        "image_paths = [os.path.join(images_folder, f) for f in image_files]\n",
        "\n",
        "# Load audio clip\n",
        "audio_clip = AudioFileClip(audio_file_path)\n",
        "\n",
        "# Calculate duration per image\n",
        "duration_per_image = audio_clip.duration / len(image_paths)\n",
        "\n",
        "# Create video clips for each image\n",
        "video_clips = []\n",
        "for image_path in image_paths:\n",
        "    img_clip = ImageClip(image_path, duration=duration_per_image).resize((1080, 1920))\n",
        "    video_clips.append(img_clip)\n",
        "\n",
        "# Concatenate video clips. Set audio for the concatenated video. Set the FPS for the final video\n",
        "concatenated_clips = concatenate_videoclips(video_clips, method=\"compose\")\n",
        "final_clip = concatenated_clips.set_audio(audio_clip)\n",
        "final_clip.fps = 24\n",
        "\n",
        "# Set the directory path to save the images. Create the directory if it does not exist\n",
        "directory_path = f\"/content/drive/MyDrive/Colab Notebooks/UD/{folder_title}/output\"\n",
        "if not os.path.exists(directory_path):\n",
        "    os.makedirs(directory_path)\n",
        "\n",
        "# Export the video\n",
        "formatted_timestamp = datetime.now().strftime('%Y%m%d%H%M%S')\n",
        "output_video_path = directory_path+f'/output_{formatted_timestamp}_reddit.mp4'\n",
        "final_clip.write_videofile(output_video_path, codec='libx264', threads=4)"
      ],
      "metadata": {
        "colab": {
          "base_uri": "https://localhost:8080/"
        },
        "outputId": "cdd7c6cc-d125-4d7e-826c-f35dfa8319c2",
        "collapsed": true,
        "id": "PIOZR_MOybVm"
      },
      "execution_count": 66,
      "outputs": [
        {
          "output_type": "stream",
          "name": "stdout",
          "text": [
            "Moviepy - Building video /content/drive/MyDrive/Colab Notebooks/UD/Chilling/output/output_20230830142738_reddit.mp4.\n",
            "MoviePy - Writing audio in output_20230830142738_redditTEMP_MPY_wvf_snd.mp3\n"
          ]
        },
        {
          "output_type": "stream",
          "name": "stderr",
          "text": []
        },
        {
          "output_type": "stream",
          "name": "stdout",
          "text": [
            "MoviePy - Done.\n",
            "Moviepy - Writing video /content/drive/MyDrive/Colab Notebooks/UD/Chilling/output/output_20230830142738_reddit.mp4\n",
            "\n"
          ]
        },
        {
          "output_type": "stream",
          "name": "stderr",
          "text": []
        },
        {
          "output_type": "stream",
          "name": "stdout",
          "text": [
            "Moviepy - Done !\n",
            "Moviepy - video ready /content/drive/MyDrive/Colab Notebooks/UD/Chilling/output/output_20230830142738_reddit.mp4\n"
          ]
        }
      ]
    },
    {
      "cell_type": "code",
      "source": [
        "import cv2\n",
        "from moviepy.editor import VideoFileClip\n",
        "\n",
        "def pipeline(frame, word):\n",
        "    global curr_frame\n",
        "\n",
        "    if curr_frame < frames_per_word and len(word) > 0:\n",
        "        text = word[0]\n",
        "    elif curr_frame >= frames_per_word:\n",
        "        if len(word) > 1:\n",
        "            text = word.pop(0)\n",
        "        else:\n",
        "            text = word[0]\n",
        "\n",
        "        curr_frame = 0\n",
        "\n",
        "    curr_frame += 1\n",
        "\n",
        "    cv2.resize(frame, (1080, 1920))\n",
        "\n",
        "    height, width, _ = frame.shape\n",
        "\n",
        "    (text_width, text_height), _ = cv2.getTextSize(text, cv2.FONT_ITALIC, 4, 50)\n",
        "\n",
        "    text_x = (width - text_width) // 2\n",
        "    text_y = (height + text_height) // 2\n",
        "\n",
        "    cv2.putText(frame, text, (text_x, text_y), cv2.FONT_ITALIC, 4, (0, 0, 0), 50, cv2.LINE_AA)\n",
        "    cv2.putText(frame, text, (text_x, text_y), cv2.FONT_ITALIC, 4, (255, 255, 255), 10, cv2.LINE_AA)\n",
        "\n",
        "    return frame\n",
        "\n",
        "curr_frame = 0\n",
        "words = [word.replace(\",\", \"\").replace(\".\", \"\") for word in preprocessed_content.upper().split()]\n",
        "total_frames = int(cv2.VideoCapture(output_video_path).get(cv2.CAP_PROP_FRAME_COUNT))\n",
        "frames_per_word = int(total_frames / len(words))\n",
        "\n",
        "input_video_path = output_video_path\n",
        "new_output_video_path = directory_path+f\"/output_{formatted_timestamp}_caption_reddit.mp4\"\n",
        "\n",
        "video = VideoFileClip(input_video_path)\n",
        "out_video = video.fl_image(lambda frame: pipeline(frame, words))\n",
        "out_video.write_videofile(new_output_video_path, audio=True, preset='ultrafast')"
      ],
      "metadata": {
        "colab": {
          "base_uri": "https://localhost:8080/"
        },
        "id": "bwnT_qAtAqaI",
        "outputId": "8547a3e9-9047-4269-dd9c-23e874babeb1"
      },
      "execution_count": 67,
      "outputs": [
        {
          "output_type": "stream",
          "name": "stdout",
          "text": [
            "Moviepy - Building video /content/drive/MyDrive/Colab Notebooks/UD/Chilling/output/output_20230830142738_caption_reddit.mp4.\n",
            "MoviePy - Writing audio in output_20230830142738_caption_redditTEMP_MPY_wvf_snd.mp3\n"
          ]
        },
        {
          "output_type": "stream",
          "name": "stderr",
          "text": []
        },
        {
          "output_type": "stream",
          "name": "stdout",
          "text": [
            "MoviePy - Done.\n",
            "Moviepy - Writing video /content/drive/MyDrive/Colab Notebooks/UD/Chilling/output/output_20230830142738_caption_reddit.mp4\n",
            "\n"
          ]
        },
        {
          "output_type": "stream",
          "name": "stderr",
          "text": [
            "t: 100%|█████████▉| 1870/1873 [01:20<00:00, 30.80it/s, now=None]WARNING:py.warnings:/usr/local/lib/python3.10/dist-packages/moviepy/video/io/ffmpeg_reader.py:123: UserWarning: Warning: in file /content/drive/MyDrive/Colab Notebooks/UD/Chilling/output/output_20230830142738_reddit.mp4, 6220800 bytes wanted but 0 bytes read,at frame 1872/1873, at time 78.00/78.03 sec. Using the last valid frame instead.\n",
            "  warnings.warn(\"Warning: in file %s, \"%(self.filename)+\n",
            "\n"
          ]
        },
        {
          "output_type": "stream",
          "name": "stdout",
          "text": [
            "Moviepy - Done !\n",
            "Moviepy - video ready /content/drive/MyDrive/Colab Notebooks/UD/Chilling/output/output_20230830142738_caption_reddit.mp4\n"
          ]
        }
      ]
    },
    {
      "cell_type": "markdown",
      "source": [
        "## Uploading"
      ],
      "metadata": {
        "id": "vz3k9tFTejV8"
      }
    },
    {
      "cell_type": "code",
      "source": [
        "import google.auth\n",
        "import google_auth_oauthlib.flow\n",
        "import googleapiclient.discovery\n",
        "import googleapiclient.errors\n",
        "from google.auth.transport.requests import Request\n",
        "from google.oauth2.credentials import Credentials"
      ],
      "metadata": {
        "id": "g-4jxD35iG0W"
      },
      "execution_count": 68,
      "outputs": []
    },
    {
      "cell_type": "code",
      "source": [
        "# Load authorized user info from file\n",
        "with open('/content/drive/MyDrive/Colab Notebooks/UD/token.json', 'r') as file:\n",
        "    authorized_user_info = json.load(file)\n",
        "\n",
        "creds = Credentials.from_authorized_user_info(authorized_user_info, ['https://www.googleapis.com/auth/youtube.upload'])\n",
        "creds.refresh(Request())\n",
        "credentials = creds\n",
        "\n",
        "youtube = googleapiclient.discovery.build('youtube', 'v3', credentials=credentials)"
      ],
      "metadata": {
        "id": "FquVmMLzC5OG"
      },
      "execution_count": 69,
      "outputs": []
    },
    {
      "cell_type": "code",
      "source": [
        "# Define the function to upload the video file\n",
        "def upload_short(video_title, video_description, video_file_path):\n",
        "    request = youtube.videos().insert(\n",
        "        part=\"snippet,status\",\n",
        "        body={\n",
        "            \"snippet\": {\n",
        "                \"title\": video_title,\n",
        "                \"description\": video_description,\n",
        "                \"defaultLanguage\": \"en\",\n",
        "                \"defaultAudioLanguage\": \"en\"\n",
        "            },\n",
        "            \"status\": {\n",
        "                \"privacyStatus\": \"private\",\n",
        "                \"madeForKids\": False,\n",
        "                \"selfDeclaredMadeForKids\": False,\n",
        "                \"embeddable\": True,\n",
        "                \"license\": \"youtube\",\n",
        "                \"publicStatsViewable\": True\n",
        "            },\n",
        "        },\n",
        "        media_body=googleapiclient.http.MediaFileUpload(video_file_path),\n",
        "    )\n",
        "    response = request.execute()\n",
        "    return response"
      ],
      "metadata": {
        "id": "zIFW2nHIiDVx"
      },
      "execution_count": 70,
      "outputs": []
    },
    {
      "cell_type": "code",
      "source": [
        "# Call the upload function with your desired parameters\n",
        "response = upload_short(shorts_title, shorts_description, new_output_video_path)\n",
        "response"
      ],
      "metadata": {
        "id": "PKG41khpiDgZ",
        "colab": {
          "base_uri": "https://localhost:8080/"
        },
        "outputId": "2211c9cc-d3d0-4a21-96cd-485607ca8c5b"
      },
      "execution_count": 71,
      "outputs": [
        {
          "output_type": "execute_result",
          "data": {
            "text/plain": [
              "{'kind': 'youtube#video',\n",
              " 'etag': 'jZrr0kt2k8zt-V2CJFXXwlXtEa4',\n",
              " 'id': 's4L17sKF5vc',\n",
              " 'snippet': {'publishedAt': '2023-08-30T14:36:36Z',\n",
              "  'channelId': 'UCWdV2EMmhOMenikQpuFdWog',\n",
              "  'title': 'Chilling Encounters in the Night #shorts',\n",
              "  'description': \"Intense thriller: A hired professional's chilling encounters in a dangerous job\",\n",
              "  'thumbnails': {'default': {'url': 'https://i9.ytimg.com/vi/s4L17sKF5vc/default.jpg?sqp=CJSnvacG&rs=AOn4CLC_gOrZQf_U7QSeRUq0KqoJ3Vbk5w',\n",
              "    'width': 120,\n",
              "    'height': 90},\n",
              "   'medium': {'url': 'https://i9.ytimg.com/vi/s4L17sKF5vc/mqdefault.jpg?sqp=CJSnvacG&rs=AOn4CLBGIHfea9BMoc3K3RK9_XNLsNdndA',\n",
              "    'width': 320,\n",
              "    'height': 180},\n",
              "   'high': {'url': 'https://i9.ytimg.com/vi/s4L17sKF5vc/hqdefault.jpg?sqp=CJSnvacG&rs=AOn4CLDrWt10Yes2mCBPTYj11NtklOJdbQ',\n",
              "    'width': 480,\n",
              "    'height': 360}},\n",
              "  'channelTitle': 'Nikhil Nair',\n",
              "  'categoryId': '22',\n",
              "  'liveBroadcastContent': 'none',\n",
              "  'defaultLanguage': 'en',\n",
              "  'localized': {'title': 'Chilling Encounters in the Night #shorts',\n",
              "   'description': \"Intense thriller: A hired professional's chilling encounters in a dangerous job\"},\n",
              "  'defaultAudioLanguage': 'en'},\n",
              " 'status': {'uploadStatus': 'uploaded',\n",
              "  'privacyStatus': 'private',\n",
              "  'license': 'youtube',\n",
              "  'embeddable': True,\n",
              "  'publicStatsViewable': True,\n",
              "  'selfDeclaredMadeForKids': False}}"
            ]
          },
          "metadata": {},
          "execution_count": 71
        }
      ]
    }
  ]
}